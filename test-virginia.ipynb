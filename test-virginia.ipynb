{
 "cells": [
  {
   "cell_type": "code",
   "execution_count": null,
   "metadata": {
    "autoscroll": false,
    "collapsed": false,
    "ein.hycell": false,
    "ein.tags": "worksheet-0",
    "slideshow": {
     "slide_type": "-"
    }
   },
   "outputs": [],
   "source": [
    "\n",
    "! pip install --quiet fuzzywuzzy\n",
    "! pip install --quiet nltk\n",
    "! pip install --quiet diskcache\n",
    "! pip install --quiet python-Levenshtein\n",
    "! pip install --quiet lightgbm\n",
    "! pip install --quiet lime\n",
    "! pip install -e 'git://github.com/nandanrao/embed-software.git#egg=embed_software'"
   ]
  },
  {
   "cell_type": "code",
   "execution_count": null,
   "metadata": {
    "autoscroll": false,
    "collapsed": false,
    "ein.hycell": false,
    "ein.tags": "worksheet-0",
    "slideshow": {
     "slide_type": "-"
    }
   },
   "outputs": [],
   "source": [
    "! conda install -c numba --yes numba"
   ]
  },
  {
   "cell_type": "code",
   "execution_count": 2,
   "metadata": {
    "autoscroll": false,
    "collapsed": false,
    "ein.hycell": false,
    "ein.tags": "worksheet-0",
    "slideshow": {
     "slide_type": "-"
    }
   },
   "outputs": [
    {
     "name": "stdout",
     "output_type": "stream",
     "text": [
      "The autoreload extension is already loaded. To reload it, use:\n",
      "  %reload_ext autoreload\n"
     ]
    }
   ],
   "source": [
    "%load_ext autoreload\n",
    "%autoreload 2\n",
    "\n",
    "import pandas as pd\n",
    "import numpy as np\n",
    "import re\n",
    "import attr\n",
    "from sklearn.pipeline import Pipeline\n",
    "from sklearn.metrics import accuracy_score\n",
    "\n",
    "from sklearn.feature_extraction.text import TfidfVectorizer\n",
    "from sklearn.linear_model import LogisticRegression\n",
    "from sklearn.neighbors import KNeighborsClassifier\n",
    "from sklearn.metrics import classification_report, confusion_matrix\n",
    "from sklearn.svm import SVC\n",
    "from lightgbm import LGBMClassifier\n",
    "from scipy.sparse import vstack \n",
    "\n",
    "from validation.data import indeed_test_data, dot_train_data, get_soc_n\n",
    "from embed_software.preprocess import *\n",
    "from embed_software.utils import get_embeddings, embed_docs\n",
    "from validation.dot_data import LemmaTokenizer, get_dictionary\n",
    "from classification.embedding import PreEmbeddedVectorizer, Embedding, WordEmbeddingVectorizer\n",
    "\n",
    "pd.set_option('max_colwidth',50)\n",
    "\n",
    "import matplotlib.pyplot as plt\n",
    "plt.rcParams['figure.figsize'] = [15, 10]"
   ]
  },
  {
   "cell_type": "code",
   "execution_count": 3,
   "metadata": {
    "autoscroll": false,
    "collapsed": false,
    "ein.hycell": false,
    "ein.tags": "worksheet-0",
    "slideshow": {
     "slide_type": "-"
    }
   },
   "outputs": [],
   "source": [
    "from itertools import islice\n",
    "from embed_software.preprocess import claims_processor, readme_processor, Preprocessor\n",
    "import json\n",
    "from toolz import dissoc\n",
    "\n",
    "string_processor = Preprocessor(readme_processor, 4).process\n",
    "\n",
    "def virginia_data(path):\n",
    "    with open(path) as f:\n",
    "        dat = (json.loads(l) for l in f)\n",
    "        dat = (dissoc(d, '@context', '@type', 'jobLocation', 'baseSalary', '_id') for d in dat)\n",
    "        dat = list(dat)\n",
    "    return dat\n",
    "\n",
    "def virginia_test_data(path, N):\n",
    "    dat = virginia_data(path)\n",
    "    df = pd.DataFrame(dat)\n",
    "    descriptions = df.description.map(string_processor)\n",
    "    codes = df.onet_soc_code\n",
    "    idx = codes != ''\n",
    "    codes = get_soc_n(codes[idx], N)\n",
    "    return descriptions[idx], codes, df\n"
   ]
  },
  {
   "cell_type": "code",
   "execution_count": 4,
   "metadata": {
    "autoscroll": false,
    "collapsed": false,
    "ein.hycell": false,
    "ein.tags": "worksheet-0",
    "slideshow": {
     "slide_type": "-"
    }
   },
   "outputs": [],
   "source": [
    "SOC_LEVEL = 6"
   ]
  },
  {
   "cell_type": "code",
   "execution_count": null,
   "metadata": {
    "autoscroll": false,
    "collapsed": false,
    "ein.hycell": false,
    "ein.tags": "worksheet-0",
    "slideshow": {
     "slide_type": "-"
    }
   },
   "outputs": [],
   "source": [
    "X_train, y_train = dot_train_data(SOC_LEVEL)\n",
    "X_test, y_test, va_df = virginia_test_data('../data/va_job_posts.json', SOC_LEVEL)\n",
    "# X_test, y_test = matches.description, get_soc_n(matches.code, 6)\n",
    "X_test = X_test.map(string_processor)"
   ]
  },
  {
   "cell_type": "code",
   "execution_count": 13,
   "metadata": {
    "autoscroll": false,
    "collapsed": false,
    "ein.hycell": false,
    "ein.tags": "worksheet-0",
    "slideshow": {
     "slide_type": "-"
    }
   },
   "outputs": [],
   "source": [
    "va_df['title'] = va_df.title.str.lower()"
   ]
  },
  {
   "cell_type": "code",
   "execution_count": 15,
   "metadata": {
    "autoscroll": false,
    "collapsed": false,
    "ein.hycell": false,
    "ein.tags": "worksheet-0",
    "slideshow": {
     "slide_type": "-"
    }
   },
   "outputs": [],
   "source": [
    "from validation.data import make_matcher\n",
    "\n",
    "d = va_df[va_df.onet_soc_code.notna()].reset_index()\n",
    "matcher = make_matcher()\n",
    "matches = matcher(d).set_index('index')"
   ]
  },
  {
   "cell_type": "code",
   "execution_count": null,
   "metadata": {
    "autoscroll": false,
    "collapsed": false,
    "ein.hycell": false,
    "ein.tags": "worksheet-0",
    "slideshow": {
     "slide_type": "-"
    }
   },
   "outputs": [],
   "source": [
    "# matches[['title', 'assigned_title', 'code', 'onet_soc_code', 'occupationalCategory']].head(20).loc[352]"
   ]
  },
  {
   "cell_type": "code",
   "execution_count": null,
   "metadata": {
    "autoscroll": false,
    "collapsed": false,
    "ein.hycell": false,
    "ein.tags": "worksheet-0",
    "slideshow": {
     "slide_type": "-"
    }
   },
   "outputs": [],
   "source": [
    "model = Pipeline([('glove_100_va', WordEmbeddingVectorizer('../glove-models/glove-va-100.txt')),\n",
    "                  ('lr', LogisticRegression(C=5., solver='newton-cg', class_weight='balanced', multi_class=\"multinomial\", n_jobs=-1))])\n",
    "\n",
    "model.fit(X_train, y_train)"
   ]
  },
  {
   "cell_type": "code",
   "execution_count": null,
   "metadata": {
    "autoscroll": false,
    "collapsed": false,
    "ein.hycell": false,
    "ein.tags": "worksheet-0",
    "slideshow": {
     "slide_type": "-"
    }
   },
   "outputs": [],
   "source": [
    "model = Pipeline([('sentencespace_100_va', PreEmbeddedVectorizer('../ss-models/va-ss-100', cache_dir='va_embed_cache')),\n",
    "                  ('lr', LogisticRegression(C=5., solver='newton-cg', class_weight='balanced', multi_class=\"multinomial\", n_jobs=-1))])\n",
    "\n",
    "model.fit(X_train, y_train)"
   ]
  },
  {
   "cell_type": "code",
   "execution_count": 10,
   "metadata": {
    "autoscroll": false,
    "collapsed": false,
    "ein.hycell": false,
    "ein.tags": "worksheet-0",
    "slideshow": {
     "slide_type": "-"
    }
   },
   "outputs": [],
   "source": [
    "def _get_soc_n(df, n):\n",
    "    return (df.T\n",
    "            .reset_index()\n",
    "            .pipe(lambda df: df.assign(soc = df['index'].map(lambda i: str(i)[0:n])))\n",
    "            .set_index('soc')\n",
    "            .drop('index', 1)\n",
    "            .groupby('soc').sum().T)\n",
    "\n",
    "\n",
    "def get_pred(model, X):\n",
    "    vals = model.predict_proba(X)\n",
    "    df = pd.DataFrame(vals)\n",
    "    df.columns = model.classes_\n",
    "    n=3\n",
    "    return _get_soc_n(df, n)\n",
    "\n",
    "class UpscaleModel(LogisticRegression):\n",
    "    def predict_soc_n(self, X, n):\n",
    "        preds = self.predict_proba(X)\n",
    "        df = pd.DataFrame(preds)\n",
    "        df.columns = labels\n",
    "        return self._get_soc_n(df, n)\n",
    "    \n",
    "    \n",
    "def make_title_lookup(path, N):\n",
    "    dot_codes = get_dictionary('', N).groupby('soc').first()\n",
    "    d = dot_codes[f'desc_soc{N}'].to_dict()\n",
    "    def lookup(code):\n",
    "        try:\n",
    "            return d[int(code)]\n",
    "        except KeyError:\n",
    "            return code\n",
    "    return lookup"
   ]
  },
  {
   "cell_type": "code",
   "execution_count": 21,
   "metadata": {
    "autoscroll": false,
    "collapsed": false,
    "ein.hycell": false,
    "ein.tags": "worksheet-0",
    "slideshow": {
     "slide_type": "-"
    }
   },
   "outputs": [],
   "source": [
    "from validation.data import get_title_lookup\n",
    "from validation.scoring import bubbleup_score\n",
    "\n",
    "\n",
    "title_lookup = get_title_lookup('crosswalks')\n",
    "title_lookup['code'] = get_soc_n(title_lookup.code, 6)"
   ]
  },
  {
   "cell_type": "code",
   "execution_count": 30,
   "metadata": {
    "autoscroll": false,
    "collapsed": false,
    "ein.hycell": false,
    "ein.tags": "worksheet-0",
    "slideshow": {
     "slide_type": "-"
    }
   },
   "outputs": [],
   "source": [
    "! pip install --quiet strsim"
   ]
  },
  {
   "cell_type": "code",
   "execution_count": 58,
   "metadata": {
    "autoscroll": false,
    "collapsed": false,
    "ein.hycell": false,
    "ein.tags": "worksheet-0",
    "slideshow": {
     "slide_type": "-"
    }
   },
   "outputs": [],
   "source": [
    "from similarity.qgram import QGram\n",
    "\n",
    "qgram = QGram(1)"
   ]
  },
  {
   "cell_type": "code",
   "execution_count": null,
   "metadata": {
    "autoscroll": false,
    "collapsed": false,
    "ein.hycell": false,
    "ein.tags": "worksheet-0",
    "slideshow": {
     "slide_type": "-"
    }
   },
   "outputs": [],
   "source": [
    "lookup"
   ]
  },
  {
   "cell_type": "code",
   "execution_count": 155,
   "metadata": {
    "autoscroll": false,
    "collapsed": false,
    "ein.hycell": false,
    "ein.tags": "worksheet-0",
    "slideshow": {
     "slide_type": "-"
    }
   },
   "outputs": [
    {
     "data": {
      "text/plain": [
       "1     111011\n",
       "2     111011\n",
       "18    111011\n",
       "50    111011\n",
       "17    111011\n",
       "Name: code, dtype: int64"
      ]
     },
     "execution_count": 155,
     "metadata": {},
     "output_type": "execute_result"
    }
   ],
   "source": [
    "from similarity.metric_lcs import MetricLCS\n",
    "\n",
    "def string_match_title(title_lookup, title, codes):\n",
    "    lookup = title_lookup[title_lookup.code.isin(codes)].reset_index(drop=True)\n",
    "\n",
    "    lcs = MetricLCS()\n",
    "    lookup['distance'] = [lcs.distance(x.split(), title.split()) for x in lookup.title]\n",
    "    top_guesses = lookup.sort_values('distance').code[:5]\n",
    "    return top_guesses\n",
    "\n",
    "string_match_title(title_lookup, 'chief officer', [112011, 111011])"
   ]
  },
  {
   "cell_type": "code",
   "execution_count": 150,
   "metadata": {
    "autoscroll": false,
    "collapsed": false,
    "ein.hycell": false,
    "ein.tags": "worksheet-0",
    "slideshow": {
     "slide_type": "-"
    }
   },
   "outputs": [
    {
     "data": {
      "text/html": [
       "<div>\n",
       "<style scoped>\n",
       "    .dataframe tbody tr th:only-of-type {\n",
       "        vertical-align: middle;\n",
       "    }\n",
       "\n",
       "    .dataframe tbody tr th {\n",
       "        vertical-align: top;\n",
       "    }\n",
       "\n",
       "    .dataframe thead th {\n",
       "        text-align: right;\n",
       "    }\n",
       "</style>\n",
       "<table border=\"1\" class=\"dataframe\">\n",
       "  <thead>\n",
       "    <tr style=\"text-align: right;\">\n",
       "      <th></th>\n",
       "      <th>title</th>\n",
       "      <th>code</th>\n",
       "    </tr>\n",
       "  </thead>\n",
       "  <tbody>\n",
       "    <tr>\n",
       "      <th>0</th>\n",
       "      <td>ceo</td>\n",
       "      <td>111011</td>\n",
       "    </tr>\n",
       "    <tr>\n",
       "      <th>1</th>\n",
       "      <td>chief executive officer</td>\n",
       "      <td>111011</td>\n",
       "    </tr>\n",
       "    <tr>\n",
       "      <th>2</th>\n",
       "      <td>chief operating officer</td>\n",
       "      <td>111011</td>\n",
       "    </tr>\n",
       "    <tr>\n",
       "      <th>3</th>\n",
       "      <td>commissioner of internal revenue</td>\n",
       "      <td>111011</td>\n",
       "    </tr>\n",
       "    <tr>\n",
       "      <th>4</th>\n",
       "      <td>coo</td>\n",
       "      <td>111011</td>\n",
       "    </tr>\n",
       "    <tr>\n",
       "      <th>5</th>\n",
       "      <td>county commissioner</td>\n",
       "      <td>111011</td>\n",
       "    </tr>\n",
       "    <tr>\n",
       "      <th>6</th>\n",
       "      <td>government service executive</td>\n",
       "      <td>111011</td>\n",
       "    </tr>\n",
       "    <tr>\n",
       "      <th>7</th>\n",
       "      <td>governor</td>\n",
       "      <td>111011</td>\n",
       "    </tr>\n",
       "    <tr>\n",
       "      <th>8</th>\n",
       "      <td>mayor</td>\n",
       "      <td>111011</td>\n",
       "    </tr>\n",
       "    <tr>\n",
       "      <th>9</th>\n",
       "      <td>department store general manager</td>\n",
       "      <td>111021</td>\n",
       "    </tr>\n",
       "    <tr>\n",
       "      <th>10</th>\n",
       "      <td>manufacturing operations manager</td>\n",
       "      <td>111021</td>\n",
       "    </tr>\n",
       "    <tr>\n",
       "      <th>11</th>\n",
       "      <td>television station manager</td>\n",
       "      <td>111021</td>\n",
       "    </tr>\n",
       "    <tr>\n",
       "      <th>12</th>\n",
       "      <td>city alderman</td>\n",
       "      <td>111031</td>\n",
       "    </tr>\n",
       "    <tr>\n",
       "      <th>13</th>\n",
       "      <td>city council member</td>\n",
       "      <td>111031</td>\n",
       "    </tr>\n",
       "    <tr>\n",
       "      <th>14</th>\n",
       "      <td>congressional representative</td>\n",
       "      <td>111031</td>\n",
       "    </tr>\n",
       "    <tr>\n",
       "      <th>15</th>\n",
       "      <td>councilor</td>\n",
       "      <td>111031</td>\n",
       "    </tr>\n",
       "    <tr>\n",
       "      <th>16</th>\n",
       "      <td>legislator</td>\n",
       "      <td>111031</td>\n",
       "    </tr>\n",
       "    <tr>\n",
       "      <th>17</th>\n",
       "      <td>member of congress</td>\n",
       "      <td>111031</td>\n",
       "    </tr>\n",
       "    <tr>\n",
       "      <th>18</th>\n",
       "      <td>selectman</td>\n",
       "      <td>111031</td>\n",
       "    </tr>\n",
       "    <tr>\n",
       "      <th>19</th>\n",
       "      <td>senator</td>\n",
       "      <td>111031</td>\n",
       "    </tr>\n",
       "    <tr>\n",
       "      <th>20</th>\n",
       "      <td>tribal council member</td>\n",
       "      <td>111031</td>\n",
       "    </tr>\n",
       "    <tr>\n",
       "      <th>21</th>\n",
       "      <td>advertising executive</td>\n",
       "      <td>112011</td>\n",
       "    </tr>\n",
       "    <tr>\n",
       "      <th>22</th>\n",
       "      <td>advertising manager</td>\n",
       "      <td>112011</td>\n",
       "    </tr>\n",
       "    <tr>\n",
       "      <th>23</th>\n",
       "      <td>classified advertising manager</td>\n",
       "      <td>112011</td>\n",
       "    </tr>\n",
       "    <tr>\n",
       "      <th>24</th>\n",
       "      <td>promotion manager</td>\n",
       "      <td>112011</td>\n",
       "    </tr>\n",
       "    <tr>\n",
       "      <th>25</th>\n",
       "      <td>promotions director</td>\n",
       "      <td>112011</td>\n",
       "    </tr>\n",
       "    <tr>\n",
       "      <th>26</th>\n",
       "      <td>vp advertising</td>\n",
       "      <td>112011</td>\n",
       "    </tr>\n",
       "    <tr>\n",
       "      <th>27</th>\n",
       "      <td>vp promotions</td>\n",
       "      <td>112011</td>\n",
       "    </tr>\n",
       "    <tr>\n",
       "      <th>28</th>\n",
       "      <td>internet marketing manager</td>\n",
       "      <td>112021</td>\n",
       "    </tr>\n",
       "    <tr>\n",
       "      <th>29</th>\n",
       "      <td>marketing administrator</td>\n",
       "      <td>112021</td>\n",
       "    </tr>\n",
       "    <tr>\n",
       "      <th>...</th>\n",
       "      <td>...</td>\n",
       "      <td>...</td>\n",
       "    </tr>\n",
       "    <tr>\n",
       "      <th>39049</th>\n",
       "      <td>sonar technician (surface)</td>\n",
       "      <td>553017</td>\n",
       "    </tr>\n",
       "    <tr>\n",
       "      <th>39050</th>\n",
       "      <td>amphibian crewmember</td>\n",
       "      <td>553018</td>\n",
       "    </tr>\n",
       "    <tr>\n",
       "      <th>39051</th>\n",
       "      <td>reconnaissance crewmember</td>\n",
       "      <td>553018</td>\n",
       "    </tr>\n",
       "    <tr>\n",
       "      <th>39052</th>\n",
       "      <td>survival specialist</td>\n",
       "      <td>553018</td>\n",
       "    </tr>\n",
       "    <tr>\n",
       "      <th>39053</th>\n",
       "      <td>airborne sensor specialist</td>\n",
       "      <td>553019</td>\n",
       "    </tr>\n",
       "    <tr>\n",
       "      <th>39054</th>\n",
       "      <td>antitank assault gunner</td>\n",
       "      <td>553019</td>\n",
       "    </tr>\n",
       "    <tr>\n",
       "      <th>39055</th>\n",
       "      <td>armor reconnaissance specialist</td>\n",
       "      <td>553019</td>\n",
       "    </tr>\n",
       "    <tr>\n",
       "      <th>39056</th>\n",
       "      <td>army ranger</td>\n",
       "      <td>553019</td>\n",
       "    </tr>\n",
       "    <tr>\n",
       "      <th>39057</th>\n",
       "      <td>artillery or naval gunfire observer</td>\n",
       "      <td>553019</td>\n",
       "    </tr>\n",
       "    <tr>\n",
       "      <th>39058</th>\n",
       "      <td>camouflage specialist</td>\n",
       "      <td>553019</td>\n",
       "    </tr>\n",
       "    <tr>\n",
       "      <th>39059</th>\n",
       "      <td>combat surveillance and target acquisition cre...</td>\n",
       "      <td>553019</td>\n",
       "    </tr>\n",
       "    <tr>\n",
       "      <th>39060</th>\n",
       "      <td>combat surveillance and target acquisition non...</td>\n",
       "      <td>553019</td>\n",
       "    </tr>\n",
       "    <tr>\n",
       "      <th>39061</th>\n",
       "      <td>defensive fire control systems operator</td>\n",
       "      <td>553019</td>\n",
       "    </tr>\n",
       "    <tr>\n",
       "      <th>39062</th>\n",
       "      <td>field artillery operations specialist</td>\n",
       "      <td>553019</td>\n",
       "    </tr>\n",
       "    <tr>\n",
       "      <th>39063</th>\n",
       "      <td>flash ranging crewmember</td>\n",
       "      <td>553019</td>\n",
       "    </tr>\n",
       "    <tr>\n",
       "      <th>39064</th>\n",
       "      <td>in-flight refueling operator</td>\n",
       "      <td>553019</td>\n",
       "    </tr>\n",
       "    <tr>\n",
       "      <th>39065</th>\n",
       "      <td>infantry indirect fire crewmember</td>\n",
       "      <td>553019</td>\n",
       "    </tr>\n",
       "    <tr>\n",
       "      <th>39066</th>\n",
       "      <td>infantry operations specialist</td>\n",
       "      <td>553019</td>\n",
       "    </tr>\n",
       "    <tr>\n",
       "      <th>39067</th>\n",
       "      <td>infantry weapons crewmember</td>\n",
       "      <td>553019</td>\n",
       "    </tr>\n",
       "    <tr>\n",
       "      <th>39068</th>\n",
       "      <td>light air defense artillery crewmember</td>\n",
       "      <td>553019</td>\n",
       "    </tr>\n",
       "    <tr>\n",
       "      <th>39069</th>\n",
       "      <td>marine</td>\n",
       "      <td>553019</td>\n",
       "    </tr>\n",
       "    <tr>\n",
       "      <th>39070</th>\n",
       "      <td>mercenary</td>\n",
       "      <td>553019</td>\n",
       "    </tr>\n",
       "    <tr>\n",
       "      <th>39071</th>\n",
       "      <td>national guard member</td>\n",
       "      <td>553019</td>\n",
       "    </tr>\n",
       "    <tr>\n",
       "      <th>39072</th>\n",
       "      <td>powered bridge specialist</td>\n",
       "      <td>553019</td>\n",
       "    </tr>\n",
       "    <tr>\n",
       "      <th>39073</th>\n",
       "      <td>recruit instructor</td>\n",
       "      <td>553019</td>\n",
       "    </tr>\n",
       "    <tr>\n",
       "      <th>39074</th>\n",
       "      <td>smoke and flame specialist</td>\n",
       "      <td>553019</td>\n",
       "    </tr>\n",
       "    <tr>\n",
       "      <th>39075</th>\n",
       "      <td>soldier</td>\n",
       "      <td>553019</td>\n",
       "    </tr>\n",
       "    <tr>\n",
       "      <th>39076</th>\n",
       "      <td>sound ranging crewmember</td>\n",
       "      <td>553019</td>\n",
       "    </tr>\n",
       "    <tr>\n",
       "      <th>39077</th>\n",
       "      <td>target aircraft technician</td>\n",
       "      <td>553019</td>\n",
       "    </tr>\n",
       "    <tr>\n",
       "      <th>39078</th>\n",
       "      <td>unattended ground sensor specialist</td>\n",
       "      <td>553019</td>\n",
       "    </tr>\n",
       "  </tbody>\n",
       "</table>\n",
       "<p>38911 rows × 2 columns</p>\n",
       "</div>"
      ],
      "text/plain": [
       "                                                   title    code\n",
       "0                                                    ceo  111011\n",
       "1                               chief executive officer   111011\n",
       "2                               chief operating officer   111011\n",
       "3                       commissioner of internal revenue  111011\n",
       "4                                                    coo  111011\n",
       "5                                    county commissioner  111011\n",
       "6                           government service executive  111011\n",
       "7                                               governor  111011\n",
       "8                                                  mayor  111011\n",
       "9                       department store general manager  111021\n",
       "10                      manufacturing operations manager  111021\n",
       "11                            television station manager  111021\n",
       "12                                         city alderman  111031\n",
       "13                                   city council member  111031\n",
       "14                          congressional representative  111031\n",
       "15                                             councilor  111031\n",
       "16                                            legislator  111031\n",
       "17                                    member of congress  111031\n",
       "18                                             selectman  111031\n",
       "19                                               senator  111031\n",
       "20                                 tribal council member  111031\n",
       "21                                 advertising executive  112011\n",
       "22                                   advertising manager  112011\n",
       "23                        classified advertising manager  112011\n",
       "24                                     promotion manager  112011\n",
       "25                                   promotions director  112011\n",
       "26                                        vp advertising  112011\n",
       "27                                        vp promotions   112011\n",
       "28                            internet marketing manager  112021\n",
       "29                               marketing administrator  112021\n",
       "...                                                  ...     ...\n",
       "39049                         sonar technician (surface)  553017\n",
       "39050                               amphibian crewmember  553018\n",
       "39051                          reconnaissance crewmember  553018\n",
       "39052                                survival specialist  553018\n",
       "39053                         airborne sensor specialist  553019\n",
       "39054                            antitank assault gunner  553019\n",
       "39055                    armor reconnaissance specialist  553019\n",
       "39056                                        army ranger  553019\n",
       "39057                artillery or naval gunfire observer  553019\n",
       "39058                              camouflage specialist  553019\n",
       "39059  combat surveillance and target acquisition cre...  553019\n",
       "39060  combat surveillance and target acquisition non...  553019\n",
       "39061            defensive fire control systems operator  553019\n",
       "39062              field artillery operations specialist  553019\n",
       "39063                           flash ranging crewmember  553019\n",
       "39064                       in-flight refueling operator  553019\n",
       "39065                  infantry indirect fire crewmember  553019\n",
       "39066                     infantry operations specialist  553019\n",
       "39067                        infantry weapons crewmember  553019\n",
       "39068             light air defense artillery crewmember  553019\n",
       "39069                                             marine  553019\n",
       "39070                                          mercenary  553019\n",
       "39071                              national guard member  553019\n",
       "39072                          powered bridge specialist  553019\n",
       "39073                                 recruit instructor  553019\n",
       "39074                         smoke and flame specialist  553019\n",
       "39075                                            soldier  553019\n",
       "39076                           sound ranging crewmember  553019\n",
       "39077                         target aircraft technician  553019\n",
       "39078                unattended ground sensor specialist  553019\n",
       "\n",
       "[38911 rows x 2 columns]"
      ]
     },
     "execution_count": 150,
     "metadata": {},
     "output_type": "execute_result"
    }
   ],
   "source": [
    "title_lookup"
   ]
  },
  {
   "cell_type": "code",
   "execution_count": null,
   "metadata": {
    "autoscroll": false,
    "collapsed": false,
    "ein.hycell": false,
    "ein.tags": "worksheet-0",
    "slideshow": {
     "slide_type": "-"
    }
   },
   "outputs": [],
   "source": [
    "idx = X_test.notna()\n",
    "\n",
    "bubbleup_score(y_train, X_test[idx], y_test[idx], model)"
   ]
  },
  {
   "cell_type": "code",
   "execution_count": 21,
   "metadata": {
    "autoscroll": false,
    "collapsed": false,
    "ein.hycell": false,
    "ein.tags": "worksheet-0",
    "slideshow": {
     "slide_type": "-"
    }
   },
   "outputs": [
    {
     "data": {
      "text/plain": [
       "0.20506294803666322"
      ]
     },
     "execution_count": 21,
     "metadata": {},
     "output_type": "execute_result"
    }
   ],
   "source": [
    "# GloVe vectors on VA\n",
    "\n",
    "idx = X_test.notna()\n",
    "\n",
    "bubbleup_score(y_train, X_test[idx], y_test[idx], model)"
   ]
  },
  {
   "cell_type": "code",
   "execution_count": 75,
   "metadata": {
    "autoscroll": false,
    "collapsed": false,
    "ein.hycell": false,
    "ein.tags": "worksheet-0",
    "slideshow": {
     "slide_type": "-"
    }
   },
   "outputs": [
    {
     "data": {
      "text/plain": [
       "0.43231615726227796"
      ]
     },
     "execution_count": 75,
     "metadata": {},
     "output_type": "execute_result"
    }
   ],
   "source": [
    "idx = X_test.notna()\n",
    "\n",
    "bubbleup_score(y_train, X_test[idx], y_test[idx], model)"
   ]
  },
  {
   "cell_type": "code",
   "execution_count": 74,
   "metadata": {
    "autoscroll": false,
    "collapsed": false,
    "ein.hycell": false,
    "ein.tags": "worksheet-0",
    "slideshow": {
     "slide_type": "-"
    }
   },
   "outputs": [
    {
     "data": {
      "text/plain": [
       "0.39304142709715467"
      ]
     },
     "execution_count": 74,
     "metadata": {},
     "output_type": "execute_result"
    }
   ],
   "source": [
    "yidx = (matches[idx].onet_soc_code != '')\n",
    "y_test_va = get_soc_n(matches[idx][yidx].onet_soc_code, 6)\n",
    "\n",
    "bubbleup_score(y_train, X_test[idx][yidx], y_test_va, model)"
   ]
  },
  {
   "cell_type": "code",
   "execution_count": 77,
   "metadata": {
    "autoscroll": false,
    "collapsed": false,
    "ein.hycell": false,
    "ein.tags": "worksheet-0",
    "slideshow": {
     "slide_type": "-"
    }
   },
   "outputs": [
    {
     "data": {
      "text/plain": [
       "0.2956"
      ]
     },
     "execution_count": 77,
     "metadata": {},
     "output_type": "execute_result"
    }
   ],
   "source": [
    "# VA!\n",
    "# X_test, y_test, va_df = virginia_test_data('../data/va_job_posts.json', SOC_LEVEL)\n",
    "\n",
    "# df = pd.DataFrame({'X': X_test, 'y': y_test})\n",
    "# sample = df[df.X.notna()].sample(50000)\n",
    "\n",
    "# preds = model.predict_proba(sample.X)\n",
    "\n",
    "labels = np.unique(y_train)\n",
    "df = pd.DataFrame(preds)\n",
    "df.columns = labels\n",
    "\n",
    "accuracy_score(get_soc_n_preds(df, 3).values, sample.y.astype(str).map(lambda s: s[0:3]))\n",
    "\n",
    "# preds = get_top_soc_n_preds(df, 3, 1)\n",
    "# istop = [y in preds[i] for i,y in enumerate(sample.y.astype(str).map(lambda s: s[0:3]))]\n",
    "# np.array(istop).mean()    "
   ]
  },
  {
   "cell_type": "code",
   "execution_count": 13,
   "metadata": {
    "autoscroll": false,
    "collapsed": false,
    "ein.hycell": false,
    "ein.tags": "worksheet-0",
    "slideshow": {
     "slide_type": "-"
    }
   },
   "outputs": [
    {
     "data": {
      "text/plain": [
       "0.41385476727667753"
      ]
     },
     "execution_count": 13,
     "metadata": {},
     "output_type": "execute_result"
    }
   ],
   "source": [
    "# UK - 6/3\n",
    "df = pd.DataFrame(preds[0])\n",
    "df.columns = labels\n",
    "# np.save('ss_models/sentencespace_100_uk/predictions-63', get_soc_n(df, 3).values)\n",
    "accuracy_score(get_soc_n(df, 3).values, y_test.astype(str).map(lambda s: s[0:3]))"
   ]
  },
  {
   "cell_type": "code",
   "execution_count": null,
   "metadata": {
    "autoscroll": false,
    "collapsed": false,
    "ein.hycell": false,
    "ein.tags": "worksheet-0",
    "slideshow": {
     "slide_type": "-"
    }
   },
   "outputs": [
    {
     "data": {
      "text/plain": [
       "0.48249329065506391"
      ]
     },
     "execution_count": 12,
     "metadata": {},
     "output_type": "execute_result"
    }
   ],
   "source": [
    "# US - 6/3\n",
    "df = pd.DataFrame(preds[0])\n",
    "df.columns = labels\n",
    "# np.save('ss_models/sentencespace_100_india/predictions-63', get_soc_n(df, 3).values)\n",
    "accuracy_score(get_soc_n(df, 3).values, y_test.astype(str).map(lambda s: s[0:3]))"
   ]
  },
  {
   "cell_type": "code",
   "execution_count": null,
   "metadata": {
    "autoscroll": false,
    "collapsed": false,
    "ein.hycell": false,
    "ein.tags": "worksheet-0",
    "slideshow": {
     "slide_type": "-"
    }
   },
   "outputs": [
    {
     "data": {
      "text/plain": [
       "0.43210204120311579"
      ]
     },
     "execution_count": 89,
     "metadata": {},
     "output_type": "execute_result"
    }
   ],
   "source": [
    "# India - predicting at 6, aggregating to 3\n",
    "# np.save('ss_models/sentencespace_100_india/predictions-63', get_soc_n(df, 3).values)\n",
    "accuracy_score(get_soc_n(df, 3).values, y_test.astype(str).map(lambda s: s[0:3]))"
   ]
  },
  {
   "cell_type": "code",
   "execution_count": 9,
   "metadata": {
    "autoscroll": false,
    "collapsed": false,
    "ein.hycell": false,
    "ein.tags": "worksheet-0",
    "slideshow": {
     "slide_type": "-"
    }
   },
   "outputs": [
    {
     "data": {
      "text/plain": [
       "[0.40573887004150638]"
      ]
     },
     "execution_count": 9,
     "metadata": {},
     "output_type": "execute_result"
    }
   ],
   "source": [
    "# India - Sentencespace 100\n",
    "[get_accuracy(p, y_test) for p in preds]"
   ]
  },
  {
   "cell_type": "code",
   "execution_count": 16,
   "metadata": {
    "autoscroll": false,
    "collapsed": false,
    "ein.hycell": false,
    "ein.tags": "worksheet-0",
    "slideshow": {
     "slide_type": "-"
    }
   },
   "outputs": [
    {
     "data": {
      "text/plain": [
       "[0.42613479319168668]"
      ]
     },
     "execution_count": 16,
     "metadata": {},
     "output_type": "execute_result"
    }
   ],
   "source": [
    "# US - Sentencespace 100\n",
    "[get_accuracy(p, y_test) for p in preds]"
   ]
  },
  {
   "cell_type": "code",
   "execution_count": 139,
   "metadata": {
    "autoscroll": false,
    "collapsed": false,
    "ein.hycell": false,
    "ein.tags": "worksheet-0",
    "slideshow": {
     "slide_type": "-"
    }
   },
   "outputs": [
    {
     "data": {
      "text/plain": [
       "[0.23045040528118993, 0.02092420823932481, 0.023130274922704103]"
      ]
     },
     "execution_count": 139,
     "metadata": {},
     "output_type": "execute_result"
    }
   ],
   "source": [
    "# India\n",
    "[get_accuracy(p, y_test) for p in preds]"
   ]
  },
  {
   "cell_type": "code",
   "execution_count": 94,
   "metadata": {
    "autoscroll": false,
    "collapsed": false,
    "ein.hycell": false,
    "ein.tags": "worksheet-0",
    "slideshow": {
     "slide_type": "-"
    }
   },
   "outputs": [
    {
     "data": {
      "text/plain": [
       "[0.23045040528118993, 0.02092420823932481, 0.023130274922704103]"
      ]
     },
     "execution_count": 94,
     "metadata": {},
     "output_type": "execute_result"
    }
   ],
   "source": [
    "# UK \n",
    "[get_accuracy(p, y_test) for p in preds]"
   ]
  },
  {
   "cell_type": "code",
   "execution_count": null,
   "metadata": {
    "autoscroll": false,
    "collapsed": false,
    "ein.hycell": false,
    "ein.tags": "worksheet-0",
    "slideshow": {
     "slide_type": "-"
    }
   },
   "outputs": [
    {
     "data": {
      "text/plain": [
       "[0.30347637686457379, 0.36610287365032945, 0.025223570530595506]"
      ]
     },
     "execution_count": 75,
     "metadata": {},
     "output_type": "execute_result"
    }
   ],
   "source": [
    "# US\n",
    "[get_accuracy(p, y_test) for p in preds]"
   ]
  },
  {
   "cell_type": "code",
   "execution_count": null,
   "metadata": {
    "autoscroll": false,
    "collapsed": false,
    "ein.hycell": false,
    "ein.tags": "worksheet-0",
    "slideshow": {
     "slide_type": "-"
    }
   },
   "outputs": [
    {
     "data": {
      "text/plain": [
       "[0.49040702886856735, 0.58729304883151034, 0.57982188751419517]"
      ]
     },
     "execution_count": 27,
     "metadata": {},
     "output_type": "execute_result"
    }
   ],
   "source": [
    "# OLD - SOC2?\n",
    "[accuracy_score(p, y_test) for p in preds]"
   ]
  },
  {
   "cell_type": "code",
   "execution_count": 46,
   "metadata": {
    "autoscroll": false,
    "collapsed": false,
    "ein.hycell": false,
    "ein.tags": "worksheet-0",
    "slideshow": {
     "slide_type": "-"
    }
   },
   "outputs": [],
   "source": [
    "p = pd.DataFrame(preds).T.assign(y = y_test.values)\n",
    "\n",
    "differ = p[p[0] != p[1]]"
   ]
  },
  {
   "cell_type": "code",
   "execution_count": null,
   "metadata": {
    "autoscroll": false,
    "collapsed": false,
    "ein.hycell": false,
    "ein.tags": "worksheet-0",
    "slideshow": {
     "slide_type": "-"
    }
   },
   "outputs": [],
   "source": [
    "differ[differ[0] == differ['y']].y.value_counts()"
   ]
  },
  {
   "cell_type": "code",
   "execution_count": null,
   "metadata": {
    "autoscroll": false,
    "collapsed": false,
    "ein.hycell": false,
    "ein.tags": "worksheet-0",
    "slideshow": {
     "slide_type": "-"
    }
   },
   "outputs": [],
   "source": [
    "print(classification_report(preds[0], y_test))"
   ]
  },
  {
   "cell_type": "code",
   "execution_count": null,
   "metadata": {
    "autoscroll": false,
    "collapsed": false,
    "ein.hycell": false,
    "ein.tags": "worksheet-0",
    "slideshow": {
     "slide_type": "-"
    }
   },
   "outputs": [],
   "source": [
    "print(classification_report(preds[1], y_test))"
   ]
  },
  {
   "cell_type": "markdown",
   "metadata": {
    "ein.tags": "worksheet-0",
    "slideshow": {
     "slide_type": "-"
    }
   },
   "source": [
    "# Confusion Matrices"
   ]
  },
  {
   "cell_type": "code",
   "execution_count": 57,
   "metadata": {
    "autoscroll": false,
    "collapsed": false,
    "ein.hycell": false,
    "ein.tags": "worksheet-0",
    "slideshow": {
     "slide_type": "-"
    }
   },
   "outputs": [],
   "source": [
    "def print_confusion_matrices(models, preds, y, SOC_LEVEL):\n",
    "    dot_dict = get_dictionary('', SOC_LEVEL)\n",
    "    model_names = ['-'.join(m.named_steps.keys()) for m in models]\n",
    "    un = dot_dict.groupby('soc').apply(lambda df: df.head(1))\n",
    "    category_names = un['desc_soc{}'.format(SOC_LEVEL)]\n",
    "    for name,p in zip(model_names, preds):\n",
    "        df = pd.DataFrame(confusion_matrix(y, p, un.soc), \n",
    "                          index=category_names, \n",
    "                          columns=category_names)\n",
    "        filename = 'confusion-matrices/{}.csv'.format(name)\n",
    "        df.to_csv(filename, index=False)"
   ]
  },
  {
   "cell_type": "code",
   "execution_count": 58,
   "metadata": {
    "autoscroll": false,
    "collapsed": false,
    "ein.hycell": false,
    "ein.tags": "worksheet-0",
    "slideshow": {
     "slide_type": "-"
    }
   },
   "outputs": [],
   "source": [
    "print_confusion_matrices([model], [preds], y_train, 3)"
   ]
  },
  {
   "cell_type": "code",
   "execution_count": 60,
   "metadata": {
    "autoscroll": false,
    "collapsed": false,
    "ein.hycell": false,
    "ein.tags": "worksheet-0",
    "slideshow": {
     "slide_type": "-"
    }
   },
   "outputs": [
    {
     "data": {
      "text/plain": [
       "0.38563508532846036"
      ]
     },
     "execution_count": 60,
     "metadata": {},
     "output_type": "execute_result"
    },
    {
     "data": {
      "text/plain": [
       "0.38563508532846036"
      ]
     },
     "execution_count": 60,
     "metadata": {},
     "output_type": "execute_result"
    }
   ],
   "source": [
    "accuracy_score(preds, y_train)"
   ]
  }
 ],
 "metadata": {
  "kernelspec": {
   "display_name": "Python 3",
   "name": "python3"
  },
  "language_info": {
   "codemirror_mode": {
    "name": "ipython",
    "version": 3
   },
   "file_extension": ".py",
   "mimetype": "text/x-python",
   "name": "python",
   "nbconvert_exporter": "python",
   "pygments_lexer": "ipython3",
   "version": "3.6.3"
  },
  "name": "test-virginia.ipynb"
 },
 "nbformat": 4,
 "nbformat_minor": 2
}
