{
 "cells": [
  {
   "cell_type": "code",
   "execution_count": null,
   "metadata": {
    "autoscroll": false,
    "collapsed": false,
    "ein.hycell": false,
    "ein.tags": "worksheet-0",
    "slideshow": {
     "slide_type": "-"
    }
   },
   "outputs": [],
   "source": [
    "! conda install -c conda-forge --yes spacy\n",
    "! pip install allennlp\n",
    "! python -m spacy download en\n",
    "! python -m spacy download en_core_web_lg"
   ]
  },
  {
   "cell_type": "code",
   "execution_count": null,
   "metadata": {
    "autoscroll": false,
    "collapsed": false,
    "ein.hycell": false,
    "ein.tags": "worksheet-0",
    "slideshow": {
     "slide_type": "-"
    }
   },
   "outputs": [],
   "source": [
    "import spacy\n",
    "import pandas as pd\n",
    "\n",
    "def is_verb(token):\n",
    "    if not token.pos_ == 'VERB':\n",
    "        return False\n",
    "    if token.dep_ in ['acl', 'amod', 'prep'] and token.head.pos_ == 'NOUN':\n",
    "        return False\n",
    "    if token.dep_ in ['ccomp', 'advcl'] and token.head.pos_ == 'VERB':\n",
    "        return False\n",
    "    return True\n",
    "\n",
    "def get_head(doc):\n",
    "    return [t for t in doc if t.head == t][0]\n",
    "\n",
    "def get_verbs(doc):\n",
    "    return [t for t in doc if is_verb(t)]\n",
    "\n",
    "def get_descendents(token):\n",
    "    children = [c for c in token.children if not is_verb(c)]\n",
    "    desc = [d for c in children for d in get_descendents(c)]\n",
    "    return desc + [token]\n",
    "\n",
    "def is_stop(t):\n",
    "    return t.is_stop or len(str(t)) == 1 or t.pos_ in ['PUNCT', 'PART']\n",
    "\n",
    "def get_objs(v):\n",
    "    return [c for c in v.children \n",
    "            if c.dep_ in ['dobj', 'prep', 'ccomp', 'advcl']]\n",
    "\n",
    "def get_np(verb):    \n",
    "    children = get_objs(verb)\n",
    "    other_verbs = [c for c in verb.children if c.dep_ in ['conj']]\n",
    "    verbs = [verb]\n",
    "\n",
    "    if other_verbs and not children:\n",
    "        verbs += other_verbs\n",
    "        children = [i for v in other_verbs for i in get_objs(v)]\n",
    "\n",
    "    noun_phrase = [d for c in children \n",
    "                   for d in get_descendents(c) \n",
    "                   if not is_stop(d)]\n",
    "\n",
    "    return [' '.join(map(str, x)) for x in [verbs, noun_phrase]]\n",
    "\n",
    "def parse_sent(sent):\n",
    "    nps = [get_np(v) for v in get_verbs(sent)]    \n",
    "    nouns,verbs = [],[]\n",
    "    for v,n in nps:\n",
    "        if n and not n in nouns:\n",
    "            verbs += [v]\n",
    "            nouns += [n]\n",
    "    return list(zip(verbs, nouns))"
   ]
  },
  {
   "cell_type": "code",
   "execution_count": null,
   "metadata": {
    "autoscroll": false,
    "collapsed": false,
    "ein.hycell": false,
    "ein.tags": "worksheet-0",
    "slideshow": {
     "slide_type": "-"
    }
   },
   "outputs": [],
   "source": [
    "nlp = spacy.load('en_core_web_lg')\n",
    "tasks = pd.read_csv('tasks.txt', sep='\\t')\n",
    "\n",
    "parsed = [nlp(t) for t in tasks.Task[0:100]]"
   ]
  },
  {
   "cell_type": "code",
   "execution_count": 486,
   "metadata": {
    "autoscroll": false,
    "collapsed": false,
    "ein.hycell": false,
    "ein.tags": "worksheet-0",
    "slideshow": {
     "slide_type": "-"
    }
   },
   "outputs": [
    {
     "data": {
      "text/plain": [
       "[[('coordinate', 'an organization or budget financial activities'),\n  ('fund', 'operations'),\n  ('maximize', 'investments'),\n  ('increase', 'efficiency')],\n [('Analyze',\n   'operations or its staff company of objectives in performance or evaluate'),\n  ('determine',\n   'potential cost program or policy change improvement reduction of areas')],\n [('Prepare',\n   'budgets approval for or programs of implementation funding for those including')],\n [('Establish', 'departmental responsibilities'),\n  ('coordinate', 'and sites departments among functions')],\n [('Preside serve',\n   'management or other governing boards committees directors of boards on')],\n [('Negotiate approve',\n   'or agreements or state federal or other organizational entities agencies distributors suppliers with contracts')],\n [('coordinate', 'with involved businesses of activities'),\n  ('buying selling', 'investment or financial services products')],\n [('Establish implement',\n   'departmental or procedures objectives goals policies board organization or staff members officials members with conjunction in')],\n [('Develop implement',\n   'product marketing advertising or sales promotions campaigns including strategies')],\n [('Serve',\n   'investigative study and committees groups panels commissions on specialized areas and examine order in'),\n  ('recommend', 'action')]]"
      ]
     },
     "execution_count": 486,
     "metadata": {},
     "output_type": "execute_result"
    }
   ],
   "source": [
    "interesting = [0,2,4,8,9,10,22,55,61,81]\n",
    "\n",
    "[parse_sent(parsed[i]) for i in interesting]"
   ]
  },
  {
   "cell_type": "code",
   "execution_count": null,
   "metadata": {
    "autoscroll": false,
    "collapsed": false,
    "ein.hycell": false,
    "ein.tags": "worksheet-0",
    "slideshow": {
     "slide_type": "-"
    }
   },
   "outputs": [],
   "source": [
    "from spacy import displacy\n",
    "\n",
    "displacy.render(parsed[2], style='dep', jupyter=True)"
   ]
  },
  {
   "cell_type": "markdown",
   "metadata": {
    "ein.tags": "worksheet-0",
    "slideshow": {
     "slide_type": "-"
    }
   },
   "source": [
    "## ELMO Embedding"
   ]
  },
  {
   "cell_type": "code",
   "execution_count": null,
   "metadata": {
    "autoscroll": false,
    "collapsed": false,
    "ein.hycell": false,
    "ein.tags": "worksheet-0",
    "slideshow": {
     "slide_type": "-"
    }
   },
   "outputs": [],
   "source": [
    "from allennlp.commands.elmo import ElmoEmbedder\n",
    "\n",
    "elmo = ElmoEmbedder()\n",
    "v = elmo.embed_sentence([str(t) for t in parsed[0]])"
   ]
  },
  {
   "cell_type": "code",
   "execution_count": null,
   "metadata": {
    "autoscroll": false,
    "collapsed": false,
    "ein.hycell": false,
    "ein.tags": "worksheet-0",
    "slideshow": {
     "slide_type": "-"
    }
   },
   "outputs": [
    {
     "data": {
      "text/plain": [
       "(3, 21, 1024)"
      ]
     },
     "execution_count": 27,
     "metadata": {},
     "output_type": "execute_result"
    }
   ],
   "source": [
    "v.shape"
   ]
  }
 ],
 "metadata": {
  "kernelspec": {
   "display_name": "Python 3",
   "name": "python3"
  },
  "language_info": {
   "codemirror_mode": {
    "name": "ipython",
    "version": 3
   },
   "file_extension": ".py",
   "mimetype": "text/x-python",
   "name": "python",
   "nbconvert_exporter": "python",
   "pygments_lexer": "ipython3",
   "version": "3.6.3"
  },
  "name": "tasks.ipynb"
 },
 "nbformat": 4,
 "nbformat_minor": 2
}
