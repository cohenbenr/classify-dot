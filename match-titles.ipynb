{
 "cells": [
  {
   "cell_type": "code",
   "execution_count": 4,
   "metadata": {
    "autoscroll": false,
    "collapsed": false,
    "ein.tags": "worksheet-0",
    "slideshow": {
     "slide_type": "-"
    }
   },
   "outputs": [],
   "source": [
    "! pip install --quiet fuzzywuzzy[speedup]"
   ]
  },
  {
   "cell_type": "code",
   "execution_count": 1,
   "metadata": {
    "autoscroll": false,
    "collapsed": false,
    "ein.tags": "worksheet-0",
    "slideshow": {
     "slide_type": "-"
    }
   },
   "outputs": [],
   "source": [
    "import pandas as pd\n",
    "import json"
   ]
  },
  {
   "cell_type": "code",
   "execution_count": 2,
   "metadata": {
    "autoscroll": false,
    "collapsed": false,
    "ein.tags": "worksheet-0",
    "slideshow": {
     "slide_type": "-"
    }
   },
   "outputs": [],
   "source": [
    "with open('./data/sample.jl', 'r') as f:\n",
    "    jobs = pd.DataFrame([json.loads(d) for d in f])"
   ]
  },
  {
   "cell_type": "code",
   "execution_count": 3,
   "metadata": {
    "autoscroll": false,
    "collapsed": false,
    "ein.tags": "worksheet-0",
    "slideshow": {
     "slide_type": "-"
    }
   },
   "outputs": [],
   "source": [
    "direct_match = (pd\n",
    "                .read_excel('./data/SOC/soc_2010_direct_match_title_file.xls', skiprows=6)\n",
    "                .rename(columns = {'2010 SOC Direct Match Title': 'title', \n",
    "                                     '2010 SOC Code': 'code'})[['title', 'code']])\n",
    "\n",
    "samples = (pd\n",
    "           .read_excel('./data/SOC/Sample of Reported Titles.xlsx')\n",
    "           .rename(columns = {'Reported Job Title': 'title', \n",
    "                              'O*NET-SOC Code': 'code'})[['title', 'code']])\n",
    "\n",
    "alternates = (pd\n",
    "              .read_excel('./data/SOC/Alternate Titles.xlsx')\n",
    "              .rename(columns = {'Alternate Title': 'title', \n",
    "                                 'O*NET-SOC Code': 'code'})[['title', 'code']])\n",
    "\n",
    "alternates['code'] = alternates.code.str.slice(0,7)\n",
    "samples['code'] = samples.code.str.slice(0,7)"
   ]
  },
  {
   "cell_type": "code",
   "execution_count": 4,
   "metadata": {
    "autoscroll": false,
    "collapsed": false,
    "ein.tags": "worksheet-0",
    "slideshow": {
     "slide_type": "-"
    }
   },
   "outputs": [],
   "source": [
    "lookup = pd.concat([direct_match, samples, alternates]).drop_duplicates('title')\n",
    "lookup['title'] = lookup.title.str.lower()"
   ]
  },
  {
   "cell_type": "code",
   "execution_count": 82,
   "metadata": {
    "autoscroll": false,
    "collapsed": false,
    "ein.tags": "worksheet-0",
    "slideshow": {
     "slide_type": "-"
    }
   },
   "outputs": [],
   "source": [
    "lookup.to_csv('crosswalks/soc-title-lookup.csv', index=False)"
   ]
  },
  {
   "cell_type": "code",
   "execution_count": null,
   "metadata": {
    "autoscroll": false,
    "collapsed": false,
    "ein.tags": "worksheet-0",
    "slideshow": {
     "slide_type": "-"
    }
   },
   "outputs": [],
   "source": [
    "jobs['title'] = jobs.title.str.lower()\n",
    "j = jobs.merge(lookup, how='left', on = ['title'])"
   ]
  },
  {
   "cell_type": "code",
   "execution_count": 62,
   "metadata": {
    "autoscroll": false,
    "collapsed": false,
    "ein.tags": "worksheet-0",
    "slideshow": {
     "slide_type": "-"
    }
   },
   "outputs": [
    {
     "data": {
      "text/plain": [
       "0.2565"
      ]
     },
     "execution_count": 62,
     "metadata": {},
     "output_type": "execute_result"
    }
   ],
   "source": [
    "# Percent found in exact string match\n",
    "j[~j.code.isna()].shape[0] / j.shape[0]"
   ]
  },
  {
   "cell_type": "markdown",
   "metadata": {
    "ein.tags": "worksheet-0",
    "slideshow": {
     "slide_type": "-"
    }
   },
   "source": [
    "### Explore matching with partial matches"
   ]
  },
  {
   "cell_type": "code",
   "execution_count": 80,
   "metadata": {
    "autoscroll": false,
    "collapsed": false,
    "ein.tags": "worksheet-0",
    "slideshow": {
     "slide_type": "-"
    }
   },
   "outputs": [],
   "source": [
    "def lookup_two(lookup):\n",
    "    def f(t):\n",
    "        z = zip(lookup.code, lookup.title)\n",
    "        split = t.split(' ')\n",
    "        options = [(code, title) for code,title in z if title in t]\n",
    "        if len(options) > 0:\n",
    "            options = sorted(options, key = lambda t: -len(t[1]))\n",
    "        return options[0][0] if options else None\n",
    "    return f"
   ]
  },
  {
   "cell_type": "code",
   "execution_count": 81,
   "metadata": {
    "autoscroll": false,
    "collapsed": false,
    "ein.tags": "worksheet-0",
    "slideshow": {
     "slide_type": "-"
    }
   },
   "outputs": [],
   "source": [
    "from fuzzywuzzy import fuzz, utils, process\n",
    "\n",
    "def lookup_code(lookup):\n",
    "    def f(t):\n",
    "        try:\n",
    "            prop, score = process.extractOne(t, lookup.title, score_cutoff = 0)\n",
    "            return prop\n",
    "        except ValueError:\n",
    "            return None\n",
    "    return f"
   ]
  },
  {
   "cell_type": "code",
   "execution_count": null,
   "metadata": {
    "autoscroll": false,
    "collapsed": false,
    "ein.tags": "worksheet-0",
    "slideshow": {
     "slide_type": "-"
    }
   },
   "outputs": [],
   "source": [
    "leftovers = j[j.code.isnull()].reset_index(drop=True)\n",
    "leftovers.title[:20].map(lookup_two(lookup))"
   ]
  },
  {
   "cell_type": "code",
   "execution_count": null,
   "metadata": {
    "autoscroll": false,
    "collapsed": false,
    "ein.tags": "worksheet-0",
    "slideshow": {
     "slide_type": "-"
    }
   },
   "outputs": [],
   "source": [
    "t = utils.full_process(j[j.code.isnull()].title.values[5])\n",
    "lookup_two(lookup)(t)"
   ]
  }
 ],
 "metadata": {
  "kernelspec": {
   "display_name": "Python 3",
   "name": "python3"
  },
  "name": "match-titles.ipynb"
 },
 "nbformat": 4,
 "nbformat_minor": 2
}
