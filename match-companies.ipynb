{
 "cells": [
  {
   "cell_type": "code",
   "execution_count": 1,
   "metadata": {
    "autoscroll": false,
    "collapsed": false,
    "ein.hycell": false,
    "ein.tags": "worksheet-0",
    "slideshow": {
     "slide_type": "-"
    }
   },
   "outputs": [],
   "source": [
    "%load_ext autoreload \n",
    "%autoreload 2\n",
    "\n",
    "import pandas as pd\n",
    "from validation.data import indeed_test_data, dot_train_data, get_soc_n\n",
    "from sklearn.pipeline import Pipeline\n",
    "from sklearn.linear_model import LogisticRegression\n",
    "from classification.embedding import PreEmbeddedVectorizer\n",
    "\n",
    "from urllib.parse import urlparse, urlunparse, parse_qs, urlencode\n",
    "from validation.dot_data import get_dictionary\n",
    "\n",
    "def make_title_lookup(path, N):\n",
    "    dot_codes = get_dictionary('', N).groupby('soc').first()\n",
    "    return lambda code: dot_codes[f'desc_soc{N}'].to_dict()[code]\n",
    "\n",
    "def remove_qs(url):\n",
    "    \"\"\" Removes query string except for key jk \"\"\"\n",
    "    u = urlparse(url)\n",
    "    qs = parse_qs(u.query)\n",
    "    jk = qs.get('jk')\n",
    "    if jk:\n",
    "        qs = urlencode({'jk': jk}, True)\n",
    "    else:\n",
    "        qs = None        \n",
    "    return urlunparse(u._replace(query = qs))"
   ]
  },
  {
   "cell_type": "code",
   "execution_count": 2,
   "metadata": {
    "autoscroll": false,
    "collapsed": false,
    "ein.hycell": false,
    "ein.tags": "worksheet-0",
    "slideshow": {
     "slide_type": "-"
    }
   },
   "outputs": [],
   "source": [
    "COUNTRY = 'india'"
   ]
  },
  {
   "cell_type": "code",
   "execution_count": 36,
   "metadata": {
    "autoscroll": false,
    "collapsed": false,
    "ein.hycell": false,
    "ein.tags": "worksheet-0",
    "slideshow": {
     "slide_type": "-"
    }
   },
   "outputs": [],
   "source": [
    "everything = pd.read_csv(f'data/{COUNTRY}/everything.csv')"
   ]
  },
  {
   "cell_type": "code",
   "execution_count": 150,
   "metadata": {
    "autoscroll": false,
    "collapsed": false,
    "ein.hycell": false,
    "ein.tags": "worksheet-0",
    "slideshow": {
     "slide_type": "-"
    }
   },
   "outputs": [],
   "source": [
    "# company = pd.read_csv(f'matched-company/{COUNTRY}_indeed_matched123.csv', sep='\\t', quoting=csv.QUOTE_ALL, encoding='utf8')\n",
    "company = pd.read_csv(f'matched-company/{COUNTRY}_url_only.csv')\n",
    "company['url'] = company.url.map(remove_qs)\n",
    "# idx = ~company.url.isna()\n",
    "# company.loc[idx, 'url'] = company[idx].url.map(remove_qs)"
   ]
  },
  {
   "cell_type": "code",
   "execution_count": 151,
   "metadata": {
    "autoscroll": false,
    "collapsed": false,
    "ein.hycell": false,
    "ein.tags": "worksheet-0",
    "slideshow": {
     "slide_type": "-"
    }
   },
   "outputs": [],
   "source": [
    "df = pd.merge(company, everything, how='left', on='url')"
   ]
  },
  {
   "cell_type": "code",
   "execution_count": 3,
   "metadata": {
    "autoscroll": false,
    "collapsed": false,
    "ein.hycell": false,
    "ein.tags": "worksheet-0",
    "slideshow": {
     "slide_type": "-"
    }
   },
   "outputs": [],
   "source": [
    "SOC_LEVEL = 6\n",
    "X_train, y_train = dot_train_data(SOC_LEVEL)"
   ]
  },
  {
   "cell_type": "code",
   "execution_count": 4,
   "metadata": {
    "autoscroll": false,
    "collapsed": false,
    "ein.hycell": false,
    "ein.tags": "worksheet-0",
    "slideshow": {
     "slide_type": "-"
    }
   },
   "outputs": [
    {
     "data": {
      "text/plain": [
       "Pipeline(memory=None,\n     steps=[('sentencespace_100', PreEmbeddedVectorizer(cache_dir=None, chunk_size=1000, dims=100,\n           model='./ss_models/sentencespace_100_india/model')), ('lr', LogisticRegression(C=5.0, class_weight=None, dual=False, fit_intercept=True,\n          intercept_scaling=1, max_iter=100, multi_class='multinomial',\n          n_jobs=-1, penalty='l2', random_state=None, solver='newton-cg',\n          tol=0.0001, verbose=0, warm_start=False))])"
      ]
     },
     "execution_count": 4,
     "metadata": {},
     "output_type": "execute_result"
    }
   ],
   "source": [
    "model = Pipeline([('sentencespace_100', \n",
    "                   PreEmbeddedVectorizer(f'./ss_models/sentencespace_100_{COUNTRY}/model', \n",
    "                                         100, \n",
    "                                         cache_dir=f'embed_cache_{COUNTRY}')),\n",
    "                  ('lr', LogisticRegression(C=5., solver='newton-cg', multi_class=\"multinomial\", n_jobs=-1))])\n",
    "\n",
    "model.fit(X_train, y_train)"
   ]
  },
  {
   "cell_type": "code",
   "execution_count": 5,
   "metadata": {
    "autoscroll": false,
    "collapsed": false,
    "ein.hycell": false,
    "ein.tags": "worksheet-0",
    "slideshow": {
     "slide_type": "-"
    }
   },
   "outputs": [],
   "source": [
    "def _get_soc_n(df, n):\n",
    "    return (df.T\n",
    "            .reset_index()\n",
    "            .pipe(lambda df: df.assign(soc = df['index'].map(lambda i: str(i)[0:n])))\n",
    "            .set_index('soc')\n",
    "            .drop('index', 1)\n",
    "            .groupby('soc').sum().T)\n",
    "\n",
    "\n",
    "def get_pred(model, X):\n",
    "    vals = model.predict_proba(X)\n",
    "    df = pd.DataFrame(vals)\n",
    "    df.columns = model.classes_\n",
    "    n=3\n",
    "    return _get_soc_n(df, n)\n",
    "    \n",
    "def make_title_lookup(path, N):\n",
    "    dot_codes = get_dictionary('', N).groupby('soc').first()\n",
    "    d = dot_codes[f'desc_soc{N}'].to_dict()\n",
    "    def lookup(code):\n",
    "        try:\n",
    "            return d[int(code)]\n",
    "        except KeyError:\n",
    "            return code\n",
    "    return lookup"
   ]
  },
  {
   "cell_type": "code",
   "execution_count": 6,
   "metadata": {
    "autoscroll": false,
    "collapsed": false,
    "ein.hycell": false,
    "ein.tags": "worksheet-0",
    "slideshow": {
     "slide_type": "-"
    }
   },
   "outputs": [],
   "source": [
    "from s3fs import S3FileSystem\n",
    "\n",
    "fs = S3FileSystem()\n",
    "with fs.open('s3://oecd-scraping/indeed-india-v1/2018-08-02T09-00-19.jl') as f:\n",
    "    raw = pd.read_json(f, lines=True)"
   ]
  },
  {
   "cell_type": "code",
   "execution_count": 7,
   "metadata": {
    "autoscroll": false,
    "collapsed": false,
    "ein.hycell": false,
    "ein.tags": "worksheet-0",
    "slideshow": {
     "slide_type": "-"
    }
   },
   "outputs": [],
   "source": [
    "from embed_software.preprocess import claims_processor, readme_processor, Preprocessor\n",
    "string_processor = Preprocessor(readme_processor, 4).process\n",
    "\n",
    "# raw['url'] = raw.url.map(remove_qs)\n",
    "raw = raw.drop_duplicates(subset=['url'])\n",
    "raw['content'] = raw.description.map(string_processor)"
   ]
  },
  {
   "cell_type": "code",
   "execution_count": 8,
   "metadata": {
    "autoscroll": false,
    "collapsed": false,
    "ein.hycell": false,
    "ein.tags": "worksheet-0",
    "slideshow": {
     "slide_type": "-"
    }
   },
   "outputs": [],
   "source": [
    "company = pd.read_csv(f'matched-company/{COUNTRY}_url_only.csv')"
   ]
  },
  {
   "cell_type": "code",
   "execution_count": 9,
   "metadata": {
    "autoscroll": false,
    "collapsed": false,
    "ein.hycell": false,
    "ein.tags": "worksheet-0",
    "slideshow": {
     "slide_type": "-"
    }
   },
   "outputs": [],
   "source": [
    "df = pd.merge(company, raw, how='left', on='url')"
   ]
  },
  {
   "cell_type": "code",
   "execution_count": 10,
   "metadata": {
    "autoscroll": false,
    "collapsed": false,
    "ein.hycell": false,
    "ein.tags": "worksheet-0",
    "slideshow": {
     "slide_type": "-"
    }
   },
   "outputs": [],
   "source": [
    "to_predict = ~df.content.isna()"
   ]
  },
  {
   "cell_type": "code",
   "execution_count": 11,
   "metadata": {
    "autoscroll": false,
    "collapsed": false,
    "ein.hycell": false,
    "ein.tags": "worksheet-0",
    "slideshow": {
     "slide_type": "-"
    }
   },
   "outputs": [],
   "source": [
    "preds = get_pred(model, df[to_predict].content)"
   ]
  },
  {
   "cell_type": "code",
   "execution_count": 12,
   "metadata": {
    "autoscroll": false,
    "collapsed": false,
    "ein.hycell": false,
    "ein.tags": "worksheet-0",
    "slideshow": {
     "slide_type": "-"
    }
   },
   "outputs": [],
   "source": [
    "import numpy as np\n",
    "\n",
    "chosen = np.argmax(preds.values, 1)\n",
    "lookup = make_title_lookup('', 3)\n",
    "soc = pd.Series(chosen).map(lambda i: preds.columns[i])\n",
    "desc = soc.map(lookup)\n",
    "prob = preds.max(1)"
   ]
  },
  {
   "cell_type": "code",
   "execution_count": 13,
   "metadata": {
    "autoscroll": false,
    "collapsed": false,
    "ein.hycell": false,
    "ein.tags": "worksheet-0",
    "slideshow": {
     "slide_type": "-"
    }
   },
   "outputs": [],
   "source": [
    "df.loc[to_predict, 'prediction_code'] = soc.values\n",
    "df.loc[to_predict, 'prediction_description'] = desc.values\n",
    "df.loc[to_predict, 'prediction_confidence'] = prob.values"
   ]
  },
  {
   "cell_type": "code",
   "execution_count": null,
   "metadata": {
    "autoscroll": false,
    "collapsed": false,
    "ein.hycell": false,
    "ein.tags": "worksheet-0",
    "slideshow": {
     "slide_type": "-"
    }
   },
   "outputs": [],
   "source": [
    "df"
   ]
  },
  {
   "cell_type": "code",
   "execution_count": 15,
   "metadata": {
    "autoscroll": false,
    "collapsed": false,
    "ein.hycell": false,
    "ein.tags": "worksheet-0",
    "slideshow": {
     "slide_type": "-"
    }
   },
   "outputs": [],
   "source": [
    "import csv\n",
    "\n",
    "(df\n",
    " .drop(['content'], 1)\n",
    " .rename(columns = {'title_x': 'title'})\n",
    " .to_csv(f'matched-company/{COUNTRY}_indeed_matched123_predicted.csv', \n",
    "         index=False, \n",
    "         sep='\\t', \n",
    "         quoting=csv.QUOTE_ALL))"
   ]
  }
 ],
 "metadata": {
  "kernelspec": {
   "display_name": "Python 3",
   "name": "python3"
  },
  "language_info": {
   "codemirror_mode": {
    "name": "ipython",
    "version": 3
   },
   "file_extension": ".py",
   "mimetype": "text/x-python",
   "name": "python",
   "nbconvert_exporter": "python",
   "pygments_lexer": "ipython3",
   "version": "3.6.3"
  },
  "name": "match-companies.ipynb"
 },
 "nbformat": 4,
 "nbformat_minor": 2
}
