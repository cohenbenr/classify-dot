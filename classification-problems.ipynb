{
 "cells": [
  {
   "cell_type": "code",
   "execution_count": 1,
   "metadata": {
    "autoscroll": false,
    "collapsed": false,
    "ein.hycell": false,
    "ein.tags": "worksheet-0",
    "slideshow": {
     "slide_type": "-"
    }
   },
   "outputs": [],
   "source": [
    "import pandas as pd\n",
    "import numpy as np\n",
    "import re\n",
    "from statsmodels.iolib.summary2 import _df_to_simpletable, _formatter\n",
    "from statsmodels.iolib.table import SimpleTable\n",
    "\n",
    "from statsmodels.iolib.tableformatting import fmt_latex, fmt_txt"
   ]
  },
  {
   "cell_type": "code",
   "execution_count": 2,
   "metadata": {
    "autoscroll": false,
    "collapsed": false,
    "ein.hycell": false,
    "ein.tags": "worksheet-0",
    "slideshow": {
     "slide_type": "-"
    }
   },
   "outputs": [],
   "source": [
    "def counts(arr, i):\n",
    "    tp = arr[i,i]\n",
    "    fp = np.sum(arr[:,i]) - tp\n",
    "    fn = np.sum(arr[i,:]) - tp\n",
    "    return tp, fp, fn\n",
    "\n",
    "def prec(tp, fp):\n",
    "    return tp/(tp+fp) if (tp+fp) > 0 else 0.\n",
    "\n",
    "def recall(tp, fn):\n",
    "    return tp/(tp+fn) if (tp+fn) > 0 else 0.\n",
    "\n",
    "def scores_and_weights(df):\n",
    "    idx = df.values.sum(1) != 0\n",
    "    m = df.iloc[idx,:].values\n",
    "    weights = m.sum(1) / m.sum()\n",
    "    c = [counts(m, i) for i in np.arange(m.shape[0])]\n",
    "    return c, weights\n",
    "\n",
    "def micro(df):\n",
    "    c,_ = scores_and_weights(df)\n",
    "    tp, fp, fn = np.array(c).sum(0)\n",
    "    micro_precision, micro_recall = tp / (tp + fp), tp / (tp + fn)\n",
    "    return micro_precision, micro_recall\n",
    "\n",
    "def macro(df, mode='weighted'):\n",
    "    \"\"\" mode is {'weighted', 'raw', 'macro'} \"\"\"\n",
    "    c,weights = scores_and_weights(df)\n",
    "    precisions = np.array([prec(tp,fp) for tp,fp,fn in c])\n",
    "    recalls = np.array([recall(tp,fn) for tp,fp,fn in c])\n",
    "    if mode == 'raw':\n",
    "        return precisions, recalls\n",
    "    elif mode == 'weighted':\n",
    "        return precisions.dot(weights), recalls.dot(weights)\n",
    "    else:\n",
    "        return np.mean(precisions), np.mean(recalls)"
   ]
  },
  {
   "cell_type": "code",
   "execution_count": 3,
   "metadata": {
    "autoscroll": false,
    "collapsed": false,
    "ein.hycell": false,
    "ein.tags": "worksheet-0",
    "slideshow": {
     "slide_type": "-"
    }
   },
   "outputs": [],
   "source": [
    "def get_percentage(score, t, s):\n",
    "    i = get_idx(t)\n",
    "    if score == 'recall':\n",
    "        tot = get_trues(i)\n",
    "    elif score == 'precision':\n",
    "        tot = get_classified(i)\n",
    "    return s/tot\n",
    "\n",
    "def get_score(t, sdf, score):\n",
    "    i = get_idx(t)\n",
    "    return sdf[score][i]\n",
    "\n",
    "def map_series(ser, df):\n",
    "    ser.index = df.columns[ser.index]\n",
    "    return ser\n",
    "\n",
    "def single_tabular(s, title, score):\n",
    "    beg = 'begin{tabular}|end{tabular}'\n",
    "    a = [re.search(beg, i) for i in s.split('\\n')]\n",
    "    tabulars = np.argwhere(np.array(a) != None).reshape(-1)\n",
    "    insides = tabulars[1:-1]\n",
    "    rows = [e for i,e in enumerate(s.split('\\n')) if i not in insides]\n",
    "    rows = rows[2:]\n",
    "    rows = rows[:-2]\n",
    "    pre = ['\\\\begin{subtable}[t]{\\linewidth}',\n",
    "           '\\\\begin{tabular*}{\\\\textwidth}{l @{\\\\extracolsep{\\\\fill}} c}']\n",
    "\n",
    "    post = ['\\\\end{tabular*}', \n",
    "            '\\caption{{ {} }}'.format(title),\n",
    "            '\\end{subtable}',\n",
    "            '\\\\vspace{5mm}']\n",
    "    rows = pre + rows + post\n",
    "    return '\\n'.join(rows)\n",
    "\n",
    "def print_tables(x, score):\n",
    "    for title,value,s in x:\n",
    "        d = pd.DataFrame(s).reset_index()\n",
    "        d.columns = ['Occupation'.format(title), 'Percentage']\n",
    "        table = _df_to_simpletable(d, float_format=\"%.2f\", index=False)\n",
    "        s = table.as_latex_tabular()\n",
    "        s = single_tabular(s, title, score)\n",
    "        print(s)\n",
    "        print('\\n')\n",
    "\n",
    "def format_dfs(score, sdf, df, idx):\n",
    "    low = sdf[idx].sort_values(score).index\n",
    "\n",
    "    x = [(df.columns[i], df.iloc[i,:].sort_values(ascending=False)) \n",
    "         for i in low[0:5]]\n",
    "\n",
    "    if score == 'precision':\n",
    "        x = [(df.columns[i], df.iloc[:,i].sort_values(ascending=False)) \n",
    "             for i in low[0:5]]\n",
    "        x = [(t, map_series(ser,df)) for t,ser in x]\n",
    "\n",
    "    x = [(t,s[0:5]) for t,s in x]\n",
    "\n",
    "    # x = [(t,s[s.index != t][0:5]) for t,s in x]\n",
    "\n",
    "    # Get score and percentage\n",
    "    x = [(t,get_score(t,sdf,score),get_percentage(score,t,s)) \n",
    "         for t,s in x]\n",
    "    return x"
   ]
  },
  {
   "cell_type": "code",
   "execution_count": 4,
   "metadata": {
    "autoscroll": false,
    "collapsed": false,
    "ein.hycell": false,
    "ein.tags": "worksheet-0",
    "slideshow": {
     "slide_type": "-"
    }
   },
   "outputs": [],
   "source": [
    "def truncate(s, lim):\n",
    "    if len(s) > lim:\n",
    "        return s[0:lim-2] + chr(8230)\n",
    "    return s"
   ]
  },
  {
   "cell_type": "code",
   "execution_count": 34,
   "metadata": {
    "autoscroll": false,
    "collapsed": false,
    "ein.hycell": false,
    "ein.tags": "worksheet-0",
    "slideshow": {
     "slide_type": "-"
    }
   },
   "outputs": [],
   "source": [
    "df = pd.read_csv('confusion-matrices/soc-3/sentencespace_100_us.csv')\n",
    "df.columns = [truncate(col, 35) for col in df.columns]\n",
    "idx = df.sum(1) > 100\n",
    "scores = [counts(df.values, i) for i,_ in enumerate(df.values)]\n",
    "sdf = pd.DataFrame({'precision': [prec(tp,fp) for tp,fp,fn in scores], 'recall': [recall(tp,fn) for tp,fp,fn in scores]})\n",
    "\n",
    "get_idx = lambda t: np.argwhere(t == df.columns)[0][0]\n",
    "get_trues = lambda i: df.iloc[i,:].sum()\n",
    "get_classified = lambda i: df.iloc[:,i].sum()"
   ]
  },
  {
   "cell_type": "code",
   "execution_count": 8,
   "metadata": {
    "autoscroll": false,
    "collapsed": false,
    "ein.hycell": false,
    "ein.tags": "worksheet-0",
    "slideshow": {
     "slide_type": "-"
    }
   },
   "outputs": [],
   "source": [
    "f1 = lambda p,r: 2*p*r / (p+r)"
   ]
  },
  {
   "cell_type": "code",
   "execution_count": 22,
   "metadata": {
    "autoscroll": false,
    "collapsed": false,
    "ein.hycell": false,
    "ein.tags": "worksheet-0",
    "slideshow": {
     "slide_type": "-"
    }
   },
   "outputs": [],
   "source": [
    "def get_scores(country):\n",
    "    df = pd.read_csv(f'confusion-matrices/soc-3/sentencespace_100_{country}.csv')\n",
    "    vals = f1(*micro(df)), f1(*macro(df, 'macro')), f1(*macro(df, 'weighted'))\n",
    "    cols = 'micro', 'macro', 'weighted-macro'\n",
    "    return pd.Series((dict(zip(cols, vals))))\n",
    "\n"
   ]
  },
  {
   "cell_type": "code",
   "execution_count": 31,
   "metadata": {
    "autoscroll": false,
    "collapsed": false,
    "ein.hycell": false,
    "ein.tags": "worksheet-0",
    "slideshow": {
     "slide_type": "-"
    }
   },
   "outputs": [],
   "source": [
    "countries = ['us', 'india', 'uk']\n",
    "pd.DataFrame([get_scores(country) for country in countries], index=countries).to_csv('confusion-matrices/soc-3/scores.csv', index_label='country')"
   ]
  },
  {
   "cell_type": "code",
   "execution_count": 14,
   "metadata": {
    "autoscroll": false,
    "collapsed": false,
    "ein.hycell": false,
    "ein.tags": "worksheet-0",
    "slideshow": {
     "slide_type": "-"
    }
   },
   "outputs": [
    {
     "data": {
      "text/plain": [
       "(0.34089256308877985, 0.23925597093770326, 0.36693720438379823)"
      ]
     },
     "execution_count": 14,
     "metadata": {},
     "output_type": "execute_result"
    }
   ],
   "source": [
    "df = pd.read_csv('confusion-matrices/soc-3/sentencespace_100_uk.csv')\n",
    "f1(*micro(df)), f1(*macro(df, 'macro')), f1(*macro(df, 'weighted'))"
   ]
  },
  {
   "cell_type": "code",
   "execution_count": 15,
   "metadata": {
    "autoscroll": false,
    "collapsed": false,
    "ein.hycell": false,
    "ein.tags": "worksheet-0",
    "slideshow": {
     "slide_type": "-"
    }
   },
   "outputs": [
    {
     "data": {
      "text/plain": [
       "(0.48256213160217942, 0.36444336266961685, 0.5221185348236661)"
      ]
     },
     "execution_count": 15,
     "metadata": {},
     "output_type": "execute_result"
    }
   ],
   "source": [
    "df = pd.read_csv('confusion-matrices/soc-3/sentencespace_100_us.csv')\n",
    "f1(*micro(df)), f1(*macro(df, 'macro')), f1(*macro(df, 'weighted'))"
   ]
  },
  {
   "cell_type": "code",
   "execution_count": 36,
   "metadata": {
    "autoscroll": false,
    "collapsed": false,
    "ein.hycell": false,
    "ein.tags": "worksheet-0",
    "slideshow": {
     "slide_type": "-"
    }
   },
   "outputs": [
    {
     "name": "stdout",
     "output_type": "stream",
     "text": [
      "\\begin{subtable}[t]{\\linewidth}\n",
      "\\begin{tabular*}{\\textwidth}{l @{\\extracolsep{\\fill}} c}\n",
      "\\hline\n",
      "            Occupation             & Percentage  \\\\\n",
      "\\hline\n",
      "\\hline\n",
      "Vehicle and Mobile Equipment Mech… &       0.27  \\\\\n",
      "      Other Management Occupations &       0.14  \\\\\n",
      "   Operations Specialties Managers &       0.09  \\\\\n",
      "Other Installation, Maintenance, … &       0.08  \\\\\n",
      " Supervisors of Production Workers &       0.05  \\\\\n",
      "\\hline\n",
      "\\end{tabular*}\n",
      "\\caption{ Supervisors of Installation, Main… }\n",
      "\\end{subtable}\n",
      "\\vspace{5mm}\n",
      "\n",
      "\n",
      "\\begin{subtable}[t]{\\linewidth}\n",
      "\\begin{tabular*}{\\textwidth}{l @{\\extracolsep{\\fill}} c}\n",
      "\\hline\n",
      "            Occupation             & Percentage  \\\\\n",
      "\\hline\n",
      "\\hline\n",
      "       Construction Trades Workers &       0.57  \\\\\n",
      "      Other Production Occupations &       0.16  \\\\\n",
      "Other Installation, Maintenance, … &       0.11  \\\\\n",
      "Other Construction and Related Wo… &       0.05  \\\\\n",
      "Vehicle and Mobile Equipment Mech… &       0.03  \\\\\n",
      "\\hline\n",
      "\\end{tabular*}\n",
      "\\caption{ Helpers, Construction Trades }\n",
      "\\end{subtable}\n",
      "\\vspace{5mm}\n",
      "\n",
      "\n",
      "\\begin{subtable}[t]{\\linewidth}\n",
      "\\begin{tabular*}{\\textwidth}{l @{\\extracolsep{\\fill}} c}\n",
      "\\hline\n",
      "            Occupation             & Percentage  \\\\\n",
      "\\hline\n",
      "\\hline\n",
      "              Retail Sales Workers &       0.49  \\\\\n",
      "      Other Management Occupations &       0.06  \\\\\n",
      "      Other Production Occupations &       0.06  \\\\\n",
      "Entertainers and Performers, Spor… &       0.05  \\\\\n",
      "Sales Representatives, Wholesale … &       0.05  \\\\\n",
      "\\hline\n",
      "\\end{tabular*}\n",
      "\\caption{ Supervisors of Sales Workers }\n",
      "\\end{subtable}\n",
      "\\vspace{5mm}\n",
      "\n",
      "\n",
      "\\begin{subtable}[t]{\\linewidth}\n",
      "\\begin{tabular*}{\\textwidth}{l @{\\extracolsep{\\fill}} c}\n",
      "\\hline\n",
      "           Occupation           & Percentage  \\\\\n",
      "\\hline\n",
      "\\hline\n",
      "               Financial Clerks &       0.20  \\\\\n",
      "   Other Production Occupations &       0.10  \\\\\n",
      "          Financial Specialists &       0.10  \\\\\n",
      "Business Operations Specialists &       0.07  \\\\\n",
      "Operations Specialties Managers &       0.05  \\\\\n",
      "\\hline\n",
      "\\end{tabular*}\n",
      "\\caption{ Supervisors of Office and Adminis… }\n",
      "\\end{subtable}\n",
      "\\vspace{5mm}\n",
      "\n",
      "\n",
      "\\begin{subtable}[t]{\\linewidth}\n",
      "\\begin{tabular*}{\\textwidth}{l @{\\extracolsep{\\fill}} c}\n",
      "\\hline\n",
      "            Occupation             & Percentage  \\\\\n",
      "\\hline\n",
      "\\hline\n",
      "Building Cleaning and Pest Contro… &       0.31  \\\\\n",
      "      Other Management Occupations &       0.20  \\\\\n",
      " Supervisors of Production Workers &       0.10  \\\\\n",
      "Supervisors of Personal Care and … &       0.08  \\\\\n",
      "Supervisors of Building and Groun… &       0.05  \\\\\n",
      "\\hline\n",
      "\\end{tabular*}\n",
      "\\caption{ Supervisors of Building and Groun… }\n",
      "\\end{subtable}\n",
      "\\vspace{5mm}\n",
      "\n",
      "\n"
     ]
    }
   ],
   "source": [
    "print_tables(format_dfs('recall', sdf, df, idx), 'recall')        "
   ]
  },
  {
   "cell_type": "code",
   "execution_count": 37,
   "metadata": {
    "autoscroll": false,
    "collapsed": false,
    "ein.hycell": false,
    "ein.tags": "worksheet-0",
    "slideshow": {
     "slide_type": "-"
    }
   },
   "outputs": [
    {
     "name": "stdout",
     "output_type": "stream",
     "text": [
      "\\begin{subtable}[t]{\\linewidth}\n",
      "\\begin{tabular*}{\\textwidth}{l @{\\extracolsep{\\fill}} c}\n",
      "\\hline\n",
      "            Occupation             & Percentage  \\\\\n",
      "\\hline\n",
      "\\hline\n",
      "       Construction Trades Workers &       0.46  \\\\\n",
      "   Business Operations Specialists &       0.06  \\\\\n",
      "Building Cleaning and Pest Contro… &       0.05  \\\\\n",
      "      Helpers, Construction Trades &       0.05  \\\\\n",
      "Other Construction and Related Wo… &       0.05  \\\\\n",
      "\\hline\n",
      "\\end{tabular*}\n",
      "\\caption{ Other Construction and Related Wo… }\n",
      "\\end{subtable}\n",
      "\\vspace{5mm}\n",
      "\n",
      "\n",
      "\\begin{subtable}[t]{\\linewidth}\n",
      "\\begin{tabular*}{\\textwidth}{l @{\\extracolsep{\\fill}} c}\n",
      "\\hline\n",
      "            Occupation             & Percentage  \\\\\n",
      "\\hline\n",
      "\\hline\n",
      "Other Personal Care and Service W… &       0.15  \\\\\n",
      "      Supervisors of Sales Workers &       0.11  \\\\\n",
      "      Other Management Occupations &       0.08  \\\\\n",
      "   Business Operations Specialists &       0.06  \\\\\n",
      "Entertainers and Performers, Spor… &       0.06  \\\\\n",
      "\\hline\n",
      "\\end{tabular*}\n",
      "\\caption{ Entertainers and Performers, Spor… }\n",
      "\\end{subtable}\n",
      "\\vspace{5mm}\n",
      "\n",
      "\n",
      "\\begin{subtable}[t]{\\linewidth}\n",
      "\\begin{tabular*}{\\textwidth}{l @{\\extracolsep{\\fill}} c}\n",
      "\\hline\n",
      "            Occupation             & Percentage  \\\\\n",
      "\\hline\n",
      "\\hline\n",
      "     Information and Record Clerks &       0.43  \\\\\n",
      "      Other Transportation Workers &       0.12  \\\\\n",
      "Building Cleaning and Pest Contro… &       0.10  \\\\\n",
      "           Motor Vehicle Operators &       0.08  \\\\\n",
      "Baggage Porters, Bellhops, and Co… &       0.06  \\\\\n",
      "\\hline\n",
      "\\end{tabular*}\n",
      "\\caption{ Baggage Porters, Bellhops, and Co… }\n",
      "\\end{subtable}\n",
      "\\vspace{5mm}\n",
      "\n",
      "\n",
      "\\begin{subtable}[t]{\\linewidth}\n",
      "\\begin{tabular*}{\\textwidth}{l @{\\extracolsep{\\fill}} c}\n",
      "\\hline\n",
      "            Occupation             & Percentage  \\\\\n",
      "\\hline\n",
      "\\hline\n",
      "   Business Operations Specialists &       0.28  \\\\\n",
      "     Information and Record Clerks &       0.13  \\\\\n",
      "Material Recording, Scheduling, D… &       0.09  \\\\\n",
      "Supervisors of Office and Adminis… &       0.07  \\\\\n",
      "   Operations Specialties Managers &       0.06  \\\\\n",
      "\\hline\n",
      "\\end{tabular*}\n",
      "\\caption{ Supervisors of Office and Adminis… }\n",
      "\\end{subtable}\n",
      "\\vspace{5mm}\n",
      "\n",
      "\n",
      "\\begin{subtable}[t]{\\linewidth}\n",
      "\\begin{tabular*}{\\textwidth}{l @{\\extracolsep{\\fill}} c}\n",
      "\\hline\n",
      "            Occupation             & Percentage  \\\\\n",
      "\\hline\n",
      "\\hline\n",
      "Vehicle and Mobile Equipment Mech… &       0.18  \\\\\n",
      "Other Installation, Maintenance, … &       0.14  \\\\\n",
      "              Computer Occupations &       0.11  \\\\\n",
      "Supervisors of Installation, Main… &       0.07  \\\\\n",
      "Other Construction and Related Wo… &       0.07  \\\\\n",
      "\\hline\n",
      "\\end{tabular*}\n",
      "\\caption{ Supervisors of Installation, Main… }\n",
      "\\end{subtable}\n",
      "\\vspace{5mm}\n",
      "\n",
      "\n"
     ]
    }
   ],
   "source": [
    "print_tables(format_dfs('precision', sdf, df, idx), 'precision')"
   ]
  },
  {
   "cell_type": "code",
   "execution_count": 45,
   "metadata": {
    "autoscroll": false,
    "collapsed": false,
    "ein.hycell": false,
    "ein.tags": "worksheet-0",
    "slideshow": {
     "slide_type": "-"
    }
   },
   "outputs": [],
   "source": [
    "from validation.dot_data import get_dictionary\n",
    "\n",
    "dot_dict = get_dictionary('', 3)"
   ]
  },
  {
   "cell_type": "code",
   "execution_count": null,
   "metadata": {
    "autoscroll": false,
    "collapsed": false,
    "ein.hycell": false,
    "ein.tags": "worksheet-0",
    "slideshow": {
     "slide_type": "-"
    }
   },
   "outputs": [],
   "source": [
    "dot_dict[dot_dict.soc == 491].job_description.values"
   ]
  }
 ],
 "metadata": {
  "kernelspec": {
   "display_name": "Python 3",
   "name": "python3"
  },
  "language_info": {
   "codemirror_mode": {
    "name": "ipython",
    "version": 3
   },
   "file_extension": ".py",
   "mimetype": "text/x-python",
   "name": "python",
   "nbconvert_exporter": "python",
   "pygments_lexer": "ipython3",
   "version": "3.6.3"
  },
  "name": "classification-problems.ipynb"
 },
 "nbformat": 4,
 "nbformat_minor": 2
}
