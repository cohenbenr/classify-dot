{
 "cells": [
  {
   "cell_type": "code",
   "execution_count": 1,
   "metadata": {
    "autoscroll": false,
    "ein.hycell": false,
    "ein.tags": "worksheet-0",
    "slideshow": {
     "slide_type": "-"
    }
   },
   "outputs": [],
   "source": [
    "%load_ext autoreload\n",
    "%autoreload 2\n",
    "\n",
    "import pandas as pd\n",
    "import numpy as np\n",
    "from validation.dot_data import get_dictionary\n",
    "from toolz import curry\n",
    "from statsmodels.iolib.tableformatting import fmt_latex, fmt_txt"
   ]
  },
  {
   "cell_type": "code",
   "execution_count": 2,
   "metadata": {
    "autoscroll": false,
    "ein.hycell": false,
    "ein.tags": "worksheet-0",
    "slideshow": {
     "slide_type": "-"
    }
   },
   "outputs": [],
   "source": [
    "from validation.scoring import *"
   ]
  },
  {
   "cell_type": "code",
   "execution_count": 62,
   "metadata": {
    "autoscroll": false,
    "ein.hycell": false,
    "ein.tags": "worksheet-0",
    "slideshow": {
     "slide_type": "-"
    }
   },
   "outputs": [],
   "source": [
    "from validation.data import indeed_test_data, dot_train_data, get_soc_n\n",
    "\n",
    "SOC_LEVEL=3\n",
    "\n",
    "X_train, y_train = dot_train_data(SOC_LEVEL, include_tasks=False)\n",
    "count_lookup = y_train.value_counts().to_dict()\n",
    "code_lookup = make_code_lookup(SOC_LEVEL)\n",
    "\n",
    "df = pd.read_csv('confusion-matrices/soc-3/withprod/sentencespace_100_indeed-lr-large.csv')\n",
    "idx = df.sum(1) > 5\n",
    "\n",
    "df.index = df.columns\n",
    "test_count = df.sum(1)\n",
    "\n",
    "scores = [counts(df.values, i) for i,_ in enumerate(df.values)]\n",
    "sdf = pd.DataFrame({'precision': [prec(tp,fp) for tp,fp,fn in scores], 'recall': [recall(tp,fn) for tp,fp,fn in scores]})\n"
   ]
  },
  {
   "cell_type": "code",
   "execution_count": 58,
   "metadata": {
    "autoscroll": false,
    "ein.hycell": false,
    "ein.tags": "worksheet-0",
    "slideshow": {
     "slide_type": "-"
    }
   },
   "outputs": [],
   "source": [
    "def flip_df_to_socs(df, soc_level):\n",
    "    df = df.copy()\n",
    "    code_lookup = make_code_lookup(soc_level)\n",
    "    df.columns = [code_lookup[c] for c in df.columns]\n",
    "    df.index = df.columns\n",
    "    return df\n",
    "\n",
    "def make_title_lookup(soc_level):\n",
    "    code_lookup = make_code_lookup(soc_level)\n",
    "    return {v:k for k,v in code_lookup.items()}\n",
    "\n",
    "def collect_socs(vals, uplevel):\n",
    "    vals = [(int(str(v)[:uplevel]), v) for v in vals]\n",
    "    di = {}\n",
    "    for k,v in vals:\n",
    "        try:\n",
    "            di[k] += [v]\n",
    "        except KeyError:\n",
    "            di[k] = [v]\n",
    "    return di"
   ]
  },
  {
   "cell_type": "code",
   "execution_count": 63,
   "metadata": {
    "autoscroll": false,
    "ein.hycell": false,
    "ein.tags": "worksheet-0",
    "slideshow": {
     "slide_type": "-"
    }
   },
   "outputs": [],
   "source": [
    "def print_confusion_matrix_by_uplevel(basename, df, soc_level, uplevel, prod):\n",
    "    soc_df = flip_df_to_socs(df, soc_level)\n",
    "    title_lookup = make_title_lookup(soc_level)\n",
    "    for key,codes in collect_socs(soc_df, uplevel).items():\n",
    "        mini_df = soc_df.loc[codes, codes]\n",
    "        mini_df.columns = [title_lookup[c] for c in mini_df.columns]\n",
    "        mini_df = mini_df.reset_index(drop=True)\n",
    "        mini_df.to_csv(f'confusion-matrices/soc-{soc_level}/{prod}/aggs/{basename}-agg-level-{uplevel}-{key}.csv', index=False)\n",
    "\n",
    "\n",
    "print_confusion_matrix_by_uplevel('sentencespace_100_indeed-lr', df, 3, 1, 'withprod')"
   ]
  },
  {
   "cell_type": "code",
   "execution_count": 10,
   "metadata": {
    "autoscroll": false,
    "ein.hycell": false,
    "ein.tags": "worksheet-0",
    "slideshow": {
     "slide_type": "-"
    }
   },
   "outputs": [
    {
     "name": "stdout",
     "output_type": "stream",
     "text": [
      "\\begin{subtable}[t]{\\linewidth}\n",
      "\\caption{ Supervisors of Construction and Extraction Workers (SOC 471) (77/46) }\n",
      "\\begin{tabular*}{\\textwidth}{l @{\\extracolsep{\\fill}} c c c}\n",
      "\\hline\n",
      "    Classified Occupation     & SOC & Proportion & DOT/Test  \\\\\n",
      "\\hline\n",
      "\\hline\n",
      "  Construction Trades Workers & 472 &       0.39 &  201/494  \\\\\n",
      " Other Management Occupations & 119 &       0.20 &  213/773  \\\\\n",
      "Other Installation, Maintena… & 499 &       0.04 &  344/136  \\\\\n",
      "Business Operations Speciali… & 131 &       0.04 &  115/925  \\\\\n",
      " Helpers, Construction Trades & 473 &       0.04 &   31/104  \\\\\n",
      "\\hline\n",
      "\\end{tabular*}\n",
      "\\end{subtable}\n",
      "\\vspace{5mm}\n",
      "\n",
      "\n",
      "\\begin{subtable}[t]{\\linewidth}\n",
      "\\caption{ Supervisors of Office and Administrative Support… (SOC 431) (106/43) }\n",
      "\\begin{tabular*}{\\textwidth}{l @{\\extracolsep{\\fill}} c c c}\n",
      "\\hline\n",
      "    Classified Occupation     & SOC & Proportion & DOT/Test  \\\\\n",
      "\\hline\n",
      "\\hline\n",
      "        Financial Specialists & 132 &       0.16 &  33/1034  \\\\\n",
      "             Financial Clerks & 433 &       0.16 &   80/744  \\\\\n",
      "Information and Record Clerks & 434 &       0.14 &  110/825  \\\\\n",
      "Vehicle and Mobile Equipment… & 493 &       0.09 &   84/248  \\\\\n",
      "Operations Specialties Manag… & 113 &       0.07 &  117/329  \\\\\n",
      "\\hline\n",
      "\\end{tabular*}\n",
      "\\end{subtable}\n",
      "\\vspace{5mm}\n",
      "\n",
      "\n",
      "\\begin{subtable}[t]{\\linewidth}\n",
      "\\caption{ Communications Equipment Operators (SOC 432) (13/6) }\n",
      "\\begin{tabular*}{\\textwidth}{l @{\\extracolsep{\\fill}} c c c}\n",
      "\\hline\n",
      "    Classified Occupation     & SOC & Proportion & DOT/Test  \\\\\n",
      "\\hline\n",
      "\\hline\n",
      "Advertising, Marketing, Prom… & 112 &       0.33 &   24/162  \\\\\n",
      "Entertainers and Performers,… & 272 &       0.17 &    92/51  \\\\\n",
      "Material Recording, Scheduli… & 435 &       0.17 &  197/705  \\\\\n",
      "Information and Record Clerks & 434 &       0.17 &  110/825  \\\\\n",
      "Drafters, Engineering Techni… & 173 &       0.17 &   97/118  \\\\\n",
      "\\hline\n",
      "\\end{tabular*}\n",
      "\\end{subtable}\n",
      "\\vspace{5mm}\n",
      "\n",
      "\n",
      "\\begin{subtable}[t]{\\linewidth}\n",
      "\\caption{ Supervisors of Transportation and Material Movin… (SOC 531) (57/23) }\n",
      "\\begin{tabular*}{\\textwidth}{l @{\\extracolsep{\\fill}} c c c}\n",
      "\\hline\n",
      "    Classified Occupation     & SOC & Proportion & DOT/Test  \\\\\n",
      "\\hline\n",
      "\\hline\n",
      "      Motor Vehicle Operators & 533 &       0.35 &   41/160  \\\\\n",
      "      Material Moving Workers & 537 &       0.17 &  598/350  \\\\\n",
      "Other Sales and Related Work… & 419 &       0.13 &   51/479  \\\\\n",
      "Material Recording, Scheduli… & 435 &       0.13 &  197/705  \\\\\n",
      "Business Operations Speciali… & 131 &       0.09 &  115/925  \\\\\n",
      "\\hline\n",
      "\\end{tabular*}\n",
      "\\end{subtable}\n",
      "\\vspace{5mm}\n",
      "\n",
      "\n",
      "\\begin{subtable}[t]{\\linewidth}\n",
      "\\caption{ Other Production Occupations (SOC 519) (4854/276) }\n",
      "\\begin{tabular*}{\\textwidth}{l @{\\extracolsep{\\fill}} c c c}\n",
      "\\hline\n",
      "    Classified Occupation     & SOC & Proportion & DOT/Test  \\\\\n",
      "\\hline\n",
      "\\hline\n",
      "         Computer Occupations & 151 &       0.22 &  22/1297  \\\\\n",
      "Metal Workers and Plastic Wo… & 514 &       0.17 &  808/411  \\\\\n",
      "  Construction Trades Workers & 472 &       0.13 &  201/494  \\\\\n",
      "Vehicle and Mobile Equipment… & 493 &       0.07 &   84/248  \\\\\n",
      "      Material Moving Workers & 537 &       0.05 &  598/350  \\\\\n",
      "\\hline\n",
      "\\end{tabular*}\n",
      "\\end{subtable}\n",
      "\\vspace{5mm}\n",
      "\n",
      "\n"
     ]
    }
   ],
   "source": [
    "\n",
    "print_tables(format_dfs('recall', sdf, df, idx, code_lookup, count_lookup, test_count), 'recall')        "
   ]
  },
  {
   "cell_type": "code",
   "execution_count": 11,
   "metadata": {
    "autoscroll": false,
    "ein.hycell": false,
    "ein.tags": "worksheet-0",
    "slideshow": {
     "slide_type": "-"
    }
   },
   "outputs": [
    {
     "name": "stdout",
     "output_type": "stream",
     "text": [
      "\\begin{subtable}[t]{\\linewidth}\n",
      "\\caption{ Supervisors of Installation, Maintenance, and Re… (SOC 491) (94/23) }\n",
      "\\begin{tabular*}{\\textwidth}{l @{\\extracolsep{\\fill}} c c c}\n",
      "\\hline\n",
      "       True Occupation        & SOC & Proportion & DOT/Test  \\\\\n",
      "\\hline\n",
      "\\hline\n",
      "Military Enlisted Tactical O… & 553 &        nan &     40/8  \\\\\n",
      "Supervisors of Protective Se… & 331 &        nan &    31/13  \\\\\n",
      "Entertainers and Performers,… & 272 &        nan &    92/51  \\\\\n",
      "Media and Communication Work… & 273 &        nan &   50/278  \\\\\n",
      "Media and Communication Equi… & 274 &        nan &    56/42  \\\\\n",
      "\\hline\n",
      "\\end{tabular*}\n",
      "\\end{subtable}\n",
      "\\vspace{5mm}\n",
      "\n",
      "\n",
      "\\begin{subtable}[t]{\\linewidth}\n",
      "\\caption{ Communications Equipment Operators (SOC 432) (13/6) }\n",
      "\\begin{tabular*}{\\textwidth}{l @{\\extracolsep{\\fill}} c c c}\n",
      "\\hline\n",
      "       True Occupation        & SOC & Proportion & DOT/Test  \\\\\n",
      "\\hline\n",
      "\\hline\n",
      "Other Office and Administrat… & 439 &       0.30 &  154/303  \\\\\n",
      "Material Recording, Scheduli… & 435 &       0.20 &  197/705  \\\\\n",
      " Other Management Occupations & 119 &       0.10 &  213/773  \\\\\n",
      "         Computer Occupations & 151 &       0.10 &  22/1297  \\\\\n",
      "Secretaries and Administrati… & 436 &       0.10 &   10/341  \\\\\n",
      "\\hline\n",
      "\\end{tabular*}\n",
      "\\end{subtable}\n",
      "\\vspace{5mm}\n",
      "\n",
      "\n",
      "\\begin{subtable}[t]{\\linewidth}\n",
      "\\caption{ Supervisors of Transportation and Material Movin… (SOC 531) (57/23) }\n",
      "\\begin{tabular*}{\\textwidth}{l @{\\extracolsep{\\fill}} c c c}\n",
      "\\hline\n",
      "       True Occupation        & SOC & Proportion & DOT/Test  \\\\\n",
      "\\hline\n",
      "\\hline\n",
      "Operations Specialties Manag… & 113 &       1.00 &  117/329  \\\\\n",
      "Military Enlisted Tactical O… & 553 &       0.00 &     40/8  \\\\\n",
      "Supervisors of Protective Se… & 331 &       0.00 &    31/13  \\\\\n",
      "Entertainers and Performers,… & 272 &       0.00 &    92/51  \\\\\n",
      "Media and Communication Work… & 273 &       0.00 &   50/278  \\\\\n",
      "\\hline\n",
      "\\end{tabular*}\n",
      "\\end{subtable}\n",
      "\\vspace{5mm}\n",
      "\n",
      "\n",
      "\\begin{subtable}[t]{\\linewidth}\n",
      "\\caption{ Other Production Occupations (SOC 519) (4854/276) }\n",
      "\\begin{tabular*}{\\textwidth}{l @{\\extracolsep{\\fill}} c c c}\n",
      "\\hline\n",
      "       True Occupation        & SOC & Proportion & DOT/Test  \\\\\n",
      "\\hline\n",
      "\\hline\n",
      "Military Enlisted Tactical O… & 553 &        nan &     40/8  \\\\\n",
      "Supervisors of Protective Se… & 331 &        nan &    31/13  \\\\\n",
      "Entertainers and Performers,… & 272 &        nan &    92/51  \\\\\n",
      "Media and Communication Work… & 273 &        nan &   50/278  \\\\\n",
      "Media and Communication Equi… & 274 &        nan &    56/42  \\\\\n",
      "\\hline\n",
      "\\end{tabular*}\n",
      "\\end{subtable}\n",
      "\\vspace{5mm}\n",
      "\n",
      "\n",
      "\\begin{subtable}[t]{\\linewidth}\n",
      "\\caption{ Supervisors of Farming, Fishing, and Forestry Wo… (SOC 451) (48/6) }\n",
      "\\begin{tabular*}{\\textwidth}{l @{\\extracolsep{\\fill}} c c c}\n",
      "\\hline\n",
      "       True Occupation        & SOC & Proportion & DOT/Test  \\\\\n",
      "\\hline\n",
      "\\hline\n",
      "Military Enlisted Tactical O… & 553 &        nan &     40/8  \\\\\n",
      "Supervisors of Protective Se… & 331 &        nan &    31/13  \\\\\n",
      "Entertainers and Performers,… & 272 &        nan &    92/51  \\\\\n",
      "Media and Communication Work… & 273 &        nan &   50/278  \\\\\n",
      "Media and Communication Equi… & 274 &        nan &    56/42  \\\\\n",
      "\\hline\n",
      "\\end{tabular*}\n",
      "\\end{subtable}\n",
      "\\vspace{5mm}\n",
      "\n",
      "\n"
     ]
    }
   ],
   "source": [
    "print_tables(format_dfs('precision', sdf, df, idx, code_lookup, count_lookup, test_count), 'precision')"
   ]
  },
  {
   "cell_type": "code",
   "execution_count": 29,
   "metadata": {
    "autoscroll": false,
    "ein.hycell": false,
    "ein.tags": "worksheet-0",
    "slideshow": {
     "slide_type": "-"
    }
   },
   "outputs": [
    {
     "data": {
      "text/plain": [
       "(0.4480758680147347, 0.6518370133174584, 0.5242069823358642)"
      ]
     },
     "execution_count": 29,
     "metadata": {},
     "output_type": "execute_result"
    }
   ],
   "source": [
    "f1(*micro(df)), f1(*macro(df, 'macro')), f1(*macro(df, 'weighted'))"
   ]
  },
  {
   "cell_type": "code",
   "execution_count": 31,
   "metadata": {
    "autoscroll": false,
    "ein.hycell": false,
    "ein.tags": "worksheet-0",
    "slideshow": {
     "slide_type": "-"
    }
   },
   "outputs": [
    {
     "data": {
      "text/plain": [
       "(0.4880787295906956, 0.36041481773025075, 0.5159941375489523)"
      ]
     },
     "execution_count": 31,
     "metadata": {},
     "output_type": "execute_result"
    }
   ],
   "source": [
    "# US SS\n",
    "f1(*micro(df)), f1(*macro(df, 'macro')), f1(*macro(df, 'weighted'))"
   ]
  },
  {
   "cell_type": "code",
   "execution_count": null,
   "metadata": {
    "autoscroll": false,
    "ein.hycell": false,
    "ein.tags": "worksheet-0",
    "slideshow": {
     "slide_type": "-"
    }
   },
   "outputs": [],
   "source": [
    "print_tables(format_dfs('recall', sdf, df, idx), 'recall')        "
   ]
  },
  {
   "cell_type": "code",
   "execution_count": null,
   "metadata": {
    "autoscroll": false,
    "ein.hycell": false,
    "ein.tags": "worksheet-0",
    "slideshow": {
     "slide_type": "-"
    }
   },
   "outputs": [],
   "source": [
    "print_tables(format_dfs('precision', sdf, df, idx), 'precision')"
   ]
  },
  {
   "cell_type": "code",
   "execution_count": 104,
   "metadata": {
    "autoscroll": false,
    "ein.hycell": false,
    "ein.tags": "worksheet-0",
    "slideshow": {
     "slide_type": "-"
    }
   },
   "outputs": [],
   "source": []
  },
  {
   "cell_type": "code",
   "execution_count": 206,
   "metadata": {
    "autoscroll": false,
    "ein.hycell": false,
    "ein.tags": "worksheet-0",
    "slideshow": {
     "slide_type": "-"
    }
   },
   "outputs": [],
   "source": [
    "X_test, y_test, ids = indeed_test_data('../data/us/everything.csv', 100000, 3)"
   ]
  },
  {
   "cell_type": "code",
   "execution_count": 207,
   "metadata": {
    "autoscroll": false,
    "ein.hycell": false,
    "ein.tags": "worksheet-0",
    "slideshow": {
     "slide_type": "-"
    }
   },
   "outputs": [],
   "source": [
    "test_data = pd.DataFrame({'X': X_test, 'y': y_test})"
   ]
  },
  {
   "cell_type": "code",
   "execution_count": 109,
   "metadata": {
    "autoscroll": false,
    "ein.hycell": false,
    "ein.tags": "worksheet-0",
    "slideshow": {
     "slide_type": "-"
    }
   },
   "outputs": [],
   "source": []
  }
 ],
 "metadata": {
  "kernelspec": {
   "display_name": "Python 3",
   "language": "python",
   "name": "python3"
  },
  "language_info": {
   "codemirror_mode": {
    "name": "ipython",
    "version": 3
   },
   "file_extension": ".py",
   "mimetype": "text/x-python",
   "name": "python",
   "nbconvert_exporter": "python",
   "pygments_lexer": "ipython3",
   "version": "3.7.3"
  },
  "name": "classification-problems.ipynb"
 },
 "nbformat": 4,
 "nbformat_minor": 2
}
