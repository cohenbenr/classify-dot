{
 "cells": [
  {
   "cell_type": "code",
   "execution_count": null,
   "metadata": {
    "autoscroll": false,
    "collapsed": false,
    "ein.hycell": false,
    "ein.tags": "worksheet-0",
    "slideshow": {
     "slide_type": "-"
    }
   },
   "outputs": [],
   "source": [
    "! conda install -c conda-forge --yes hdbscan\n",
    "! conda install -c conda-forge --yes spacy\n",
    "! pip install allennlp\n",
    "! python -m spacy download en\n",
    "! python -m spacy download en_core_web_lg\n",
    "! pip install --quiet keras tensorflow\n",
    "! pip install --quiet hdmedians\n",
    "! pip install --quiet joblib"
   ]
  },
  {
   "cell_type": "code",
   "execution_count": 2,
   "metadata": {
    "autoscroll": false,
    "collapsed": false,
    "ein.hycell": false,
    "ein.tags": "worksheet-0",
    "slideshow": {
     "slide_type": "-"
    }
   },
   "outputs": [],
   "source": [
    "import matplotlib.pyplot as plt\n",
    "plt.rcParams['figure.figsize'] = [10, 7]\n",
    "\n",
    "import pandas as pd\n",
    "pd.set_option('display.width', 800)\n",
    "\n",
    "from joblib import Memory\n",
    "mem = Memory('tasks-joblib', verbose=0)"
   ]
  },
  {
   "cell_type": "code",
   "execution_count": 41,
   "metadata": {
    "autoscroll": false,
    "collapsed": false,
    "ein.hycell": false,
    "ein.tags": "worksheet-0",
    "slideshow": {
     "slide_type": "-"
    }
   },
   "outputs": [],
   "source": [
    "import spacy\n",
    "import numpy as np\n",
    "import seaborn as sns\n",
    "from scipy.spatial.distance import squareform, pdist\n",
    "\n",
    "def is_verb(token):\n",
    "    if not token.pos_ == 'VERB':\n",
    "        return False\n",
    "    if token.dep_ in ['acl', 'amod', 'prep'] and token.head.pos_ == 'NOUN':\n",
    "        return False\n",
    "    if token.dep_ in ['ccomp', 'advcl'] and token.head.pos_ == 'VERB':\n",
    "        return False\n",
    "    return True\n",
    "\n",
    "def get_head(doc):\n",
    "    return [t for t in doc if t.head == t][0]\n",
    "\n",
    "def get_verbs(doc):\n",
    "    return [t for t in doc if is_verb(t)]\n",
    "\n",
    "def get_descendents(token):\n",
    "    children = [c for c in token.children if not is_verb(c)]\n",
    "    desc = [d for c in children for d in get_descendents(c)]\n",
    "    return desc + [token]\n",
    "\n",
    "def is_stop(t):\n",
    "    return t.is_stop or len(str(t)) == 1 or t.pos_ in ['PUNCT', 'PART']\n",
    "\n",
    "def get_objs(v):\n",
    "    return [c for c in v.children \n",
    "            if c.dep_ in ['dobj', 'prep', 'ccomp', 'advcl']]\n",
    "\n",
    "def get_np(verb):    \n",
    "    children = get_objs(verb)\n",
    "    other_verbs = [c for c in verb.children if c.dep_ in ['conj']]\n",
    "    verbs = [verb]\n",
    "\n",
    "    if other_verbs and not children:\n",
    "        verbs += other_verbs\n",
    "        children = [i for v in other_verbs for i in get_objs(v)]\n",
    "\n",
    "    noun_phrase = [d for c in children \n",
    "                   for d in get_descendents(c) \n",
    "                   if not is_stop(d)]\n",
    "\n",
    "    noun_phrase = sorted(noun_phrase, key=lambda t: t.i)\n",
    "\n",
    "    return [' '.join(map(str, x)) for x in [verbs, noun_phrase]]\n",
    "\n",
    "def parse_sent(sent):\n",
    "    nps = [get_np(v) for v in get_verbs(sent)]    \n",
    "    nouns,verbs = [],[]\n",
    "    for v,n in nps:\n",
    "        if n and not n in nouns:\n",
    "            verbs += [v]\n",
    "            nouns += [n]\n",
    "    return list(zip(verbs, nouns))\n",
    "\n",
    "@mem.cache()\n",
    "def parse_tasks(tasks):\n",
    "    return list(tasks.Task.map(nlp))\n",
    "\n",
    "from numba import njit\n",
    "from numpy.linalg import norm\n",
    "\n",
    "@njit\n",
    "def _cosine(A,B):\n",
    "    m,_ = A.shape\n",
    "    cosines = np.empty((m), dtype=np.double)\n",
    "    for i in range(m):\n",
    "        cosines[i] = 1 - np.dot(A[i], B[i])\n",
    "    return cosines\n",
    "\n",
    "@njit\n",
    "def weighted_cosine(A,B, weights):\n",
    "    return np.dot(_cosine(A,B), weights)\n",
    "\n",
    "@njit\n",
    "def max_cosine(A,B):\n",
    "    return np.max(_cosine(A,B))\n",
    "\n",
    "@njit\n",
    "def _pdist(X, metric, *args):\n",
    "    m,_,_ = X.shape\n",
    "    k = 0\n",
    "    dm = np.empty((m * (m - 1)) // 2, dtype=np.double)\n",
    "    for i in range(0, m - 1):\n",
    "        for j in range(i + 1, m):\n",
    "            dm[k] = metric(X[i], X[j], *args)\n",
    "            k = k + 1\n",
    "    return dm                          \n",
    "\n",
    "def safe_int(i):\n",
    "    try: \n",
    "        return int(i)\n",
    "    except ValueError:\n",
    "        return None\n",
    "\n",
    "from sklearn.feature_extraction.text import TfidfVectorizer\n",
    "from sklearn.linear_model import LogisticRegression\n",
    "from hashlib import md5\n",
    "from hdmedians import medoid\n",
    "\n",
    "@mem.cache()\n",
    "def label_clusters_bow(socd, clusters):\n",
    "    # Top 5 positive words for each cluster via tfidf logistic regression\n",
    "    tfidf_vectorizer = TfidfVectorizer()\n",
    "    tfidf = tfidf_vectorizer.fit_transform(socd.task)\n",
    "\n",
    "    logistic = LogisticRegression(penalty='l1', C=2)\n",
    "    logistic.fit(tfidf, clusters)\n",
    "\n",
    "    rev_lookup = dict([(idx, w) for w,idx in tfidf_vectorizer.vocabulary_.items()])\n",
    "    a = np.array([[rev_lookup[j] for j in i] \n",
    "                  for i in np.flip(np.argsort(logistic.coef_, 1), 1)[:, :5]])\n",
    "\n",
    "    return np.apply_along_axis(lambda x: '; '.join(x), 1, a)\n",
    "\n",
    "@mem.cache()\n",
    "def label_clusters_medoid(socd, clusters, vecs):\n",
    "    flattened = np.array([np.hstack(i) for i in vecs])\n",
    "    lookup = dict(zip([hash(str(i)) for i in flattened], socd.task))\n",
    "\n",
    "    da = (pd.DataFrame(np.hstack([clusters.reshape(-1, 1), flattened]))\n",
    "          .rename(columns = {0: 'cluster'})\n",
    "          .sort_values('cluster')\n",
    "          .groupby('cluster')\n",
    "          .apply(lambda df: medoid(df.iloc[:, 1:].values.T))\n",
    "          .map(lambda a: lookup[hash(str(a))]))\n",
    "\n",
    "    d = sorted(list(da.to_dict().items()), key=lambda t: t[0])\n",
    "    return np.array([b for a,b in d])\n",
    "\n",
    "def hash(s):\n",
    "    m = md5()\n",
    "    m.update(s.encode('utf-8'))\n",
    "    return m.hexdigest()\n",
    "\n",
    "@mem.cache()\n",
    "def get_soc_wages(path):\n",
    "    wages = pd.read_csv(path, sep='\\t', engine='python')\n",
    "    wages['soc'] = wages['occsoc'].map(safe_int)\n",
    "\n",
    "    w = wages.dropna(subset=['soc', 'ln_hrwage_sic_purge'])\n",
    "    w['soc'] = w.soc.astype(int)\n",
    "\n",
    "    return (w[['soc', 'ln_hrwage_sic_purge']]\n",
    "            .groupby('soc')\n",
    "            .mean()\n",
    "            .reset_index())"
   ]
  },
  {
   "cell_type": "code",
   "execution_count": 4,
   "metadata": {
    "autoscroll": false,
    "collapsed": false,
    "ein.hycell": false,
    "ein.tags": "worksheet-0",
    "slideshow": {
     "slide_type": "-"
    }
   },
   "outputs": [],
   "source": [
    "tasks = pd.read_csv('tasks.txt', sep='\\t')    \n",
    "nlp = spacy.load('en_core_web_lg')\n",
    "\n",
    "parsed = parse_tasks(tasks)\n",
    "parsed_tasks = [parse_sent(p) for p in parsed]"
   ]
  },
  {
   "cell_type": "code",
   "execution_count": null,
   "metadata": {
    "autoscroll": false,
    "collapsed": false,
    "ein.hycell": false,
    "ein.tags": "worksheet-0",
    "slideshow": {
     "slide_type": "-"
    }
   },
   "outputs": [],
   "source": [
    "interesting = [0,2,4,8,9,10,22,55,61,81]\n",
    "[parsed_tasks[i] for i in interesting]"
   ]
  },
  {
   "cell_type": "code",
   "execution_count": 8,
   "metadata": {
    "autoscroll": false,
    "collapsed": false,
    "ein.hycell": false,
    "ein.tags": "worksheet-0",
    "slideshow": {
     "slide_type": "-"
    }
   },
   "outputs": [],
   "source": [
    "from classification.embedding import PreEmbeddedVectorizer\n",
    "from validation.data import get_soc_n\n",
    "\n",
    "vectorizer = PreEmbeddedVectorizer('./ss_models/sentencespace_100_us/model', 100, cache_dir='embed_cache')\n",
    "vecs = [[[vectorizer.fit_transform(t) for t in tup] for tup in li] for li in parsed_tasks]\n",
    "\n",
    "# each task should be a 2x100 array \n",
    "a = np.array([np.vstack([v,n]) for vec in vecs for v,n in vec])\n",
    "not_failed = np.array([np.linalg.norm(i) > 1.4 for i in a])\n",
    "vecs = a[not_failed]\n",
    "\n",
    "soc_6 = get_soc_n(tasks['O*NET-SOC Code'], 6)\n",
    "socd = pd.DataFrame([{ 'soc': soc, 'task': ' '.join(t)} \n",
    "                     for soc,tasks in zip(soc_6, parsed_tasks) \n",
    "                     for t in tasks])[not_failed]"
   ]
  },
  {
   "cell_type": "markdown",
   "metadata": {
    "ein.tags": "worksheet-0",
    "slideshow": {
     "slide_type": "-"
    }
   },
   "source": [
    "## Clustering Exploration"
   ]
  },
  {
   "cell_type": "code",
   "execution_count": null,
   "metadata": {
    "autoscroll": false,
    "collapsed": false,
    "ein.hycell": false,
    "ein.tags": "worksheet-0",
    "slideshow": {
     "slide_type": "-"
    }
   },
   "outputs": [],
   "source": [
    "from sklearn.cluster import AgglomerativeClustering\n",
    "\n",
    "clusterer = AgglomerativeClustering(n_clusters = CLUSTERS, linkage = 'average', memory = 'agglog', affinity='precomputed')\n",
    "clusters_agg = clusterer.fit_predict(squareform(d))"
   ]
  },
  {
   "cell_type": "code",
   "execution_count": 127,
   "metadata": {
    "autoscroll": false,
    "collapsed": false,
    "ein.hycell": false,
    "ein.tags": "worksheet-0",
    "slideshow": {
     "slide_type": "-"
    }
   },
   "outputs": [],
   "source": [
    "import hdbscan\n",
    "\n",
    "clusterer = hdbscan.HDBSCAN(min_cluster_size=3, min_samples=1)\n",
    "clusters = clusterer.fit_predict(squareform(d))"
   ]
  },
  {
   "cell_type": "code",
   "execution_count": 51,
   "metadata": {
    "autoscroll": false,
    "collapsed": false,
    "ein.hycell": false,
    "ein.tags": "worksheet-0",
    "slideshow": {
     "slide_type": "-"
    }
   },
   "outputs": [],
   "source": [
    "from sklearn.manifold import TSNE\n",
    "\n",
    "dat_tsne = TSNE(perplexity = 50, metric = 'precomputed').fit_transform(squareform(d))"
   ]
  },
  {
   "cell_type": "code",
   "execution_count": null,
   "metadata": {
    "autoscroll": false,
    "collapsed": false,
    "ein.hycell": false,
    "ein.tags": "worksheet-0",
    "slideshow": {
     "slide_type": "-"
    }
   },
   "outputs": [],
   "source": [
    "import seaborn as sns\n",
    "\n",
    "sns.scatterplot(x = 0, y = 1, hue = 'cluster', data = pd.DataFrame(dat_tsne).assign(cluster = clusters_agg))"
   ]
  },
  {
   "cell_type": "code",
   "execution_count": null,
   "metadata": {
    "autoscroll": false,
    "collapsed": false,
    "ein.hycell": false,
    "ein.tags": "worksheet-0",
    "slideshow": {
     "slide_type": "-"
    }
   },
   "outputs": [],
   "source": [
    "from sklearn.cluster import SpectralClustering\n",
    "\n",
    "clusterer = SpectralClustering(n_clusters = CLUSTERS, affinity='precomputed', n_jobs=-1)\n",
    "clusters_spec = clusterer.fit_predict(squareform(aff))"
   ]
  },
  {
   "cell_type": "markdown",
   "metadata": {
    "ein.tags": "worksheet-0",
    "slideshow": {
     "slide_type": "-"
    }
   },
   "source": [
    "## Regressing Wages on Tasks"
   ]
  },
  {
   "cell_type": "code",
   "execution_count": 12,
   "metadata": {
    "autoscroll": false,
    "collapsed": false,
    "ein.hycell": false,
    "ein.tags": "worksheet-0",
    "slideshow": {
     "slide_type": "-"
    }
   },
   "outputs": [],
   "source": [
    "from sklearn.preprocessing import OneHotEncoder\n",
    "from sklearn.cluster import AgglomerativeClustering\n",
    "\n",
    "def cluster_tasks(n_clusters, vecs):\n",
    "    d = _pdist(vecs, max_cosine)\n",
    "    aff = np.exp(-d**2 * 3)\n",
    "\n",
    "    clusterer = AgglomerativeClustering(n_clusters = n_clusters, \n",
    "                                        linkage = 'average', \n",
    "                                        memory = 'agglog', \n",
    "                                        affinity='precomputed')\n",
    "\n",
    "    clusters = clusterer.fit_predict(squareform(d))\n",
    "\n",
    "    return clusters\n",
    "\n",
    "\n",
    "\n",
    "def vectorize_tasks(socd, clusters):\n",
    "    cluster_one_hot = (OneHotEncoder()\n",
    "                       .fit_transform(clusters.reshape(-1, 1))\n",
    "                       .todense())\n",
    "\n",
    "    return (pd.DataFrame(np.hstack([socd.soc.values.reshape(-1,1), \n",
    "                                    cluster_one_hot]))\n",
    "            .rename(columns = {0: 'soc'})\n",
    "            .groupby('soc')\n",
    "            .sum()\n",
    "            .applymap(lambda v: np.minimum(v,1))\n",
    "            .reset_index())\n",
    "\n",
    "\n",
    "def get_task_overlap(socd, clusters):\n",
    "    v = vectorize_tasks(socd, clusters)\n",
    "    tasks_per_soc = v.iloc[:,1:].sum(1)\n",
    "    socs_per_task = v.iloc[:,1:].sum(0)\n",
    "    return tasks_per_soc, socs_per_task\n",
    "\n",
    "def make_regression_data(socd, clusters):\n",
    "    v = vectorize_tasks(socd, clusters)\n",
    "    wages_per_soc = get_soc_wages('census_us/census_2000_adjusted_wages.csv')\n",
    "    d = wages_per_soc.merge(v, how = 'inner', on='soc')\n",
    "    X,y = d.iloc[:,2:], d.ln_hrwage_sic_purge\n",
    "    return X,y"
   ]
  },
  {
   "cell_type": "code",
   "execution_count": 131,
   "metadata": {
    "autoscroll": false,
    "collapsed": false,
    "ein.hycell": false,
    "ein.tags": "worksheet-0",
    "slideshow": {
     "slide_type": "-"
    }
   },
   "outputs": [],
   "source": [
    "wages_per_soc = get_soc_wages('census_us/census_2000_adjusted_wages.csv')"
   ]
  },
  {
   "cell_type": "code",
   "execution_count": 133,
   "metadata": {
    "autoscroll": false,
    "collapsed": false,
    "ein.hycell": false,
    "ein.tags": "worksheet-0",
    "slideshow": {
     "slide_type": "-"
    }
   },
   "outputs": [
    {
     "data": {
      "text/plain": [
       "(439, 2)"
      ]
     },
     "execution_count": 133,
     "metadata": {},
     "output_type": "execute_result"
    }
   ],
   "source": [
    "wages_per_soc.shape"
   ]
  },
  {
   "cell_type": "code",
   "execution_count": 63,
   "metadata": {
    "autoscroll": false,
    "collapsed": false,
    "ein.hycell": false,
    "ein.tags": "worksheet-0",
    "slideshow": {
     "slide_type": "-"
    }
   },
   "outputs": [],
   "source": [
    "from functools import partial\n",
    "\n",
    "def hh(subval, df):\n",
    "    shares = df.groupby(subval).soc.count() / df.shape[0]\n",
    "    return np.sum(shares**2)\n",
    "\n",
    "def describe_clusters(socd, clusters, vecs):\n",
    "    HH = socd.assign(cluster = clusters).groupby('cluster').apply(partial(hh, 'soc'))\n",
    "    return pd.DataFrame({\n",
    "        'cluster': np.unique(clusters),\n",
    "        'label_bow': label_clusters_bow(socd, clusters),\n",
    "        'label_medoid': label_clusters_medoid(socd, clusters, vecs),\n",
    "        'HH': HH.values\n",
    "    })"
   ]
  },
  {
   "cell_type": "code",
   "execution_count": null,
   "metadata": {
    "autoscroll": false,
    "collapsed": false,
    "ein.hycell": false,
    "ein.tags": "worksheet-0",
    "slideshow": {
     "slide_type": "-"
    }
   },
   "outputs": [],
   "source": [
    "socd.assign(cluster = clusters)"
   ]
  },
  {
   "cell_type": "code",
   "execution_count": 98,
   "metadata": {
    "autoscroll": false,
    "collapsed": false,
    "ein.hycell": false,
    "ein.tags": "worksheet-0",
    "slideshow": {
     "slide_type": "-"
    }
   },
   "outputs": [
    {
     "name": "stderr",
     "output_type": "stream",
     "text": [
      "/opt/conda/lib/python3.6/site-packages/scipy/stats/stats.py:1713: FutureWarning: Using a non-tuple sequence for multidimensional indexing is deprecated; use `arr[tuple(seq)]` instead of `arr[seq]`. In the future this will be interpreted as an array index, `arr[np.array(seq)]`, which will result either in an error or a different result.\n",
      "  return np.add.reduce(sorted[indexer] * weights, axis=axis) / sumval\n"
     ]
    },
    {
     "data": {
      "text/plain": [
       "<matplotlib.axes._subplots.AxesSubplot at 0x7f16902f55c0>"
      ]
     },
     "execution_count": 98,
     "metadata": {},
     "output_type": "execute_result"
    },
    {
     "data": {
      "image/png": "[encoded data removed]",
      "text/plain": [
       "<Figure size 720x504 with 1 Axes>"
      ]
     },
     "metadata": {},
     "output_type": "display_data"
    }
   ],
   "source": [
    "# HH per soc code\n",
    "xx = (socd\n",
    " .assign(cluster = clusters)\n",
    " .groupby('soc')\n",
    " .apply(partial(hh, 'cluster'))\n",
    " .reset_index()\n",
    " .rename(columns = {0: 'HH'}))\n",
    "\n",
    "sns.distplot(xx.HH)"
   ]
  },
  {
   "cell_type": "code",
   "execution_count": 106,
   "metadata": {
    "autoscroll": false,
    "collapsed": false,
    "ein.hycell": false,
    "ein.tags": "worksheet-0",
    "slideshow": {
     "slide_type": "-"
    }
   },
   "outputs": [],
   "source": [
    "bads = xx[xx.HH > 0.7].soc"
   ]
  },
  {
   "cell_type": "code",
   "execution_count": 112,
   "metadata": {
    "autoscroll": false,
    "collapsed": false,
    "ein.hycell": false,
    "ein.tags": "worksheet-0",
    "slideshow": {
     "slide_type": "-"
    }
   },
   "outputs": [
    {
     "data": {
      "text/plain": [
       "(15548, 2)"
      ]
     },
     "execution_count": 112,
     "metadata": {},
     "output_type": "execute_result"
    }
   ],
   "source": [
    "socd.shape"
   ]
  },
  {
   "cell_type": "code",
   "execution_count": 113,
   "metadata": {
    "autoscroll": false,
    "collapsed": false,
    "ein.hycell": false,
    "ein.tags": "worksheet-0",
    "slideshow": {
     "slide_type": "-"
    }
   },
   "outputs": [
    {
     "data": {
      "text/plain": [
       "(775, 2)"
      ]
     },
     "execution_count": 113,
     "metadata": {},
     "output_type": "execute_result"
    }
   ],
   "source": [
    "xx.shape"
   ]
  },
  {
   "cell_type": "code",
   "execution_count": null,
   "metadata": {
    "autoscroll": false,
    "collapsed": false,
    "ein.hycell": false,
    "ein.tags": "worksheet-0",
    "slideshow": {
     "slide_type": "-"
    }
   },
   "outputs": [],
   "source": []
  },
  {
   "cell_type": "code",
   "execution_count": 130,
   "metadata": {
    "autoscroll": false,
    "collapsed": false,
    "ein.hycell": false,
    "ein.tags": "worksheet-0",
    "slideshow": {
     "slide_type": "-"
    }
   },
   "outputs": [
    {
     "data": {
      "text/plain": [
       "(14074,)"
      ]
     },
     "execution_count": 130,
     "metadata": {},
     "output_type": "execute_result"
    }
   ],
   "source": [
    "socd.task.unique().shape"
   ]
  },
  {
   "cell_type": "code",
   "execution_count": null,
   "metadata": {
    "autoscroll": false,
    "collapsed": false,
    "ein.hycell": false,
    "ein.tags": "worksheet-0",
    "slideshow": {
     "slide_type": "-"
    }
   },
   "outputs": [],
   "source": [
    "socd.groupby('soc').apply(lambda df: df.count())"
   ]
  },
  {
   "cell_type": "code",
   "execution_count": 119,
   "metadata": {
    "autoscroll": false,
    "collapsed": false,
    "ein.hycell": false,
    "ein.tags": "worksheet-0",
    "slideshow": {
     "slide_type": "-"
    }
   },
   "outputs": [
    {
     "data": {
      "text/plain": [
       "      soc                                               task  cluster        HH\n0  152091                                    using computers      104  1.000000\n1  192011  Develop modify astronomy related programs for ...       31  1.000000\n2  192011  determine sizes shapes brightness and motions ...       31  1.000000\n3  193094  analyze interpret data such as election result...       34  0.722222\n4  193094  reporting on findings recommendations and conc...       41  0.722222\n5  193094  Interpret analyze policies public issues legis...       34  0.722222\n6  193094  make related recommendations to institutions a...       34  0.722222\n7  193094  prepare speeches correspondence and policy pap...       34  0.722222\n8  193094  advise government officials civic bodies resea...       34  0.722222"
      ]
     },
     "execution_count": 119,
     "metadata": {},
     "output_type": "execute_result"
    }
   ],
   "source": [
    "socd.assign(cluster = clusters)[socd.soc.isin(bads)].merge(xx, on='soc')"
   ]
  },
  {
   "cell_type": "code",
   "execution_count": 81,
   "metadata": {
    "autoscroll": false,
    "collapsed": false,
    "ein.hycell": false,
    "ein.tags": "worksheet-0",
    "slideshow": {
     "slide_type": "-"
    }
   },
   "outputs": [],
   "source": [
    "CLUSTERS = 300"
   ]
  },
  {
   "cell_type": "code",
   "execution_count": null,
   "metadata": {
    "autoscroll": false,
    "collapsed": false,
    "ein.hycell": false,
    "ein.tags": "worksheet-0",
    "slideshow": {
     "slide_type": "-"
    }
   },
   "outputs": [],
   "source": [
    "clusters = cluster_tasks(CLUSTERS, vecs)\n",
    "X,y = make_regression_data(socd, clusters)\n",
    "cm, cbow = cluster_labellers(socd, clusters, vecs)"
   ]
  },
  {
   "cell_type": "code",
   "execution_count": null,
   "metadata": {
    "autoscroll": false,
    "collapsed": false,
    "ein.hycell": false,
    "ein.tags": "worksheet-0",
    "slideshow": {
     "slide_type": "-"
    }
   },
   "outputs": [],
   "source": [
    "from keras import models\n",
    "from keras import layers\n",
    "from keras import regularizers\n",
    "\n",
    "def linear_model():\n",
    "    model = models.Sequential()\n",
    "    model.add(layers.Dense(1, input_dim=CLUSTERS, kernel_initializer='normal', kernel_regularizer=regularizers.l1(0.01)))\n",
    "    model.compile(loss='mean_squared_error', optimizer='adam')\n",
    "    return model"
   ]
  },
  {
   "cell_type": "code",
   "execution_count": null,
   "metadata": {
    "autoscroll": false,
    "collapsed": false,
    "ein.hycell": false,
    "ein.tags": "worksheet-0",
    "slideshow": {
     "slide_type": "-"
    }
   },
   "outputs": [],
   "source": [
    "model = linear_model()\n",
    "model.fit(X, y, validation_split=0.33, epochs = 25, batch_size=5)"
   ]
  },
  {
   "cell_type": "code",
   "execution_count": 86,
   "metadata": {
    "autoscroll": false,
    "collapsed": false,
    "ein.hycell": false,
    "ein.tags": "worksheet-0",
    "slideshow": {
     "slide_type": "-"
    }
   },
   "outputs": [],
   "source": [
    "def interpret_weights(w, lookup, thresh=0.003):\n",
    "    descs = [lookup[i] for i in np.argwhere(np.abs(w) > thresh)[:,0]]    \n",
    "    for v,d in zip(w[np.abs(w) > thresh], descs):\n",
    "        print(v, d)"
   ]
  },
  {
   "cell_type": "code",
   "execution_count": 87,
   "metadata": {
    "autoscroll": false,
    "collapsed": false,
    "ein.hycell": false,
    "ein.tags": "worksheet-0",
    "slideshow": {
     "slide_type": "-"
    }
   },
   "outputs": [],
   "source": [
    "lookup = describe_clusters(socd, clusters, vecs)\n",
    "lookup = {i: v.values for i,v in lookup.iterrows()}    "
   ]
  },
  {
   "cell_type": "code",
   "execution_count": 140,
   "metadata": {
    "autoscroll": false,
    "collapsed": false,
    "ein.hycell": false,
    "ein.tags": "worksheet-0",
    "slideshow": {
     "slide_type": "-"
    }
   },
   "outputs": [
    {
     "name": "stdout",
     "output_type": "stream",
     "text": [
      "-0.005162872 [21 'twist; old; understaffing; contraceptives; balancing'\n",
      " 'checking prices' 0.0816326530612245]\n",
      "0.027558347 [28 'abreast; lectures; disorders; stimulation; committees'\n",
      " 'Compile maintain patients medical records document condition and treatment and'\n",
      " 0.010005888197098797]\n",
      "0.006800719 [55 'cope; usage; according; schemas; undercover'\n",
      " 'according to specifications' 0.0061734693877551015]\n",
      "-0.097015135 [73 'postage; pamphlets; enter; complaints; clerical'\n",
      " 'perform clerical duties' 0.013277835587929238]\n",
      "-0.014542916 [104 'participating; perceptual; using; radios; electrophoresis'\n",
      " 'using computers' 0.0078125]\n",
      "0.009468064 [124 'enlarger; user; networks; users; gathered'\n",
      " 'provide technical information' 0.009644532506901048]\n",
      "0.011784449 [126 'bonding; defects; engagements; portray; demand' 'locate defects'\n",
      " 0.026172839506172843]\n",
      "0.018537248 [128 'magnesium; violate; paperwork; complaints; locations'\n",
      " 'resolve customers complaints regarding products or services'\n",
      " 0.014233198227919687]\n",
      "0.032964308 [231 'financial; risk; inefficient; litigation; credit'\n",
      " 'ensure accuracy and regulatory compliance' 0.01663688963923355]\n"
     ]
    }
   ],
   "source": [
    "w = model.get_layer(index=0).get_weights()[0]\n",
    "interpret_weights(w, lookup, 0.005)"
   ]
  },
  {
   "cell_type": "code",
   "execution_count": null,
   "metadata": {
    "autoscroll": false,
    "collapsed": false,
    "ein.hycell": false,
    "ein.tags": "worksheet-0",
    "slideshow": {
     "slide_type": "-"
    }
   },
   "outputs": [],
   "source": [
    "# interpret the results"
   ]
  },
  {
   "cell_type": "code",
   "execution_count": null,
   "metadata": {
    "autoscroll": false,
    "collapsed": false,
    "ein.hycell": false,
    "ein.tags": "worksheet-0",
    "slideshow": {
     "slide_type": "-"
    }
   },
   "outputs": [],
   "source": [
    "from sklearn.linear_model import LassoCV\n",
    "\n",
    "lasso = LassoCV()\n",
    "lasso.fit(X, y)"
   ]
  },
  {
   "cell_type": "code",
   "execution_count": 274,
   "metadata": {
    "autoscroll": false,
    "collapsed": false,
    "ein.hycell": false,
    "ein.tags": "worksheet-0",
    "slideshow": {
     "slide_type": "-"
    }
   },
   "outputs": [
    {
     "data": {
      "text/plain": [
       "0.002272518565852948"
      ]
     },
     "execution_count": 274,
     "metadata": {},
     "output_type": "execute_result"
    }
   ],
   "source": [
    "lasso.alpha_"
   ]
  },
  {
   "cell_type": "code",
   "execution_count": null,
   "metadata": {
    "autoscroll": false,
    "collapsed": false,
    "ein.hycell": false,
    "ein.tags": "worksheet-0",
    "slideshow": {
     "slide_type": "-"
    }
   },
   "outputs": [],
   "source": [
    "np.argwhere(np.abs(lasso.coef_) > 0.005)"
   ]
  },
  {
   "cell_type": "code",
   "execution_count": null,
   "metadata": {
    "autoscroll": false,
    "collapsed": false,
    "ein.hycell": false,
    "ein.tags": "worksheet-0",
    "slideshow": {
     "slide_type": "-"
    }
   },
   "outputs": [],
   "source": [
    "lasso.coef_[np.argwhere(np.abs(lasso.coef_) > 0.005)]"
   ]
  },
  {
   "cell_type": "code",
   "execution_count": null,
   "metadata": {
    "autoscroll": false,
    "collapsed": false,
    "ein.hycell": false,
    "ein.tags": "worksheet-0",
    "slideshow": {
     "slide_type": "-"
    }
   },
   "outputs": [],
   "source": [
    "pd.read_csv('')"
   ]
  },
  {
   "cell_type": "code",
   "execution_count": null,
   "metadata": {
    "autoscroll": false,
    "collapsed": false,
    "ein.hycell": false,
    "ein.tags": "worksheet-0",
    "slideshow": {
     "slide_type": "-"
    }
   },
   "outputs": [],
   "source": [
    "from spacy import displacy\n",
    "\n",
    "displacy.render(parsed[2], style='dep', jupyter=True)"
   ]
  },
  {
   "cell_type": "markdown",
   "metadata": {
    "ein.tags": "worksheet-0",
    "slideshow": {
     "slide_type": "-"
    }
   },
   "source": [
    "## ELMO Embedding"
   ]
  },
  {
   "cell_type": "code",
   "execution_count": null,
   "metadata": {
    "autoscroll": false,
    "collapsed": false,
    "ein.hycell": false,
    "ein.tags": "worksheet-0",
    "slideshow": {
     "slide_type": "-"
    }
   },
   "outputs": [],
   "source": [
    "from allennlp.commands.elmo import ElmoEmbedder\n",
    "\n",
    "elmo = ElmoEmbedder()\n",
    "v = elmo.embed_sentence([str(t) for t in parsed[0]])"
   ]
  },
  {
   "cell_type": "code",
   "execution_count": null,
   "metadata": {
    "autoscroll": false,
    "collapsed": false,
    "ein.hycell": false,
    "ein.tags": "worksheet-0",
    "slideshow": {
     "slide_type": "-"
    }
   },
   "outputs": [
    {
     "data": {
      "text/plain": [
       "(3, 21, 1024)"
      ]
     },
     "execution_count": 27,
     "metadata": {},
     "output_type": "execute_result"
    }
   ],
   "source": [
    "v.shape"
   ]
  }
 ],
 "metadata": {
  "kernelspec": {
   "display_name": "Python 3",
   "name": "python3"
  },
  "language_info": {
   "codemirror_mode": {
    "name": "ipython",
    "version": 3
   },
   "file_extension": ".py",
   "mimetype": "text/x-python",
   "name": "python",
   "nbconvert_exporter": "python",
   "pygments_lexer": "ipython3",
   "version": "3.6.3"
  },
  "name": "tasks.ipynb"
 },
 "nbformat": 4,
 "nbformat_minor": 2
}
