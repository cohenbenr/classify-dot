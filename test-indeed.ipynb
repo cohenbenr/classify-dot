{
 "cells": [
  {
   "cell_type": "code",
   "execution_count": 2,
   "metadata": {
    "autoscroll": false,
    "collapsed": false,
    "ein.tags": "worksheet-0",
    "slideshow": {
     "slide_type": "-"
    }
   },
   "outputs": [],
   "source": [
    "! pip install --quiet nltk"
   ]
  },
  {
   "cell_type": "code",
   "execution_count": null,
   "metadata": {
    "autoscroll": false,
    "collapsed": false,
    "ein.tags": "worksheet-0",
    "slideshow": {
     "slide_type": "-"
    }
   },
   "outputs": [],
   "source": [
    "import nltk \n",
    "nltk.download('wordnet')"
   ]
  },
  {
   "cell_type": "code",
   "execution_count": 4,
   "metadata": {
    "autoscroll": false,
    "collapsed": false,
    "ein.tags": "worksheet-0",
    "slideshow": {
     "slide_type": "-"
    }
   },
   "outputs": [],
   "source": [
    "import os\n",
    "import pandas as pd\n",
    "import numpy as np\n",
    "from glob import glob\n",
    "from nltk.stem import WordNetLemmatizer\n",
    "import re\n",
    "\n",
    "pd.set_option('max_colwidth',50)"
   ]
  },
  {
   "cell_type": "code",
   "execution_count": 6,
   "metadata": {
    "autoscroll": false,
    "collapsed": false,
    "ein.tags": "worksheet-0",
    "slideshow": {
     "slide_type": "-"
    }
   },
   "outputs": [],
   "source": [
    "class LemmaTokenizer(object):\n",
    "    regex = r'\\w+'\n",
    "    def __init__(self):\n",
    "        self.wnl = WordNetLemmatizer()        \n",
    "\n",
    "    def __call__(self, doc):\n",
    "        return [self.wnl.lemmatize(t) for t in re.findall(self.regex,doc)]\n",
    "    \n",
    "def get_indeed_texts(path, **kwargs):\n",
    "    indeed = pd.read_csv(path, **kwargs)\n",
    "    indeed['description'] = indeed.description.str.replace('Job Summary ', '')\n",
    "    text = indeed.title.str.cat(indeed.description, sep=' ')\n",
    "    return text, indeed\n",
    "\n",
    "def get_exact_matches(df, lookup):\n",
    "    merged = df.merge(lookup, how = 'left', on=['title'])\n",
    "    return merged[~merged.code.isna()]"
   ]
  },
  {
   "cell_type": "code",
   "execution_count": 6,
   "metadata": {
    "autoscroll": false,
    "collapsed": false,
    "ein.tags": "worksheet-0",
    "slideshow": {
     "slide_type": "-"
    }
   },
   "outputs": [],
   "source": [
    "vectorizer = pd.read_pickle('models/tfidf.pkl')\n",
    "policy_prob = pd.read_pickle('models/logistic-model.pkl')        "
   ]
  },
  {
   "cell_type": "code",
   "execution_count": 7,
   "metadata": {
    "autoscroll": false,
    "collapsed": false,
    "ein.tags": "worksheet-0",
    "slideshow": {
     "slide_type": "-"
    }
   },
   "outputs": [],
   "source": [
    "text,indeed = get_indeed_texts('data/2018-08-02T09-00-19.csv', nrows=50000)\n",
    "# vecs = vectorizer.transform(text)\n",
    "# preds = policy_prob.predict(vecs)"
   ]
  },
  {
   "cell_type": "code",
   "execution_count": null,
   "metadata": {
    "autoscroll": false,
    "collapsed": false,
    "ein.tags": "worksheet-0",
    "slideshow": {
     "slide_type": "-"
    }
   },
   "outputs": [],
   "source": [
    "d = pd.DataFrame({'predicted': preds, 'title': indeed.title, 'description': indeed.description})\n",
    "d.head(50)"
   ]
  },
  {
   "cell_type": "code",
   "execution_count": null,
   "metadata": {
    "autoscroll": false,
    "collapsed": false,
    "ein.tags": "worksheet-0",
    "slideshow": {
     "slide_type": "-"
    }
   },
   "outputs": [],
   "source": [
    "lookup = pd.read_csv('crosswalks/soc-title-lookup.csv')\n",
    "v = get_exact_matches(indeed, lookup)\n",
    "v"
   ]
  },
  {
   "cell_type": "code",
   "execution_count": null,
   "metadata": {
    "autoscroll": false,
    "collapsed": false,
    "ein.tags": "worksheet-0",
    "slideshow": {
     "slide_type": "-"
    }
   },
   "outputs": [],
   "source": [
    "v.code"
   ]
  },
  {
   "cell_type": "code",
   "execution_count": 6,
   "metadata": {
    "autoscroll": false,
    "collapsed": false,
    "ein.tags": "worksheet-0",
    "slideshow": {
     "slide_type": "-"
    }
   },
   "outputs": [],
   "source": [
    "\n",
    "\n",
    "dot = pd.read_csv('data/dot_test_2.csv')"
   ]
  },
  {
   "cell_type": "code",
   "execution_count": 9,
   "metadata": {
    "autoscroll": false,
    "collapsed": false,
    "ein.tags": "worksheet-0",
    "slideshow": {
     "slide_type": "-"
    }
   },
   "outputs": [
    {
     "data": {
      "text/plain": [
       "                                              desc_soc2  soc2    soc6\n0              Architecture and Engineering Occupations    17  171011\n12                        Sales and Related Occupations    41  419031\n43                               Management Occupations    11  119041\n84                               Production Occupations    51  519195\n123      Life, Physical, and Social Science Occupations    19  194031\n266               Computer and Mathematical Occupations    15  151099\n272       Business and Financial Operations Occupations    13  131081\n276   Installation, Maintenance, and Repair Occupations    49  499062\n283   Arts, Design, Entertainment, Sports, and Media...    27  273042\n431            Community and Social Service Occupations    21  211012\n468        Education, Training, and Library Occupations    25  254013\n474   Healthcare Practitioners and Technical Occupat...    29  291069\n525                      Healthcare Support Occupations    31  319095\n795               Personal Care and Service Occupations    39  399031\n847       Office and Administrative Support Occupations    43  431011\n854                                   Legal Occupations    23  231011\n1187                     Protective Service Occupations    33  333051\n1192            Construction and Extraction Occupations    47  474011\n1204     Transportation and Material Moving Occupations    53  536051\n1226         Farming, Fishing, and Forestry Occupations    45  454029\n1522  Building and Grounds Cleaning and Maintenance ...    37  371011\n1806                      Military Specific Occupations    55  553019\n1992   Food Preparation and Serving Related Occupations    35  359099"
      ]
     },
     "execution_count": 9,
     "metadata": {},
     "output_type": "execute_result"
    }
   ],
   "source": [
    "# lookup = pd.read_csv('crosswalks/soc-title-lookup.csv')\n",
    "# lookup['code'] = lookup.code.str.replace('-', '').astype(int)\n",
    "# xwalk = pd.read_stata('crosswalks/dot1991_census_soc_crosswalk.dta')\n",
    "\n",
    "xwalk.drop_duplicates(['soc2'])[['desc_soc2', 'soc2', 'soc6']]"
   ]
  },
  {
   "cell_type": "code",
   "execution_count": null,
   "metadata": {
    "autoscroll": false,
    "collapsed": false,
    "ein.tags": "worksheet-0",
    "slideshow": {
     "slide_type": "-"
    }
   },
   "outputs": [],
   "source": [
    "df = lookup.merge(xwalk, how='left', left_on='code', right_on='soc6')"
   ]
  },
  {
   "cell_type": "code",
   "execution_count": 1,
   "metadata": {
    "autoscroll": false,
    "collapsed": false,
    "ein.tags": "worksheet-0",
    "slideshow": {
     "slide_type": "-"
    }
   },
   "outputs": [
    {
     "ename": "NameError",
     "evalue": "name 'xwalk' is not defined",
     "output_type": "error",
     "traceback": [
      "\u001b[0;31m---------------------------------------------------------------------------\u001b[0m",
      "\u001b[0;31mNameError\u001b[0m                                 Traceback (most recent call last)",
      "\u001b[0;32m<ipython-input-1-83e1beb1e8bd>\u001b[0m in \u001b[0;36m<module>\u001b[0;34m()\u001b[0m\n\u001b[0;32m----> 1\u001b[0;31m \u001b[0mxwalk\u001b[0m\u001b[0;34m\u001b[0m\u001b[0m\n\u001b[0m",
      "\u001b[0;31mNameError\u001b[0m: name 'xwalk' is not defined"
     ]
    }
   ],
   "source": [
    "xwalk"
   ]
  },
  {
   "cell_type": "code",
   "execution_count": null,
   "metadata": {
    "autoscroll": false,
    "collapsed": false,
    "ein.tags": "worksheet-0",
    "slideshow": {
     "slide_type": "-"
    }
   },
   "outputs": [],
   "source": [
    "dot.columns"
   ]
  }
 ],
 "metadata": {
  "kernelspec": {
   "display_name": "Python 3",
   "name": "python3"
  },
  "language_info": {
   "codemirror_mode": {
    "name": "ipython",
    "version": 3
   },
   "file_extension": ".py",
   "mimetype": "text/x-python",
   "name": "python",
   "nbconvert_exporter": "python",
   "pygments_lexer": "ipython3",
   "version": "3.6.6"
  },
  "name": "test-indeed.ipynb"
 },
 "nbformat": 4,
 "nbformat_minor": 2
}
