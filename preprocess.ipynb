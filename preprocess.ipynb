{
 "cells": [
  {
   "cell_type": "code",
   "execution_count": 1,
   "metadata": {},
   "outputs": [],
   "source": [
    "from embed_software.preprocess import claims_processor, readme_processor, Preprocessor"
   ]
  },
  {
   "cell_type": "code",
   "execution_count": 75,
   "metadata": {},
   "outputs": [],
   "source": [
    "from os.path import join\n",
    "import json\n",
    "import dataset\n",
    "from time import sleep\n",
    "\n",
    "from multiprocessing import Pool\n",
    "from tqdm import tqdm_notebook  \n",
    "from itertools import takewhile, islice, count\n",
    "from sqlite3 import connect, OperationalError\n",
    "\n",
    "def chunk(n, it):\n",
    "    src = iter(it)\n",
    "    return takewhile(bool, (list(islice(src, n)) for _ in count(0)))\n",
    "\n",
    "\n",
    "con.commit()\n",
    "\n",
    "class ParallelProcessor():\n",
    "    def __init__(self, inpath, fs, outpath, string_processor, cores, **kwargs):\n",
    "        self.inpath = inpath\n",
    "        self.outpath = outpath\n",
    "        self.cores = cores\n",
    "        self.fs = fs\n",
    "        self.kwargs = kwargs\n",
    "        self.string_processor = string_processor\n",
    "\n",
    "        \n",
    "    def _create_table(self, outpath):\n",
    "        con = connect(self.outpath)\n",
    "        cur = con.cursor()\n",
    "        cur.execute(\"\"\"CREATE TABLE processed(id INTEGER PRIMARY KEY, \n",
    "                                              url VAARCHAR UNIQUE, \n",
    "                                              title VARCHAR, \n",
    "                                              content VARCHAR, \n",
    "                                              timestamp DATETIME)\n",
    "                                              \"\"\")\n",
    "        con.commit()\n",
    "        cur.close()\n",
    "        con.close()\n",
    "        \n",
    "    def _insert_rows(self, cur, li, tries=0):\n",
    "        try:\n",
    "            cur.executemany(\"insert or ignore into processed(url,title,content,timestamp) values (?,?,?,?)\", li)\n",
    "        except OperationalError:\n",
    "            sleep(.2)\n",
    "            if tries < 20:\n",
    "                self._insert_rows(cur, li, tries = tries+1)\n",
    "            \n",
    "    def _process(self, d, keys):\n",
    "        d['content'] = self.string_processor(d['description'])\n",
    "        d = [d[k] for k in keys] if d['content'] else None\n",
    "        return d\n",
    "        \n",
    "    def _get_files(self):\n",
    "        files = self.fs.ls(self.inpath)\n",
    "        files = [f.split('/')[-1] for f in files]\n",
    "        return [f for f in files if f]\n",
    "    \n",
    "    def process(self, filename):\n",
    "        con = connect(self.outpath)        \n",
    "        cur = con.cursor()             \n",
    "        with self.fs.open(filename) as f:\n",
    "            for c in chunk(1000, f):\n",
    "                rows = [self._process(json.loads(l), **self.kwargs) for l in c]\n",
    "                rows = [d for d in rows if d]\n",
    "                self._insert_rows(cur, rows)\n",
    "            con.commit()\n",
    "        cur.close()\n",
    "        con.close()\n",
    "        \n",
    "    def process_all(self, files=None):\n",
    "        self._create_table(self.outpath)        \n",
    "        if files is None:\n",
    "            files = [join(self.inpath, f) for f in self._get_files()]\n",
    "        pool = Pool(self.cores)\n",
    "        for f in tqdm_notebook(pool.imap(self.process, files), total=len(files)):\n",
    "            pass\n",
    "        pool.close()\n",
    "        pool.join()"
   ]
  },
  {
   "cell_type": "code",
   "execution_count": null,
   "metadata": {},
   "outputs": [
    {
     "data": {
      "application/vnd.jupyter.widget-view+json": {
       "model_id": "642cedcbcabb4ddfa3afe7b9f84ed555",
       "version_major": 2,
       "version_minor": 0
      },
      "text/plain": [
       "HBox(children=(IntProgress(value=0, max=5), HTML(value='')))"
      ]
     },
     "metadata": {},
     "output_type": "display_data"
    }
   ],
   "source": [
    "import gcsfs\n",
    "\n",
    "fs = gcsfs.GCSFileSystem()\n",
    "inpath = 'indeed-data/indeed-us'\n",
    "keys = ['url', 'title', 'content', 'scrapeTimestamp']\n",
    "string_processor = Preprocessor(readme_processor, 4).process\n",
    "\n",
    "p = ParallelProcessor(inpath, fs, 'us-jobs.db', string_processor, cores=5, keys=keys)\n",
    "p.process_all()"
   ]
  }
 ],
 "metadata": {
  "kernelspec": {
   "display_name": "Python 3",
   "language": "python",
   "name": "python3"
  },
  "language_info": {
   "codemirror_mode": {
    "name": "ipython",
    "version": 3
   },
   "file_extension": ".py",
   "mimetype": "text/x-python",
   "name": "python",
   "nbconvert_exporter": "python",
   "pygments_lexer": "ipython3",
   "version": "3.6.3"
  }
 },
 "nbformat": 4,
 "nbformat_minor": 2
}
