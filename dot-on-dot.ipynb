{
 "cells": [
  {
   "cell_type": "code",
   "execution_count": 1,
   "metadata": {
    "autoscroll": false,
    "collapsed": false,
    "ein.hycell": false,
    "ein.tags": "worksheet-0",
    "slideshow": {
     "slide_type": "-"
    }
   },
   "outputs": [],
   "source": [
    "%load_ext autoreload\n",
    "%autoreload 2\n",
    "\n",
    "import pandas as pd\n",
    "import numpy as np\n",
    "import re\n",
    "import attr\n",
    "from sklearn.feature_extraction.text import TfidfVectorizer\n",
    "from sklearn.pipeline import Pipeline\n",
    "from sklearn.metrics import accuracy_score\n",
    "from sklearn.linear_model import LogisticRegression\n",
    "from sklearn.metrics import confusion_matrix\n",
    "from sklearn.neighbors import KNeighborsClassifier\n",
    "\n",
    "from validation.data import indeed_test_data, dot_train_data, get_soc_n\n",
    "from embed_software.preprocess import *\n",
    "from embed_software.utils import get_embeddings, embed_docs\n",
    "from validation.dot_data import LemmaTokenizer, get_dictionary\n",
    "from classification.embedding import PreEmbeddedVectorizer, Embedding, WordEmbeddingVectorizer\n",
    "\n",
    "import matplotlib.pyplot as plt\n",
    "plt.rcParams['figure.figsize'] = [15, 10]\n",
    "\n",
    "pd.set_option('max_colwidth',50)\n",
    "pd.set_option('display.width',200)"
   ]
  },
  {
   "cell_type": "code",
   "execution_count": 2,
   "metadata": {
    "autoscroll": false,
    "collapsed": false,
    "ein.hycell": false,
    "ein.tags": "worksheet-0",
    "slideshow": {
     "slide_type": "-"
    }
   },
   "outputs": [],
   "source": [
    "SOC_LEVEL = 6"
   ]
  },
  {
   "cell_type": "code",
   "execution_count": 3,
   "metadata": {
    "autoscroll": false,
    "collapsed": false,
    "ein.hycell": false,
    "ein.tags": "worksheet-0",
    "slideshow": {
     "slide_type": "-"
    }
   },
   "outputs": [],
   "source": [
    "X_train, y_train = dot_train_data(SOC_LEVEL, include_tasks=False)"
   ]
  },
  {
   "cell_type": "code",
   "execution_count": 66,
   "metadata": {
    "autoscroll": false,
    "collapsed": false,
    "ein.hycell": false,
    "ein.tags": "worksheet-0",
    "slideshow": {
     "slide_type": "-"
    }
   },
   "outputs": [],
   "source": [
    "X_train_tasks, y_train_tasks = dot_train_data(SOC_LEVEL, include_tasks=True, include_dot=False)"
   ]
  },
  {
   "cell_type": "code",
   "execution_count": 74,
   "metadata": {
    "autoscroll": false,
    "collapsed": false,
    "ein.hycell": false,
    "ein.tags": "worksheet-0",
    "slideshow": {
     "slide_type": "-"
    }
   },
   "outputs": [
    {
     "data": {
      "text/plain": [
       "(793,)"
      ]
     },
     "execution_count": 74,
     "metadata": {},
     "output_type": "execute_result"
    }
   ],
   "source": [
    "y_train.unique().shape"
   ]
  },
  {
   "cell_type": "code",
   "execution_count": 73,
   "metadata": {
    "autoscroll": false,
    "collapsed": false,
    "ein.hycell": false,
    "ein.tags": "worksheet-0",
    "slideshow": {
     "slide_type": "-"
    }
   },
   "outputs": [
    {
     "data": {
      "text/plain": [
       "(775,)"
      ]
     },
     "execution_count": 73,
     "metadata": {},
     "output_type": "execute_result"
    }
   ],
   "source": [
    "y_train_tasks.unique().shape"
   ]
  },
  {
   "cell_type": "code",
   "execution_count": 71,
   "metadata": {
    "autoscroll": false,
    "collapsed": false,
    "ein.hycell": false,
    "ein.tags": "worksheet-0",
    "slideshow": {
     "slide_type": "-"
    }
   },
   "outputs": [
    {
     "data": {
      "text/plain": [
       "(4,)"
      ]
     },
     "execution_count": 71,
     "metadata": {},
     "output_type": "execute_result"
    }
   ],
   "source": [
    "y_train_tasks.value_counts()[y_train_tasks.value_counts() <= 5].shape"
   ]
  },
  {
   "cell_type": "code",
   "execution_count": 45,
   "metadata": {
    "autoscroll": false,
    "collapsed": false,
    "ein.hycell": false,
    "ein.tags": "worksheet-0",
    "slideshow": {
     "slide_type": "-"
    }
   },
   "outputs": [
    {
     "data": {
      "text/plain": [
       "(350,)"
      ]
     },
     "execution_count": 45,
     "metadata": {},
     "output_type": "execute_result"
    }
   ],
   "source": [
    "y_train.value_counts()[y_train.value_counts() <= 3].shape"
   ]
  },
  {
   "cell_type": "code",
   "execution_count": 37,
   "metadata": {
    "autoscroll": false,
    "collapsed": false,
    "ein.hycell": false,
    "ein.tags": "worksheet-0",
    "slideshow": {
     "slide_type": "-"
    }
   },
   "outputs": [
    {
     "data": {
      "text/plain": [
       "'Substance Abuse and Behavioral Disorder Counselors'"
      ]
     },
     "execution_count": 37,
     "metadata": {},
     "output_type": "execute_result"
    }
   ],
   "source": [
    "lookup(211011)"
   ]
  },
  {
   "cell_type": "code",
   "execution_count": 32,
   "metadata": {
    "autoscroll": false,
    "collapsed": false,
    "ein.hycell": false,
    "ein.tags": "worksheet-0",
    "slideshow": {
     "slide_type": "-"
    }
   },
   "outputs": [],
   "source": [
    "from validation.data import make_desc_lookup\n",
    "from validation.dot_data import get_dictionary, LemmaTokenizer\n",
    "\n",
    "\n",
    "lookup = make_desc_lookup('', 6)"
   ]
  },
  {
   "cell_type": "code",
   "execution_count": null,
   "metadata": {
    "autoscroll": false,
    "collapsed": false,
    "ein.hycell": false,
    "ein.tags": "worksheet-0",
    "slideshow": {
     "slide_type": "-"
    }
   },
   "outputs": [],
   "source": [
    "goods = y_train.value_counts()[y_train.value_counts() >= 3].index\n",
    "\n",
    "pd.Series([str(g)[:3] for g in goods]).value_counts()"
   ]
  },
  {
   "cell_type": "code",
   "execution_count": 4,
   "metadata": {
    "autoscroll": false,
    "collapsed": false,
    "ein.hycell": false,
    "ein.tags": "worksheet-0",
    "slideshow": {
     "slide_type": "-"
    }
   },
   "outputs": [],
   "source": [
    "models = [\n",
    "    Pipeline([('glove_100_va', WordEmbeddingVectorizer('../glove-models/glove-va-100.txt', cache_dir='va_glove_embed_cache')),\n",
    "              ('lr', LogisticRegression(C=5., solver='lbfgs', class_weight='balanced', multi_class=\"multinomial\", n_jobs=-1))]),\n",
    "    Pipeline([('sentencespace_100_va', PreEmbeddedVectorizer('../ss-models/va-ss-100', cache_dir='va_embed_cache')),\n",
    "              ('lr', LogisticRegression(C=5., solver='lbfgs', class_weight='balanced', multi_class=\"multinomial\", n_jobs=-1))]),\n",
    "    Pipeline([('sentencespace_100_indeed', PreEmbeddedVectorizer('../indeed-embeds/model', cache_dir='indeed_embed_cache')),\n",
    "              ('lr', LogisticRegression(C=5., solver='lbfgs', class_weight='balanced', multi_class=\"multinomial\", n_jobs=-1))]),\n",
    "    Pipeline([('tfidf', TfidfVectorizer(min_df=3, max_df=.8, ngram_range=(1,2))),\n",
    "              ('lr', LogisticRegression(C=5., solver='lbfgs', class_weight='balanced', multi_class=\"multinomial\", n_jobs=-1))])\n",
    "]"
   ]
  },
  {
   "cell_type": "code",
   "execution_count": 5,
   "metadata": {
    "autoscroll": false,
    "collapsed": false,
    "ein.hycell": false,
    "ein.tags": "worksheet-0",
    "slideshow": {
     "slide_type": "-"
    }
   },
   "outputs": [],
   "source": [
    "# WITHIN DOT ACCURACY \n",
    "from sklearn.model_selection import cross_val_predict, LeaveOneOut\n",
    "\n",
    "def in_sample_predict(model, X_train, y_train):\n",
    "    model.fit(X_train, y_train)\n",
    "    return model.predict(X_train)\n",
    "\n",
    "preds = [None, None, None, None]"
   ]
  },
  {
   "cell_type": "code",
   "execution_count": 11,
   "metadata": {
    "autoscroll": false,
    "collapsed": false,
    "ein.hycell": false,
    "ein.tags": "worksheet-0",
    "slideshow": {
     "slide_type": "-"
    }
   },
   "outputs": [
    {
     "data": {
      "text/plain": [
       "0.5200250803354495"
      ]
     },
     "execution_count": 11,
     "metadata": {},
     "output_type": "execute_result"
    }
   ],
   "source": [
    "preds[0] = in_sample_predict(models[0], X_train, y_train)\n",
    "accuracy_score(y_train, preds[0])"
   ]
  },
  {
   "cell_type": "code",
   "execution_count": 9,
   "metadata": {
    "autoscroll": false,
    "collapsed": false,
    "ein.hycell": false,
    "ein.tags": "worksheet-0",
    "slideshow": {
     "slide_type": "-"
    }
   },
   "outputs": [
    {
     "data": {
      "text/plain": [
       "0.27968604289710913"
      ]
     },
     "execution_count": 9,
     "metadata": {},
     "output_type": "execute_result"
    }
   ],
   "source": [
    "preds[1] = in_sample_predict(models[1], X_train, y_train)\n",
    "accuracy_score(y_train, preds[1])"
   ]
  },
  {
   "cell_type": "code",
   "execution_count": 6,
   "metadata": {
    "autoscroll": false,
    "collapsed": false,
    "ein.hycell": false,
    "ein.tags": "worksheet-0",
    "slideshow": {
     "slide_type": "-"
    }
   },
   "outputs": [
    {
     "data": {
      "text/plain": [
       "0.4323904258626049"
      ]
     },
     "execution_count": 6,
     "metadata": {},
     "output_type": "execute_result"
    }
   ],
   "source": [
    "preds[2] = in_sample_predict(models[2], X_train, y_train)\n",
    "accuracy_score(y_train, preds[2])"
   ]
  },
  {
   "cell_type": "code",
   "execution_count": null,
   "metadata": {
    "autoscroll": false,
    "collapsed": false,
    "ein.hycell": false,
    "ein.tags": "worksheet-0",
    "slideshow": {
     "slide_type": "-"
    }
   },
   "outputs": [],
   "source": [
    "preds[3] = in_sample_predict(models[3], X_train, y_train)\n",
    "accuracy_score(y_train, preds[3])"
   ]
  },
  {
   "cell_type": "code",
   "execution_count": 10,
   "metadata": {
    "autoscroll": false,
    "collapsed": false,
    "ein.hycell": false,
    "ein.tags": "worksheet-0",
    "slideshow": {
     "slide_type": "-"
    }
   },
   "outputs": [],
   "source": []
  },
  {
   "cell_type": "code",
   "execution_count": 7,
   "metadata": {
    "autoscroll": false,
    "collapsed": false,
    "ein.hycell": false,
    "ein.tags": "worksheet-0",
    "slideshow": {
     "slide_type": "-"
    }
   },
   "outputs": [],
   "source": [
    "from validation.scoring import make_code_lookup\n",
    "from validation.data import make_desc_lookup\n",
    "\n",
    "desc_lookup = make_desc_lookup('', 6)"
   ]
  },
  {
   "cell_type": "code",
   "execution_count": 8,
   "metadata": {
    "autoscroll": false,
    "collapsed": false,
    "ein.hycell": false,
    "ein.tags": "worksheet-0",
    "slideshow": {
     "slide_type": "-"
    }
   },
   "outputs": [],
   "source": [
    "comp = pd.DataFrame({ 'content': X_train, \n",
    "                      'dot_desc': [desc_lookup(y) for y in y_train], \n",
    "                      'pred_desc': [desc_lookup(p) for p in preds[2]], \n",
    "                      'dots': y_train, \n",
    "                      'predicted': preds[2]})\n",
    "\n",
    "falses = preds[2] != y_train\n",
    "mistakes = comp[falses]"
   ]
  },
  {
   "cell_type": "code",
   "execution_count": 9,
   "metadata": {
    "autoscroll": false,
    "collapsed": false,
    "ein.hycell": false,
    "ein.tags": "worksheet-0",
    "slideshow": {
     "slide_type": "-"
    }
   },
   "outputs": [
    {
     "data": {
      "text/plain": [
       "674.9191016474977"
      ]
     },
     "execution_count": 9,
     "metadata": {},
     "output_type": "execute_result"
    }
   ],
   "source": [
    "comp.content.str.len().mean()"
   ]
  },
  {
   "cell_type": "code",
   "execution_count": 10,
   "metadata": {
    "autoscroll": false,
    "collapsed": false,
    "ein.hycell": false,
    "ein.tags": "worksheet-0",
    "slideshow": {
     "slide_type": "-"
    }
   },
   "outputs": [
    {
     "data": {
      "text/plain": [
       "615.4550930996714"
      ]
     },
     "execution_count": 10,
     "metadata": {},
     "output_type": "execute_result"
    }
   ],
   "source": [
    "mistakes.content.str.len().mean()"
   ]
  },
  {
   "cell_type": "code",
   "execution_count": 11,
   "metadata": {
    "autoscroll": false,
    "collapsed": false,
    "ein.hycell": false,
    "ein.tags": "worksheet-0",
    "slideshow": {
     "slide_type": "-"
    }
   },
   "outputs": [
    {
     "data": {
      "text/plain": [
       "'performs duties as described under apprentice any industry master title'"
      ]
     },
     "execution_count": 11,
     "metadata": {},
     "output_type": "execute_result"
    }
   ],
   "source": [
    "mistakes.loc[83].content"
   ]
  },
  {
   "cell_type": "code",
   "execution_count": 35,
   "metadata": {
    "autoscroll": false,
    "collapsed": false,
    "ein.hycell": false,
    "ein.tags": "worksheet-0",
    "slideshow": {
     "slide_type": "-"
    }
   },
   "outputs": [
    {
     "data": {
      "text/plain": [
       "0.043674698795180725"
      ]
     },
     "execution_count": 35,
     "metadata": {},
     "output_type": "execute_result"
    }
   ],
   "source": [
    "mistakes.content.str.contains('performs duties as described under').sum() / mistakes.shape[0]"
   ]
  },
  {
   "cell_type": "code",
   "execution_count": 37,
   "metadata": {
    "autoscroll": false,
    "collapsed": false,
    "ein.hycell": false,
    "ein.tags": "worksheet-0",
    "slideshow": {
     "slide_type": "-"
    }
   },
   "outputs": [],
   "source": [
    "comp[comp.content.str.contains('duties as described under')].to_csv('weird-duties.csv', index=False)"
   ]
  },
  {
   "cell_type": "code",
   "execution_count": 38,
   "metadata": {
    "autoscroll": false,
    "collapsed": false,
    "ein.hycell": false,
    "ein.tags": "worksheet-0",
    "slideshow": {
     "slide_type": "-"
    }
   },
   "outputs": [],
   "source": [
    "comp[comp.content.str.contains('performs duties as described under')].to_csv('weird-performs-duties.csv', index=False)"
   ]
  },
  {
   "cell_type": "code",
   "execution_count": 14,
   "metadata": {
    "autoscroll": false,
    "collapsed": false,
    "ein.hycell": false,
    "ein.tags": "worksheet-0",
    "slideshow": {
     "slide_type": "-"
    }
   },
   "outputs": [
    {
     "data": {
      "text/plain": [
       "array(['directs and coordinates through subordinate supervisors department activities in commercial industrial or service establishment reviews and analyzes reports records and directives and confers with supervisors to obtain data required for planning department activities such as new commitments status of work in progress and problems encountered\\tassigns or delegates responsibility for specified work or functional activities and disseminates policy to supervisors\\tgives work directions resolves problems prepares schedules and sets deadlines to ensure timely completion of work\\tcoordinates activities of department with related activities of other departments to ensure efficiency and economy\\tmonitors and analyzes costs and prepares budget using computer\\tprepares reports and records on department activities for management using computer\\tevaluates current procedures and practices for accomplishing department objectives to develop and implement improved procedures and practices\\tmay initiate or authorize employee hire promotion discharge or transfer\\tworkers are designated according to functions activities or type of department managed',\n       'drafts engineering drawings of developmental or production airplanes missiles and component and ancillary equipment including launch mechanisms and scale models of prototype aircraft as planned by aeronautical engineer aircraft mfg 002 061 014\\tperforms other duties as described under drafter profess\\tkin master title',\n       'designs and develops electronic components equipment systems and products applying knowledge and principles of electronic theory design and engineering\\tperforms duties as described under design engineer products profess\\tkin master title\\tmay use computer assisted engineering and design software and equipment to formulate and test electronic designs',\n       ...,\n       'performs any of following duties to inspect measure and test semiconductor wafers for conformance to specifications inspects wafers under high intensity lamp to detect surface defects such as scratches chips stains burns or haze\\tmeasures thickness and resistivity of wafers using electronic gauges or automated sorting machine\\tmeasures diameter and flat of wafers using calipers\\tinspects bow or flatness of wafers using electronic gauges or examines surface of wafers under high intensity lamp\\ttests for positive or negative conductivity of wafers using electronic probe and gauge\\tdetermines crystal orientation of wafers using ray equipment\\tencloses containers of inspected wafers in plastic bags for protection using heat sealer\\trecords inspection data on production records or in computer using computer terminal\\tmay tend equipment that cleans surface of wafers wafer cleaner electron\\tcomp 590 685 102',\n       'performs any combination of following tasks to inspect and repair printed circuit boards pcb inserts plug gauges into drilled holes of pcb panels to verify conformance to specified dimensions\\tmeasures thickness and dimensions of plating on pcb panels to verify that plating meets specifications using micrometers dial indicators calipers rulers eye loupes and electronic measuring devices\\texamines pcb circuitry to detect defects such as shorts breaks excess or missing solder scratches cracks and incorrect layout using light table eye loupe magnifier or microscope\\tbrushes solder mask ink on pcb to repair defects in screen printing\\tscrapes excess plating or solder mask ink from pcb using utility knife\\trepairs broken circuitry using soldering iron or circuit bonding equipment\\trecords type and quantity of defective pcb\\ttests adherence of solder mask ink to pcb using tape\\ttests continuity of pcb circuits using bare board tester\\tmay inspect inner layers of multilayer pcb to verify that internal alignment and location of drilled holes meet specifications and be designated ray technician printed circuit boards electron\\tcomp',\n       'tends automatic bonding machine that bonds gold or aluminum wire to integrated circuit dies to connect circuitry to package leads reviews schematic diagram or work order to determine bonding specifications\\tturns dials to set bonding machine temperature controls and to regulate wire feeding mechanism\\tmounts spool of wire onto holder and inserts wire end through guides using tweezers\\tpositions semiconductor package into magazine of automatic feed mechanism and observes package using microscope or equipment display screen to ensure connections to be bonded are aligned with bonding wire\\tadjusts alignment as necessary\\tactivates machine that automatically bonds wire to specified connections on semiconductor package leads\\tremoves packages from bonding machine and places packages in work tray\\tmay test tensile strength of bonded connections using testing equipment\\tmay locate connections and bond wire to connect circuitry of hybrid circuits using precision bonding machine'],\n      dtype=object)"
      ]
     },
     "execution_count": 14,
     "metadata": {},
     "output_type": "execute_result"
    }
   ],
   "source": [
    "mistakes.content.values"
   ]
  },
  {
   "cell_type": "code",
   "execution_count": 31,
   "metadata": {
    "autoscroll": false,
    "collapsed": false,
    "ein.hycell": false,
    "ein.tags": "worksheet-0",
    "slideshow": {
     "slide_type": "-"
    }
   },
   "outputs": [
    {
     "data": {
      "text/plain": [
       "array(['administers nursing program in hospital nursing home or other medical facility to maintain standards of patient care and advises medical staff department heads and administrators in matters related to nursing service recommends establishment or revision of policies and develops organizational structure and standards of performance\\tinterprets policies and objectives of nursing service to staff and community groups\\tpromotes working relationships with community agencies and with other establishment departments\\tassists in preparation of departmental budget\\testablishes personnel qualification requirements drafts procedure manuals initiates in service programs installs record and reporting system and performs other personnel management tasks\\tinitiates studies to evaluate effectiveness of nursing services in relation to their objectives and costs\\tmay assist nursing schools with curricular problems',\n       'plans with management medical director and legal counsel scope and objectives of nursing service in industrial establishment and directs nursing activities determines qualifications duties and responsibilities of nursing staff and assists in selection\\tarranges for orientation of newly appointed nursing staff in company policy and nursing procedures\\tprepares and maintains nursing policy and procedure manual\\tevaluates nursing service and assists in evaluation of total health service\\testablishes system of records and reports\\tadvises management in development and maintenance of plant sanitation and housekeeping practices\\tdevelops nursing procedures for emergency and followup care of occupational and nonoccupational injuries and illnesses\\tprovides for health counseling and health education on individual or group basis\\tinterprets nursing functions in interdepartmental planning and coordination of health and welfare benefit programs\\tmay visit branches and subsidiaries of company periodically to evaluate nursing service',\n       'administers nursing service in community health agency coordinates and evaluates nursing activities in agency to ensure balanced and adequate program and to formulate progressive program designed to meet changing needs of community\\tdirects collection analysis and interpretation of statistics significant to program planning and budget preparation\\tprepares and submits budget estimates for nursing activities\\tparticipates in establishing programs for guidance and professional development of nursing staff and in establishing personnel policies qualifications and salaries\\trecruits selects and assigns personnel for nursing services\\tplans nursing consulting services\\tparticipates in community planning concerning health and social welfare problems\\tconsults with advisory committee in establishment of medical policies of community health agency',\n       'directs administration of hospital nursing home or other health care facility within authority of governing board administers fiscal operations such as budget planning accounting and establishing rates for health care services\\tdirects hiring and training of personnel\\tnegotiates for improvement of and additions to buildings and equipment\\tdirects and coordinates activities of medical nursing and administrative staffs and services\\tdevelops policies and procedures for various establishment activities\\tmay represent establishment at community meetings and promote programs through various news media\\tmay develop or expand programs or services for scientific research preventive medicine medical and vocational rehabilitation and community health and welfare promotion\\tmay be designated according to type of health care facility as hospital administrator medical ser or nursing home administrator medical ser',\n       'directs medical emergency service program coordinates activities of persons involved in rescue transportation and care of accident or catastrophe victims and others requiring emergency medical assistance\\tarranges for establishment of emergency medical facilities staffing of facilities by emergency trained medical and auxiliary personnel installation of telecommunication network components and acquisition of emergency vehicles\\tmaintains records of facilities and personnel and periodically inspects facilities to ensure capability of meeting area emergency needs\\tmaintains telecommunication contact with mobile and stationary units comprising emergency service network to coordinate activities of personnel enlist services of other protective agencies or provide alternate directions to onscene emergency personnel when planned procedures are not feasible\\tdevelops plans and participates in training programs for ambulance and rescue personnel\\tcooperates with schools and community organizations to encourage public interest in and knowledge of basic and advanced first aid training and assists groups in development and presentation of classes\\tmaintains records of emergency medical service activities for coordination with records prepared by cooperating institutions to provide data for evaluation of program\\tprepares reports stating progress problems and plans for future implementation of emergency service for community or area for review by officials of sponsoring agency\\tconfers with coordinators of emergency programs in other areas to discuss problems coordi',\n       'plans develops and administers health information system for health care facility consistent with standards of accrediting and regulatory agencies and requirements of health care system develops and implements policies and procedures for documenting storing and retrieving information and for processing medical legal documents insurance data and correspondence requests in conformance with federal state and local statutes\\tsupervises staff directly or through subordinates in preparing and analyzing medical documents\\tparticipates in development and design of computer software for computerized health information system\\tcoordinates medical care evaluation with medical staff and develops criteria and methods for such evaluation\\tdevelops in service educational materials and conducts instructional programs for health care personnel\\tanalyzes patient data for reimbursement facility planning quality of patient care risk management utilization management and research\\tmay manage medical records department and be known as director medical records medical ser',\n       'plans administers and directs operation of health rehabilitation programs such as physical occupational recreational and speech therapies consults with medical and professional staff of other departments and personnel from associated health care fields to plan and coordinate joint patient and management objectives\\tconducts staff conferences and plans training programs to maintain proficiency of staff in therapy techniques and use of new methods and equipment to meet patients needs\\tallocates personnel on basis of work load space and equipment available\\tanalyzes operating costs and prepares department budget\\trecommends patient fees for therapy based on use of equipment and therapy staff\\tmay coordinate research projects to develop new approaches to rehabilitative therapy\\tmay serve as rehabilitative therapy consultant to employers educational institutions and community organizations',\n       'interprets and implements quality assurance standards in hospital to ensure quality care to patients reviews quality assurance standards studies existing hospital policies and procedures and interviews hospital personnel and patients to evaluate effectiveness of quality assurance program\\twrites quality assurance policies and procedures\\treviews and evaluates patients medical records applying quality assurance criteria\\tselects specific topics for review such as problem procedures drugs high volume cases high risk cases or other factors\\tcompiles statistical data and writes narrative reports summarizing quality assurance findings\\tmay review patient records applying utilization review criteria to determine need for admission and continued stay in hospital\\tmay oversee personnel engaged in quality assurance review of medical records',\n       'supervises and directs activities of outpatient clinic and coordinates activities of clinic with those of other hospital departments establishes clinic policies and procedures in cooperation with other hospital officials\\tinterprets and administers personnel policies and provides for training program\\treviews clinic activities and recommends changes in or better utilization of facilities services and staff\\testablishes and maintains work schedules and assignments of resident professional staff members\\tauthorizes purchase of supplies and equipment\\tprepares and submits budget records reports and statistical data to administrator health care facility medical ser 187 117 010\\tmeets with personnel of other local institutions and organizations to promote public health and educational services\\toversees operation of clinic and recommends procedures treatments or other course of action to assist medical staff'],\n      dtype=object)"
      ]
     },
     "execution_count": 31,
     "metadata": {},
     "output_type": "execute_result"
    }
   ],
   "source": [
    "X_train[y_train == 119111].values"
   ]
  },
  {
   "cell_type": "code",
   "execution_count": 27,
   "metadata": {
    "autoscroll": false,
    "collapsed": false,
    "ein.hycell": false,
    "ein.tags": "worksheet-0",
    "slideshow": {
     "slide_type": "-"
    }
   },
   "outputs": [
    {
     "data": {
      "text/plain": [
       "'directs activities of state board of nursing develops procedures relative to licensure by examination or endorsement renewal of licenses certification to other states and discipline of licensees\\tassumes responsibility for keeping board informed of relevant matter to aid in policy making and decisions\\tdetermines specific needs of program and provides for written plans and statement of policies\\tascertains number scope and responsibility of positions on board selects staff and delegates duties\\tdirects and supervises activities of staff and evaluates performance\\testablishes system of record keeping and maintains up to date comprehensive records of board activities and office procedures\\testimates and submits request for budget\\tcollects analyzes and prepares for publication data relating to nursing education and licensure\\tinitiates and cooperates in research projects\\tparticipates in interpreting nursing laws board rules and policies and trends in nursing and nursing education\\tissues licenses and recommends revocations and suspensions\\tsurveys schools of nursing to ensure compliance with legal requirements'"
      ]
     },
     "execution_count": 27,
     "metadata": {},
     "output_type": "execute_result"
    }
   ],
   "source": [
    "mistakes.loc[930].content"
   ]
  },
  {
   "cell_type": "code",
   "execution_count": 22,
   "metadata": {
    "autoscroll": false,
    "collapsed": false,
    "ein.hycell": false,
    "ein.tags": "worksheet-0",
    "slideshow": {
     "slide_type": "-"
    }
   },
   "outputs": [
    {
     "data": {
      "text/html": [
       "<div>\n<style scoped>\n    .dataframe tbody tr th:only-of-type {\n        vertical-align: middle;\n    }\n\n    .dataframe tbody tr th {\n        vertical-align: top;\n    }\n\n    .dataframe thead th {\n        text-align: right;\n    }\n</style>\n<table border=\"1\" class=\"dataframe\">\n  <thead>\n    <tr style=\"text-align: right;\">\n      <th></th>\n      <th>content</th>\n      <th>dot_desc</th>\n      <th>pred_desc</th>\n      <th>dots</th>\n      <th>predicted</th>\n    </tr>\n  </thead>\n  <tbody>\n    <tr>\n      <th>820</th>\n      <td>entertains audience in amusement park by exhib...</td>\n      <td>Actors</td>\n      <td>Dancers</td>\n      <td>272011</td>\n      <td>272031</td>\n    </tr>\n    <tr>\n      <th>821</th>\n      <td>parades across stage to display costumes and p...</td>\n      <td>Actors</td>\n      <td>Costume Attendants</td>\n      <td>272011</td>\n      <td>393092</td>\n    </tr>\n    <tr>\n      <th>832</th>\n      <td>directs and coordinates activities of workers ...</td>\n      <td>Accountants and Auditors</td>\n      <td>Education Administrators, Postsecondary</td>\n      <td>132011</td>\n      <td>119033</td>\n    </tr>\n    <tr>\n      <th>843</th>\n      <td>buys and sells grain on commission for custome...</td>\n      <td>Securities, Commodities, and Financial Service...</td>\n      <td>Purchasing Agents and Buyers, Farm Products</td>\n      <td>413031</td>\n      <td>131021</td>\n    </tr>\n    <tr>\n      <th>847</th>\n      <td>sells livestock at stockyards as agent for own...</td>\n      <td>Sales Representatives, Wholesale and Manufactu...</td>\n      <td>Farm and Home Management Advisors</td>\n      <td>414012</td>\n      <td>259021</td>\n    </tr>\n    <tr>\n      <th>848</th>\n      <td>contacts landowners to negotiate purchase of c...</td>\n      <td>Purchasing Agents and Buyers, Farm Products</td>\n      <td>Forest and Conservation Workers</td>\n      <td>131021</td>\n      <td>454011</td>\n    </tr>\n    <tr>\n      <th>857</th>\n      <td>compiles and analyzes statistical data to dete...</td>\n      <td>Business Operations Specialists, All Other</td>\n      <td>Purchasing Agents, Except Wholesale, Retail, a...</td>\n      <td>131199</td>\n      <td>131023</td>\n    </tr>\n    <tr>\n      <th>878</th>\n      <td>directs and coordinates vocational work progra...</td>\n      <td>Industrial Production Managers</td>\n      <td>Probation Officers and Correctional Treatment ...</td>\n      <td>113051</td>\n      <td>211092</td>\n    </tr>\n    <tr>\n      <th>882</th>\n      <td>recruits independent sales agents insurance in...</td>\n      <td>First-Line Supervisors/Managers of Non-Retail ...</td>\n      <td>Insurance Sales Agents</td>\n      <td>411012</td>\n      <td>413021</td>\n    </tr>\n    <tr>\n      <th>883</th>\n      <td>develops and conducts training programs for em...</td>\n      <td>Vocational Education Teachers Postsecondary</td>\n      <td>Training and Development Managers</td>\n      <td>251194</td>\n      <td>113042</td>\n    </tr>\n    <tr>\n      <th>897</th>\n      <td>plans directs and coordinates activities of wo...</td>\n      <td>First-Line Supervisors/Managers of Office and ...</td>\n      <td>Transportation, Storage, and Distribution Mana...</td>\n      <td>431011</td>\n      <td>113071</td>\n    </tr>\n    <tr>\n      <th>900</th>\n      <td>coordinates activities of workers engaged in t...</td>\n      <td>Managers, All Other</td>\n      <td>Industrial Engineers</td>\n      <td>119199</td>\n      <td>172112</td>\n    </tr>\n    <tr>\n      <th>901</th>\n      <td>directs and coordinates activities of workers ...</td>\n      <td>First-Line Supervisors/Managers of Office and ...</td>\n      <td>Compliance Officers, Except Agriculture, Const...</td>\n      <td>431011</td>\n      <td>131041</td>\n    </tr>\n    <tr>\n      <th>905</th>\n      <td>compiles information concerning activities and...</td>\n      <td>Transportation Inspectors</td>\n      <td>Transportation Attendants, Except Flight Atten...</td>\n      <td>536051</td>\n      <td>396032</td>\n    </tr>\n    <tr>\n      <th>909</th>\n      <td>visits establishments licensed by local govern...</td>\n      <td>Compliance Officers, Except Agriculture, Const...</td>\n      <td>First-Line Supervisors/Managers of Police and ...</td>\n      <td>131041</td>\n      <td>331012</td>\n    </tr>\n    <tr>\n      <th>910</th>\n      <td>inspects aircraft and maintenance base facilit...</td>\n      <td>Transportation Inspectors</td>\n      <td>Aerospace Engineering and Operations Technicians</td>\n      <td>536051</td>\n      <td>173021</td>\n    </tr>\n    <tr>\n      <th>911</th>\n      <td>inspects and evaluates travel and tourist acco...</td>\n      <td>Business Operations Specialists, All Other</td>\n      <td>First-Line Supervisors/Managers of Personal Se...</td>\n      <td>131199</td>\n      <td>391021</td>\n    </tr>\n    <tr>\n      <th>914</th>\n      <td>inspects boilers pressure vessels and accessor...</td>\n      <td>Compliance Officers, Except Agriculture, Const...</td>\n      <td>Boilermakers</td>\n      <td>131041</td>\n      <td>472011</td>\n    </tr>\n    <tr>\n      <th>919</th>\n      <td>inspects franchise dealerships and distributor...</td>\n      <td>Business Operations Specialists, All Other</td>\n      <td>Sales Managers</td>\n      <td>131199</td>\n      <td>112022</td>\n    </tr>\n    <tr>\n      <th>921</th>\n      <td>inspects government owned equipment and materi...</td>\n      <td>Compliance Officers, Except Agriculture, Const...</td>\n      <td>Security Guards</td>\n      <td>131041</td>\n      <td>339032</td>\n    </tr>\n    <tr>\n      <th>925</th>\n      <td>inspects products manufactured or processed by...</td>\n      <td>Compliance Officers, Except Agriculture, Const...</td>\n      <td>Customer Service Representatives</td>\n      <td>131041</td>\n      <td>434051</td>\n    </tr>\n    <tr>\n      <th>927</th>\n      <td>investigates continued absences of pupils from...</td>\n      <td>Business Operations Specialists, All Other</td>\n      <td>Elementary School Teachers, Except Special Edu...</td>\n      <td>131199</td>\n      <td>252021</td>\n    </tr>\n    <tr>\n      <th>930</th>\n      <td>directs activities of state board of nursing d...</td>\n      <td>Chief Executives</td>\n      <td>Medical and Health Services Managers</td>\n      <td>111011</td>\n      <td>119111</td>\n    </tr>\n    <tr>\n      <th>932</th>\n      <td>mediates and conciliates disputes over negotia...</td>\n      <td>Human Resources, Training, and Labor Relations...</td>\n      <td>Arbitrators, Mediators, and Conciliators</td>\n      <td>131079</td>\n      <td>231022</td>\n    </tr>\n    <tr>\n      <th>940</th>\n      <td>instructs paid and volunteer workers in techni...</td>\n      <td>Self-Enrichment Education Teachers</td>\n      <td>Emergency Management Specialists</td>\n      <td>253021</td>\n      <td>131061</td>\n    </tr>\n    <tr>\n      <th>942</th>\n      <td>examines and evaluates data to determine perso...</td>\n      <td>Compliance Officers, Except Agriculture, Const...</td>\n      <td>Administrative Law Judges, Adjudicators, and H...</td>\n      <td>131041</td>\n      <td>231021</td>\n    </tr>\n    <tr>\n      <th>943</th>\n      <td>advises local governments public and timber in...</td>\n      <td>Business Operations Specialists, All Other</td>\n      <td>Forest Fire Inspectors and Prevention Specialists</td>\n      <td>131199</td>\n      <td>332022</td>\n    </tr>\n    <tr>\n      <th>945</th>\n      <td>acts as liaison between manufacturer and priva...</td>\n      <td>Business Operations Specialists, All Other</td>\n      <td>Industrial Engineers</td>\n      <td>131199</td>\n      <td>172112</td>\n    </tr>\n    <tr>\n      <th>949</th>\n      <td>enforces laws regulations and policies in stat...</td>\n      <td>Police and Sheriff's Patrol Officers</td>\n      <td>First-Line Supervisors/Managers of Police and ...</td>\n      <td>333051</td>\n      <td>331012</td>\n    </tr>\n    <tr>\n      <th>956</th>\n      <td>interprets hospital and medical insurance serv...</td>\n      <td>Business Operations Specialists, All Other</td>\n      <td>Medical and Health Services Managers</td>\n      <td>131199</td>\n      <td>119111</td>\n    </tr>\n    <tr>\n      <th>...</th>\n      <td>...</td>\n      <td>...</td>\n      <td>...</td>\n      <td>...</td>\n      <td>...</td>\n    </tr>\n    <tr>\n      <th>1146</th>\n      <td>sells dancing lessons and coordinates activiti...</td>\n      <td>Managers, All Other</td>\n      <td>Child Care Workers</td>\n      <td>119199</td>\n      <td>399011</td>\n    </tr>\n    <tr>\n      <th>1147</th>\n      <td>coordinates activities of workers in dental la...</td>\n      <td>Industrial Production Managers</td>\n      <td>Dental Laboratory Technicians</td>\n      <td>113051</td>\n      <td>519081</td>\n    </tr>\n    <tr>\n      <th>1148</th>\n      <td>manages fish and game club for owner or member...</td>\n      <td>Managers, All Other</td>\n      <td>Travel Guides</td>\n      <td>119199</td>\n      <td>396022</td>\n    </tr>\n    <tr>\n      <th>1150</th>\n      <td>manages golf club to provide entertainment for...</td>\n      <td>Managers, All Other</td>\n      <td>Food Service Managers</td>\n      <td>119199</td>\n      <td>119051</td>\n    </tr>\n    <tr>\n      <th>1151</th>\n      <td>manages activities of gun club confers with go...</td>\n      <td>Managers, All Other</td>\n      <td>First-Line Supervisors/Managers of Retail Sale...</td>\n      <td>119199</td>\n      <td>411011</td>\n    </tr>\n    <tr>\n      <th>1153</th>\n      <td>directs activities of boat repair service acco...</td>\n      <td>First-Line Supervisors/Managers of Mechanics, ...</td>\n      <td>Sailors and Marine Oilers</td>\n      <td>491011</td>\n      <td>535011</td>\n    </tr>\n    <tr>\n      <th>1155</th>\n      <td>manages recreation establishment such as dance...</td>\n      <td>Managers, All Other</td>\n      <td>Agents and Business Managers of Artists, Perfo...</td>\n      <td>119199</td>\n      <td>131011</td>\n    </tr>\n    <tr>\n      <th>1157</th>\n      <td>manages farm machinery service department and ...</td>\n      <td>First-Line Supervisors/Managers of Mechanics, ...</td>\n      <td>First-Line Supervisors/Managers of Farming, Fi...</td>\n      <td>491011</td>\n      <td>451011</td>\n    </tr>\n    <tr>\n      <th>1158</th>\n      <td>manages ice or roller skating rink and coordin...</td>\n      <td>Managers, All Other</td>\n      <td>Amusement and Recreation Attendants</td>\n      <td>119199</td>\n      <td>393091</td>\n    </tr>\n    <tr>\n      <th>1159</th>\n      <td>supervises attendants and coordinates operatio...</td>\n      <td>First-Line Supervisors/Managers of Transportat...</td>\n      <td>Parking Lot Attendants</td>\n      <td>531031</td>\n      <td>536021</td>\n    </tr>\n    <tr>\n      <th>1160</th>\n      <td>manages theater for stage productions or motio...</td>\n      <td>Managers, All Other</td>\n      <td>Audio and Video Equipment Technicians</td>\n      <td>119199</td>\n      <td>274011</td>\n    </tr>\n    <tr>\n      <th>1161</th>\n      <td>examines analyzes and evaluates operations of ...</td>\n      <td>Business Operations Specialists, All Other</td>\n      <td>Financial Managers</td>\n      <td>131199</td>\n      <td>113031</td>\n    </tr>\n    <tr>\n      <th>1163</th>\n      <td>directs sports program at winter resort and co...</td>\n      <td>Managers, All Other</td>\n      <td>First-Line Supervisors/Managers of Personal Se...</td>\n      <td>119199</td>\n      <td>391021</td>\n    </tr>\n    <tr>\n      <th>1164</th>\n      <td>advises and aids veterans or dependents in pre...</td>\n      <td>Educational, Vocational, and School Counselors</td>\n      <td>Administrative Law Judges, Adjudicators, and H...</td>\n      <td>211012</td>\n      <td>231021</td>\n    </tr>\n    <tr>\n      <th>1165</th>\n      <td>organizes chapters of fraternal society lodge ...</td>\n      <td>Managers, All Other</td>\n      <td>Agents and Business Managers of Artists, Perfo...</td>\n      <td>119199</td>\n      <td>131011</td>\n    </tr>\n    <tr>\n      <th>1168</th>\n      <td>directs activities of one or more departments ...</td>\n      <td>Producers and Directors</td>\n      <td>Sound Engineering Technicians</td>\n      <td>272012</td>\n      <td>274014</td>\n    </tr>\n    <tr>\n      <th>1171</th>\n      <td>manages laundry plant in linen supply establis...</td>\n      <td>Managers, All Other</td>\n      <td>Maids and Housekeeping Cleaners</td>\n      <td>119199</td>\n      <td>372012</td>\n    </tr>\n    <tr>\n      <th>1176</th>\n      <td>directs state fish conservation program for be...</td>\n      <td>Chief Executives</td>\n      <td>Interviewers, Except Eligibility and Loan</td>\n      <td>111011</td>\n      <td>434111</td>\n    </tr>\n    <tr>\n      <th>1181</th>\n      <td>directs and coordinates administrative activit...</td>\n      <td>Chief Executives</td>\n      <td>Transportation, Storage, and Distribution Mana...</td>\n      <td>111011</td>\n      <td>113071</td>\n    </tr>\n    <tr>\n      <th>1182</th>\n      <td>directs activities of state commission or depa...</td>\n      <td>Chief Executives</td>\n      <td>Aerospace Engineers</td>\n      <td>111011</td>\n      <td>172011</td>\n    </tr>\n    <tr>\n      <th>1184</th>\n      <td>administers educational and job training progr...</td>\n      <td>Chief Executives</td>\n      <td>Instructional Coordinators</td>\n      <td>111011</td>\n      <td>259031</td>\n    </tr>\n    <tr>\n      <th>1185</th>\n      <td>administers activities of state department of ...</td>\n      <td>Chief Executives</td>\n      <td>Medical and Health Services Managers</td>\n      <td>111011</td>\n      <td>119111</td>\n    </tr>\n    <tr>\n      <th>1186</th>\n      <td>represents interests of united states governme...</td>\n      <td>Chief Executives</td>\n      <td>Lawyers</td>\n      <td>111011</td>\n      <td>231011</td>\n    </tr>\n    <tr>\n      <th>1187</th>\n      <td>directs and coordinates activities concerned w...</td>\n      <td>Chief Executives</td>\n      <td>Child, Family, and School Social Workers</td>\n      <td>111011</td>\n      <td>211021</td>\n    </tr>\n    <tr>\n      <th>1190</th>\n      <td>administers municipal police department partic...</td>\n      <td>Chief Executives</td>\n      <td>First-Line Supervisors/Managers of Police and ...</td>\n      <td>111011</td>\n      <td>331012</td>\n    </tr>\n    <tr>\n      <th>1191</th>\n      <td>directs construction and maintenance of roads ...</td>\n      <td>Chief Executives</td>\n      <td>Court, Municipal, and License Clerks</td>\n      <td>111011</td>\n      <td>434031</td>\n    </tr>\n    <tr>\n      <th>1192</th>\n      <td>directs administration of public welfare progr...</td>\n      <td>Chief Executives</td>\n      <td>Social and Community Service Managers</td>\n      <td>111011</td>\n      <td>119151</td>\n    </tr>\n    <tr>\n      <th>1193</th>\n      <td>directs activities of workers engaged in asses...</td>\n      <td>Chief Executives</td>\n      <td>Property, Real Estate, and Community Associati...</td>\n      <td>111011</td>\n      <td>119141</td>\n    </tr>\n    <tr>\n      <th>1194</th>\n      <td>plans and directs self employment rehabilitati...</td>\n      <td>Chief Executives</td>\n      <td>Rehabilitation Counselors</td>\n      <td>111011</td>\n      <td>211015</td>\n    </tr>\n    <tr>\n      <th>1199</th>\n      <td>directs prison rehabilitation programs and ass...</td>\n      <td>Chief Executives</td>\n      <td>Probation Officers and Correctional Treatment ...</td>\n      <td>111011</td>\n      <td>211092</td>\n    </tr>\n  </tbody>\n</table>\n<p>141 rows × 5 columns</p>\n</div>"
      ],
      "text/plain": [
       "                                                content                                           dot_desc                                          pred_desc    dots  predicted\n820   entertains audience in amusement park by exhib...                                             Actors                                            Dancers  272011     272031\n821   parades across stage to display costumes and p...                                             Actors                                 Costume Attendants  272011     393092\n832   directs and coordinates activities of workers ...                           Accountants and Auditors            Education Administrators, Postsecondary  132011     119033\n843   buys and sells grain on commission for custome...  Securities, Commodities, and Financial Service...        Purchasing Agents and Buyers, Farm Products  413031     131021\n847   sells livestock at stockyards as agent for own...  Sales Representatives, Wholesale and Manufactu...                  Farm and Home Management Advisors  414012     259021\n848   contacts landowners to negotiate purchase of c...        Purchasing Agents and Buyers, Farm Products                    Forest and Conservation Workers  131021     454011\n857   compiles and analyzes statistical data to dete...         Business Operations Specialists, All Other  Purchasing Agents, Except Wholesale, Retail, a...  131199     131023\n878   directs and coordinates vocational work progra...                     Industrial Production Managers  Probation Officers and Correctional Treatment ...  113051     211092\n882   recruits independent sales agents insurance in...  First-Line Supervisors/Managers of Non-Retail ...                             Insurance Sales Agents  411012     413021\n883   develops and conducts training programs for em...        Vocational Education Teachers Postsecondary                  Training and Development Managers  251194     113042\n897   plans directs and coordinates activities of wo...  First-Line Supervisors/Managers of Office and ...  Transportation, Storage, and Distribution Mana...  431011     113071\n900   coordinates activities of workers engaged in t...                                Managers, All Other                               Industrial Engineers  119199     172112\n901   directs and coordinates activities of workers ...  First-Line Supervisors/Managers of Office and ...  Compliance Officers, Except Agriculture, Const...  431011     131041\n905   compiles information concerning activities and...                          Transportation Inspectors  Transportation Attendants, Except Flight Atten...  536051     396032\n909   visits establishments licensed by local govern...  Compliance Officers, Except Agriculture, Const...  First-Line Supervisors/Managers of Police and ...  131041     331012\n910   inspects aircraft and maintenance base facilit...                          Transportation Inspectors   Aerospace Engineering and Operations Technicians  536051     173021\n911   inspects and evaluates travel and tourist acco...         Business Operations Specialists, All Other  First-Line Supervisors/Managers of Personal Se...  131199     391021\n914   inspects boilers pressure vessels and accessor...  Compliance Officers, Except Agriculture, Const...                                       Boilermakers  131041     472011\n919   inspects franchise dealerships and distributor...         Business Operations Specialists, All Other                                     Sales Managers  131199     112022\n921   inspects government owned equipment and materi...  Compliance Officers, Except Agriculture, Const...                                    Security Guards  131041     339032\n925   inspects products manufactured or processed by...  Compliance Officers, Except Agriculture, Const...                   Customer Service Representatives  131041     434051\n927   investigates continued absences of pupils from...         Business Operations Specialists, All Other  Elementary School Teachers, Except Special Edu...  131199     252021\n930   directs activities of state board of nursing d...                                   Chief Executives               Medical and Health Services Managers  111011     119111\n932   mediates and conciliates disputes over negotia...  Human Resources, Training, and Labor Relations...           Arbitrators, Mediators, and Conciliators  131079     231022\n940   instructs paid and volunteer workers in techni...                 Self-Enrichment Education Teachers                   Emergency Management Specialists  253021     131061\n942   examines and evaluates data to determine perso...  Compliance Officers, Except Agriculture, Const...  Administrative Law Judges, Adjudicators, and H...  131041     231021\n943   advises local governments public and timber in...         Business Operations Specialists, All Other  Forest Fire Inspectors and Prevention Specialists  131199     332022\n945   acts as liaison between manufacturer and priva...         Business Operations Specialists, All Other                               Industrial Engineers  131199     172112\n949   enforces laws regulations and policies in stat...               Police and Sheriff's Patrol Officers  First-Line Supervisors/Managers of Police and ...  333051     331012\n956   interprets hospital and medical insurance serv...         Business Operations Specialists, All Other               Medical and Health Services Managers  131199     119111\n...                                                 ...                                                ...                                                ...     ...        ...\n1146  sells dancing lessons and coordinates activiti...                                Managers, All Other                                 Child Care Workers  119199     399011\n1147  coordinates activities of workers in dental la...                     Industrial Production Managers                      Dental Laboratory Technicians  113051     519081\n1148  manages fish and game club for owner or member...                                Managers, All Other                                      Travel Guides  119199     396022\n1150  manages golf club to provide entertainment for...                                Managers, All Other                              Food Service Managers  119199     119051\n1151  manages activities of gun club confers with go...                                Managers, All Other  First-Line Supervisors/Managers of Retail Sale...  119199     411011\n1153  directs activities of boat repair service acco...  First-Line Supervisors/Managers of Mechanics, ...                          Sailors and Marine Oilers  491011     535011\n1155  manages recreation establishment such as dance...                                Managers, All Other  Agents and Business Managers of Artists, Perfo...  119199     131011\n1157  manages farm machinery service department and ...  First-Line Supervisors/Managers of Mechanics, ...  First-Line Supervisors/Managers of Farming, Fi...  491011     451011\n1158  manages ice or roller skating rink and coordin...                                Managers, All Other                Amusement and Recreation Attendants  119199     393091\n1159  supervises attendants and coordinates operatio...  First-Line Supervisors/Managers of Transportat...                             Parking Lot Attendants  531031     536021\n1160  manages theater for stage productions or motio...                                Managers, All Other              Audio and Video Equipment Technicians  119199     274011\n1161  examines analyzes and evaluates operations of ...         Business Operations Specialists, All Other                                 Financial Managers  131199     113031\n1163  directs sports program at winter resort and co...                                Managers, All Other  First-Line Supervisors/Managers of Personal Se...  119199     391021\n1164  advises and aids veterans or dependents in pre...     Educational, Vocational, and School Counselors  Administrative Law Judges, Adjudicators, and H...  211012     231021\n1165  organizes chapters of fraternal society lodge ...                                Managers, All Other  Agents and Business Managers of Artists, Perfo...  119199     131011\n1168  directs activities of one or more departments ...                            Producers and Directors                      Sound Engineering Technicians  272012     274014\n1171  manages laundry plant in linen supply establis...                                Managers, All Other                    Maids and Housekeeping Cleaners  119199     372012\n1176  directs state fish conservation program for be...                                   Chief Executives          Interviewers, Except Eligibility and Loan  111011     434111\n1181  directs and coordinates administrative activit...                                   Chief Executives  Transportation, Storage, and Distribution Mana...  111011     113071\n1182  directs activities of state commission or depa...                                   Chief Executives                                Aerospace Engineers  111011     172011\n1184  administers educational and job training progr...                                   Chief Executives                         Instructional Coordinators  111011     259031\n1185  administers activities of state department of ...                                   Chief Executives               Medical and Health Services Managers  111011     119111\n1186  represents interests of united states governme...                                   Chief Executives                                            Lawyers  111011     231011\n1187  directs and coordinates activities concerned w...                                   Chief Executives           Child, Family, and School Social Workers  111011     211021\n1190  administers municipal police department partic...                                   Chief Executives  First-Line Supervisors/Managers of Police and ...  111011     331012\n1191  directs construction and maintenance of roads ...                                   Chief Executives               Court, Municipal, and License Clerks  111011     434031\n1192  directs administration of public welfare progr...                                   Chief Executives              Social and Community Service Managers  111011     119151\n1193  directs activities of workers engaged in asses...                                   Chief Executives  Property, Real Estate, and Community Associati...  111011     119141\n1194  plans and directs self employment rehabilitati...                                   Chief Executives                          Rehabilitation Counselors  111011     211015\n1199  directs prison rehabilitation programs and ass...                                   Chief Executives  Probation Officers and Correctional Treatment ...  111011     211092\n\n[141 rows x 5 columns]"
      ]
     },
     "execution_count": 22,
     "metadata": {},
     "output_type": "execute_result"
    }
   ],
   "source": [
    "mistakes.loc[800:1200]"
   ]
  },
  {
   "cell_type": "code",
   "execution_count": 13,
   "metadata": {
    "autoscroll": false,
    "collapsed": false,
    "ein.hycell": false,
    "ein.tags": "worksheet-0",
    "slideshow": {
     "slide_type": "-"
    }
   },
   "outputs": [],
   "source": [
    "def print_confusion_matrices(models, preds, y, path, SOC_LEVEL):\n",
    "    dot_dict = get_dictionary('', SOC_LEVEL)\n",
    "    model_names = ['-'.join(m.named_steps.keys()) for m in models]\n",
    "    un = dot_dict.groupby('soc').apply(lambda df: df.head(1))\n",
    "    category_names = un['desc_soc{}'.format(SOC_LEVEL)]\n",
    "    for name,p in zip(model_names, preds):\n",
    "        df = pd.DataFrame(confusion_matrix(y, p, un.soc), \n",
    "                          index=category_names, \n",
    "                          columns=category_names)\n",
    "        filename = path.format(SOC_LEVEL, name)\n",
    "        df.to_csv(filename, index=False)"
   ]
  },
  {
   "cell_type": "code",
   "execution_count": 14,
   "metadata": {
    "autoscroll": false,
    "collapsed": false,
    "ein.hycell": false,
    "ein.tags": "worksheet-0",
    "slideshow": {
     "slide_type": "-"
    }
   },
   "outputs": [],
   "source": [
    "print_confusion_matrices([models[2]], [preds[2]], y_train, 'confusion-matrices/insample-{}/{}.csv', 3)"
   ]
  }
 ],
 "metadata": {
  "kernelspec": {
   "display_name": "Python 3",
   "name": "python3"
  },
  "name": "dot-on-dot.ipynb"
 },
 "nbformat": 4,
 "nbformat_minor": 2
}
