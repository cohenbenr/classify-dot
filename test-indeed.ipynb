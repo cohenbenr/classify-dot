{
 "cells": [
  {
   "cell_type": "code",
   "execution_count": 1,
   "metadata": {
    "autoscroll": false,
    "collapsed": false,
    "ein.tags": "worksheet-0",
    "slideshow": {
     "slide_type": "-"
    }
   },
   "outputs": [],
   "source": [
    "! pip install --quiet nltk"
   ]
  },
  {
   "cell_type": "code",
   "execution_count": null,
   "metadata": {
    "autoscroll": false,
    "collapsed": false,
    "ein.tags": "worksheet-0",
    "slideshow": {
     "slide_type": "-"
    }
   },
   "outputs": [],
   "source": [
    "import nltk \n",
    "nltk.download('wordnet')"
   ]
  },
  {
   "cell_type": "code",
   "execution_count": 1,
   "metadata": {
    "autoscroll": false,
    "collapsed": false,
    "ein.tags": "worksheet-0",
    "slideshow": {
     "slide_type": "-"
    }
   },
   "outputs": [],
   "source": [
    "import os\n",
    "import pandas as pd\n",
    "import numpy as np\n",
    "from glob import glob\n",
    "from nltk.stem import WordNetLemmatizer\n",
    "import re\n",
    "from validation.title_matching import layered_matcher, title_matcher, punct_lookup, exact_matcher\n",
    "\n",
    "pd.set_option('max_colwidth',50)"
   ]
  },
  {
   "cell_type": "code",
   "execution_count": 2,
   "metadata": {
    "autoscroll": false,
    "collapsed": false,
    "ein.tags": "worksheet-0",
    "slideshow": {
     "slide_type": "-"
    }
   },
   "outputs": [],
   "source": [
    "class LemmaTokenizer(object):\n",
    "    regex = r'\\w+'\n",
    "    def __init__(self):\n",
    "        self.wnl = WordNetLemmatizer()        \n",
    "\n",
    "    def __call__(self, doc):\n",
    "        return [self.wnl.lemmatize(t) for t in re.findall(self.regex,doc)]\n",
    "    \n",
    "def get_indeed_texts(path, **kwargs):\n",
    "    indeed = pd.read_csv(path, **kwargs)\n",
    "    indeed['description'] = indeed.description.str.replace('Job Summary ', '')\n",
    "    text = indeed.title.str.cat(indeed.description, sep=' ')\n",
    "    indeed['title'] = indeed.title.str.lower()\n",
    "    return text, indeed\n",
    "\n",
    "def get_desc_lookup(path):\n",
    "    xwalk = pd.read_stata(path)\n",
    "    return xwalk.drop_duplicates(['soc2'])[['desc_soc2', 'soc2', 'soc6']]"
   ]
  },
  {
   "cell_type": "code",
   "execution_count": 10,
   "metadata": {
    "autoscroll": false,
    "collapsed": false,
    "ein.tags": "worksheet-0",
    "slideshow": {
     "slide_type": "-"
    }
   },
   "outputs": [],
   "source": [
    "text,indeed = get_indeed_texts('data/2018-08-02T09-00-19.csv', nrows=50000)"
   ]
  },
  {
   "cell_type": "code",
   "execution_count": 11,
   "metadata": {
    "autoscroll": false,
    "collapsed": false,
    "ein.tags": "worksheet-0",
    "slideshow": {
     "slide_type": "-"
    }
   },
   "outputs": [],
   "source": [
    "vectorizer = pd.read_pickle('models/tfidf.pkl')\n",
    "policy_prob = pd.read_pickle('models/logistic-model.pkl')        \n",
    "\n",
    "desc_lookup = get_desc_lookup('crosswalks/dot1991_census_soc_crosswalk.dta')\n",
    "lookup = pd.read_csv('crosswalks/soc-title-lookup.csv')\n",
    "\n",
    "matcher = layered_matcher([\n",
    "    exact_matcher(lookup), \n",
    "    title_matcher(lookup, punct_lookup(lookup))\n",
    "])"
   ]
  },
  {
   "cell_type": "code",
   "execution_count": 12,
   "metadata": {
    "autoscroll": false,
    "collapsed": false,
    "ein.tags": "worksheet-0",
    "slideshow": {
     "slide_type": "-"
    }
   },
   "outputs": [],
   "source": [
    "matches = matcher(indeed)"
   ]
  },
  {
   "cell_type": "code",
   "execution_count": 13,
   "metadata": {
    "autoscroll": false,
    "collapsed": false,
    "ein.tags": "worksheet-0",
    "slideshow": {
     "slide_type": "-"
    }
   },
   "outputs": [],
   "source": [
    "# Turn SOC code from matched data into SOC2 code and then Description\n",
    "matches['soc2'] = matches.code.str.split('-').map(lambda a: a[0]).astype(int)\n",
    "df = matches.merge(desc_lookup, how='left', on='soc2')\n",
    "X, y = df.description, df.desc_soc2"
   ]
  },
  {
   "cell_type": "code",
   "execution_count": 14,
   "metadata": {
    "autoscroll": false,
    "collapsed": false,
    "ein.tags": "worksheet-0",
    "slideshow": {
     "slide_type": "-"
    }
   },
   "outputs": [],
   "source": [
    "# Vectorize and predict validation data\n",
    "vecs = vectorizer.transform(X)\n",
    "preds = policy_prob.predict(vecs)"
   ]
  },
  {
   "cell_type": "code",
   "execution_count": 15,
   "metadata": {
    "autoscroll": false,
    "collapsed": false,
    "ein.tags": "worksheet-0",
    "slideshow": {
     "slide_type": "-"
    }
   },
   "outputs": [
    {
     "data": {
      "text/plain": [
       "0.35587842351369403"
      ]
     },
     "execution_count": 15,
     "metadata": {},
     "output_type": "execute_result"
    }
   ],
   "source": [
    "accuracy = (preds == y).sum() / preds.shape[0]\n",
    "accuracy"
   ]
  },
  {
   "cell_type": "code",
   "execution_count": 16,
   "metadata": {
    "autoscroll": false,
    "collapsed": false,
    "ein.tags": "worksheet-0",
    "slideshow": {
     "slide_type": "-"
    }
   },
   "outputs": [
    {
     "name": "stdout",
     "output_type": "stream",
     "text": [
      "                                                            precision    recall  f1-score   support\n",
      "\n",
      "                  Architecture and Engineering Occupations       0.32      0.48      0.38       188\n",
      "Arts, Design, Entertainment, Sports, and Media Occupations       0.60      0.54      0.57       998\n",
      " Building and Grounds Cleaning and Maintenance Occupations       0.83      0.14      0.23        37\n",
      "             Business and Financial Operations Occupations       0.39      0.37      0.38      1049\n",
      "                  Community and Social Service Occupations       0.00      0.00      0.00        20\n",
      "                     Computer and Mathematical Occupations       0.95      0.10      0.19      1030\n",
      "                   Construction and Extraction Occupations       0.17      0.03      0.04        39\n",
      "              Education, Training, and Library Occupations       0.37      0.37      0.37       125\n",
      "                Farming, Fishing, and Forestry Occupations       0.00      0.00      0.00         8\n",
      "          Food Preparation and Serving Related Occupations       1.00      0.11      0.19        66\n",
      "        Healthcare Practitioners and Technical Occupations       0.74      0.38      0.50       581\n",
      "                            Healthcare Support Occupations       0.00      0.00      0.00        38\n",
      "         Installation, Maintenance, and Repair Occupations       0.00      0.00      0.00         1\n",
      "                                         Legal Occupations       0.00      0.00      0.00         7\n",
      "            Life, Physical, and Social Science Occupations       0.36      0.10      0.16       198\n",
      "                                    Management Occupations       0.42      0.51      0.46       993\n",
      "                             Military Specific Occupations       0.00      0.00      0.00         4\n",
      "             Office and Administrative Support Occupations       0.09      0.31      0.14       228\n",
      "                     Personal Care and Service Occupations       0.07      0.10      0.09        20\n",
      "                                    Production Occupations       0.02      0.23      0.04        64\n",
      "                            Protective Service Occupations       0.50      0.04      0.07        53\n",
      "                             Sales and Related Occupations       0.34      0.47      0.39       237\n",
      "            Transportation and Material Moving Occupations       0.03      0.25      0.05         4\n",
      "\n",
      "                                               avg / total       0.54      0.36      0.37      5988\n",
      "\n"
     ]
    },
    {
     "name": "stderr",
     "output_type": "stream",
     "text": [
      "/opt/conda/lib/python3.6/site-packages/sklearn/metrics/classification.py:1135: UndefinedMetricWarning: Precision and F-score are ill-defined and being set to 0.0 in labels with no predicted samples.\n",
      "  'precision', 'predicted', average, warn_for)\n"
     ]
    }
   ],
   "source": [
    "from sklearn.metrics import classification_report\n",
    "\n",
    "print(classification_report(y, preds))"
   ]
  },
  {
   "cell_type": "code",
   "execution_count": 19,
   "metadata": {
    "autoscroll": false,
    "collapsed": false,
    "ein.tags": "worksheet-0",
    "slideshow": {
     "slide_type": "-"
    }
   },
   "outputs": [
    {
     "data": {
      "text/plain": [
       "(5988,)"
      ]
     },
     "execution_count": 19,
     "metadata": {},
     "output_type": "execute_result"
    }
   ],
   "source": [
    "y.shape"
   ]
  }
 ],
 "metadata": {
  "kernelspec": {
   "display_name": "Python 3",
   "name": "python3"
  },
  "language_info": {
   "codemirror_mode": {
    "name": "ipython",
    "version": 3
   },
   "file_extension": ".py",
   "mimetype": "text/x-python",
   "name": "python",
   "nbconvert_exporter": "python",
   "pygments_lexer": "ipython3",
   "version": "3.6.6"
  },
  "name": "test-indeed.ipynb"
 },
 "nbformat": 4,
 "nbformat_minor": 2
}
