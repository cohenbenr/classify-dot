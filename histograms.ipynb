{
 "cells": [
  {
   "cell_type": "code",
   "execution_count": 5,
   "metadata": {
    "autoscroll": false,
    "collapsed": false,
    "ein.hycell": false,
    "ein.tags": "worksheet-0",
    "slideshow": {
     "slide_type": "-"
    }
   },
   "outputs": [],
   "source": [
    "! pip install --quiet fuzzywuzzy"
   ]
  },
  {
   "cell_type": "code",
   "execution_count": 16,
   "metadata": {
    "autoscroll": false,
    "collapsed": false,
    "ein.hycell": false,
    "ein.tags": "worksheet-0",
    "slideshow": {
     "slide_type": "-"
    }
   },
   "outputs": [],
   "source": [
    "import pandas as pd\n",
    "import numpy as np\n",
    "import seaborn as sns\n",
    "from validation.data import indeed_test_data, dot_train_data, get_soc_n\n",
    "from statsmodels.iolib.summary2 import _df_to_simpletable\n",
    "\n",
    "import matplotlib.pyplot as plt\n",
    "plt.rcParams['figure.figsize'] = [16, 4]\n",
    "plt.rcParams['savefig.dpi'] = 300"
   ]
  },
  {
   "cell_type": "code",
   "execution_count": 2,
   "metadata": {
    "autoscroll": false,
    "collapsed": false,
    "ein.hycell": false,
    "ein.tags": "worksheet-0",
    "slideshow": {
     "slide_type": "-"
    }
   },
   "outputs": [],
   "source": [
    "rel = lambda x: x/x.sum()\n",
    "\n",
    "def format_bls(path):\n",
    "    bls = pd.read_csv(path, sep='\\t')\n",
    "    bls = bls.dropna(subset = ['soc2000'])\n",
    "    bls['soc3'] = bls['soc2000'].map(lambda x: str(int(x))[:3]).astype(int)\n",
    "    bls = bls.rename(columns = { 'soc3': 'soc-3'})\n",
    "    bls_dat = rel(bls.groupby('soc-3').sum().tot_emp)\n",
    "    bls_lookup = bls.groupby('soc-3').head(1)\n",
    "    df = pd.DataFrame({'share': bls_dat})\n",
    "    return df, bls_lookup\n",
    "\n",
    "def format_predicted(path):\n",
    "    predictions = pd.read_csv(path)\n",
    "    predicted_dat = rel(predictions.predicted_soc3.value_counts())\n",
    "    df = pd.DataFrame(predicted_dat)\n",
    "    df.index = df.index.rename('soc-3')\n",
    "    return df.rename(columns = {'predicted_soc3': 'share'}).sort_values('soc-3')\n",
    "\n",
    "def format_matched_dat(path):\n",
    "    matched = pd.read_csv(path)\n",
    "    matched['soc3'] = get_soc_n(matched['2000 SOC code'], 3)\n",
    "    matched_dat = rel(matched.soc3.value_counts()).reset_index()\n",
    "    s = matched_dat.sort_values('index')\n",
    "    return matched_dat.rename(columns = {'soc3': 'share', 'index': 'soc-3'}).set_index('soc-3')"
   ]
  },
  {
   "cell_type": "code",
   "execution_count": 3,
   "metadata": {
    "autoscroll": false,
    "collapsed": false,
    "ein.hycell": false,
    "ein.tags": "worksheet-0",
    "slideshow": {
     "slide_type": "-"
    }
   },
   "outputs": [],
   "source": [
    "bls_dat, bls = format_bls('oes_2014_flat.csv')\n",
    "matched_dat = format_matched_dat('indeed-us-titles-matched.csv')\n",
    "predicted_dat = format_predicted('predictions/us-soc3-predictions.csv')"
   ]
  },
  {
   "cell_type": "code",
   "execution_count": 4,
   "metadata": {
    "autoscroll": false,
    "collapsed": false,
    "ein.hycell": false,
    "ein.tags": "worksheet-0",
    "slideshow": {
     "slide_type": "-"
    }
   },
   "outputs": [],
   "source": [
    "common = set(bls_dat.index) & set(matched_dat.index) & set(predicted_dat.index)\n",
    "\n",
    "bls_dat, matched_dat, predicted_dat = [df.loc[df.index.isin(common)] for df in \n",
    "                                       [bls_dat, matched_dat, predicted_dat]]"
   ]
  },
  {
   "cell_type": "code",
   "execution_count": 5,
   "metadata": {
    "autoscroll": false,
    "collapsed": false,
    "ein.hycell": false,
    "ein.tags": "worksheet-0",
    "slideshow": {
     "slide_type": "-"
    }
   },
   "outputs": [],
   "source": [
    "predictions = pd.read_csv('predictions/us-soc3-predictions.csv')"
   ]
  },
  {
   "cell_type": "code",
   "execution_count": 6,
   "metadata": {
    "autoscroll": false,
    "collapsed": false,
    "ein.hycell": false,
    "ein.tags": "worksheet-0",
    "slideshow": {
     "slide_type": "-"
    }
   },
   "outputs": [],
   "source": [
    "from validation.dot_data import get_dictionary\n",
    "\n",
    "confusion = pd.read_csv('confusion-matrices/soc-3/embed-lr.csv')\n",
    "dot_codes = get_dictionary('', 3).groupby('soc').first()\n",
    "confusion.columns = dot_codes.index\n",
    "confusion.index = dot_codes.index"
   ]
  },
  {
   "cell_type": "code",
   "execution_count": 7,
   "metadata": {
    "autoscroll": false,
    "collapsed": false,
    "ein.hycell": false,
    "ein.tags": "worksheet-0",
    "slideshow": {
     "slide_type": "-"
    }
   },
   "outputs": [],
   "source": [
    "P = confusion.shape[0]\n",
    "N = predictions.predicted_soc3.shape[0]\n",
    "arr = np.ones((N, P))\n",
    "for i,p in enumerate(predictions.predicted_soc3):\n",
    "    try:\n",
    "        arr[i,:] = confusion[p].values\n",
    "    except KeyError:\n",
    "        arr[i,:] = np.zeros(P)"
   ]
  },
  {
   "cell_type": "code",
   "execution_count": 8,
   "metadata": {
    "autoscroll": false,
    "collapsed": false,
    "ein.hycell": false,
    "ein.tags": "worksheet-0",
    "slideshow": {
     "slide_type": "-"
    }
   },
   "outputs": [],
   "source": [
    "# Adjust predicted data by the confusion matrix for prediction over distribution!!\n",
    "\n",
    "predicted_dat = pd.Series(arr.sum(0) / arr.sum(), \n",
    "                          index=confusion.columns, \n",
    "                          name='share')[predicted_dat.index].to_frame()"
   ]
  },
  {
   "cell_type": "code",
   "execution_count": 9,
   "metadata": {
    "autoscroll": false,
    "collapsed": false,
    "ein.hycell": false,
    "ein.tags": "worksheet-0",
    "slideshow": {
     "slide_type": "-"
    }
   },
   "outputs": [],
   "source": [
    "get_code = lambda idx: bls_dat.index.values[idx]\n",
    "get_idx = lambda code: np.argwhere(bls_dat.reset_index()['soc-3'] == code)[0][0]\n",
    "get_title = lambda code: dot_codes.desc_soc3.to_dict()[code]"
   ]
  },
  {
   "cell_type": "code",
   "execution_count": 10,
   "metadata": {
    "autoscroll": false,
    "collapsed": false,
    "ein.hycell": false,
    "ein.tags": "worksheet-0",
    "slideshow": {
     "slide_type": "-"
    }
   },
   "outputs": [],
   "source": [
    "def truncate(s, lim):\n",
    "    if len(s) > lim:\n",
    "        return s[0:lim-2] + chr(8230)\n",
    "    return s\n",
    "\n",
    "def table(idx, lim=50):\n",
    "    df = pd.DataFrame({ 'BLS': bls_dat.share, \n",
    "                        'Predicted Indeed': predicted_dat.share})\n",
    "    df = df.iloc[idx].reset_index()\n",
    "    df['soc-3'] = df['soc-3'].map(get_title)\n",
    "    df = df.rename(columns = {'soc-3': 'Occupation'})\n",
    "    df['Occupation'] = df.Occupation.map(lambda s: truncate(s, lim))\n",
    "    table = _df_to_simpletable(df, float_format='%.3f', index=False)\n",
    "    return table.as_latex_tabular()"
   ]
  },
  {
   "cell_type": "code",
   "execution_count": 11,
   "metadata": {
    "autoscroll": false,
    "collapsed": false,
    "ein.hycell": false,
    "ein.tags": "worksheet-0",
    "slideshow": {
     "slide_type": "-"
    }
   },
   "outputs": [],
   "source": [
    "dif = (bls_dat.values - predicted_dat.values).reshape(-1)"
   ]
  },
  {
   "cell_type": "code",
   "execution_count": 12,
   "metadata": {
    "autoscroll": false,
    "collapsed": false,
    "ein.hycell": false,
    "ein.tags": "worksheet-0",
    "slideshow": {
     "slide_type": "-"
    }
   },
   "outputs": [
    {
     "name": "stdout",
     "output_type": "stream",
     "text": [
      "\\begin{center}\n",
      "\\begin{tabular}{ccc}\n",
      "\\hline\n",
      "                 Occupation                  &  BLS  & Predicted Indeed  \\\\\n",
      "\\hline\n",
      "\\hline\n",
      "\\end{tabular}\n",
      "\\begin{tabular}{rrr}\n",
      "                        Computer Occupations & 0.023 &            0.373  \\\\\n",
      "                       Financial Specialists & 0.020 &            0.083  \\\\\n",
      "             Media and Communication Workers & 0.003 &            0.060  \\\\\n",
      "             Business Operations Specialists & 0.025 &            0.061  \\\\\n",
      "Health Diagnosing and Treating Practitioners & 0.036 &            0.057  \\\\\n",
      "        Other Healthcare Support Occupations & 0.010 &            0.029  \\\\\n",
      "                Other Management Occupations & 0.016 &            0.035  \\\\\n",
      "                                   Engineers & 0.012 &            0.030  \\\\\n",
      "                      Art and Design Workers & 0.004 &            0.017  \\\\\n",
      "             Other Sales and Related Workers & 0.005 &            0.017  \\\\\n",
      "\\hline\n",
      "\\end{tabular}\n",
      "\\end{center}\n"
     ]
    }
   ],
   "source": [
    "# Most overrepresented in Indeed Predictions\n",
    "print(table(dif.argsort()[:10]))"
   ]
  },
  {
   "cell_type": "code",
   "execution_count": 13,
   "metadata": {
    "autoscroll": false,
    "collapsed": false,
    "ein.hycell": false,
    "ein.tags": "worksheet-0",
    "slideshow": {
     "slide_type": "-"
    }
   },
   "outputs": [
    {
     "name": "stdout",
     "output_type": "stream",
     "text": [
      "\\begin{center}\n",
      "\\begin{tabular}{ccc}\n",
      "\\hline\n",
      "                    Occupation                    &  BLS  & Predicted Indeed  \\\\\n",
      "\\hline\n",
      "\\hline\n",
      "\\end{tabular}\n",
      "\\begin{tabular}{rrr}\n",
      "                             Retail Sales Workers & 0.067 &            0.002  \\\\\n",
      "                Food and Beverage Serving Workers & 0.053 &            0.005  \\\\\n",
      "                    Information and Record Clerks & 0.042 &            0.013  \\\\\n",
      "                          Material Moving Workers & 0.034 &            0.005  \\\\\n",
      "                          Motor Vehicle Operators & 0.029 &            0.000  \\\\\n",
      "Preschool, Primary, Secondary, and Special Educa… & 0.029 &            0.003  \\\\\n",
      "        Secretaries and Administrative Assistants & 0.028 &            0.002  \\\\\n",
      "  Other Office and Administrative Support Workers & 0.029 &            0.004  \\\\\n",
      "                      Construction Trades Workers & 0.025 &            0.001  \\\\\n",
      "       Building Cleaning and Pest Control Workers & 0.024 &            0.001  \\\\\n",
      "\\hline\n",
      "\\end{tabular}\n",
      "\\end{center}\n"
     ]
    }
   ],
   "source": [
    "# Most underepresented in Indeed Predictions\n",
    "print(table(np.flip(dif.argsort()[-10:], 0)))"
   ]
  },
  {
   "cell_type": "code",
   "execution_count": 17,
   "metadata": {
    "autoscroll": false,
    "collapsed": false,
    "ein.hycell": false,
    "ein.tags": "worksheet-0",
    "slideshow": {
     "slide_type": "-"
    }
   },
   "outputs": [
    {
     "data": {
      "image/png": "[encoded data removed]",
      "text/plain": [
       "<Figure size 1152x288 with 1 Axes>"
      ]
     },
     "metadata": {},
     "output_type": "display_data"
    }
   ],
   "source": [
    "ax = sns.barplot(x='soc-3', y='share', color='red', alpha=.75, label='BLS', data=bls_dat.reset_index())\n",
    "ax = sns.barplot(x='soc-3', y='share', ax=ax, color='blue', alpha=.5, label='Predicted Indeed', data=predicted_dat.reset_index())\n",
    "ax.legend()\n",
    "_ = ax.set_xticklabels(ax.get_xticklabels(), rotation=90)\n",
    "\n",
    "annotations = [131, 132, 151, 172, (273, 25), (353, 27), (372, 20), 412, 472]\n",
    "# annotations = [151, 172, 291, (353, 27), (372, 20), 412, (439, 41)]\n",
    "\n",
    "def annotate_barplot(ax, a, b, annotations):\n",
    "    lookup_a = {idx:r.share for idx,r in a.iterrows()}\n",
    "    lookup_b = {idx:r.share for idx,r in b.iterrows()}\n",
    "\n",
    "    for a in annotations:\n",
    "        try:\n",
    "            code,lim = a \n",
    "        except TypeError:\n",
    "            code,lim = a, None\n",
    "        share = lookup_a[code]            \n",
    "        pred = lookup_b[code]\n",
    "        idx = get_idx(code)\n",
    "        title = get_title(code)\n",
    "        if lim:\n",
    "            title = truncate(title, lim)\n",
    "\n",
    "        fontdict = {'size': 'smaller'}\n",
    "        ax.text(idx, max(share, pred) + 0.002, title, rotation=0, fontdict=fontdict)\n",
    "\n",
    "\n",
    "annotate_barplot(ax, bls_dat, predicted_dat, annotations)\n",
    "ax.get_figure().savefig('figures/predicted-vs-BLS-adjusted.png')"
   ]
  },
  {
   "cell_type": "code",
   "execution_count": 19,
   "metadata": {
    "autoscroll": false,
    "collapsed": false,
    "ein.hycell": false,
    "ein.tags": "worksheet-0",
    "slideshow": {
     "slide_type": "-"
    }
   },
   "outputs": [
    {
     "data": {
      "image/png": "[encoded data removed]",
      "text/plain": [
       "<Figure size 1152x288 with 1 Axes>"
      ]
     },
     "metadata": {},
     "output_type": "display_data"
    }
   ],
   "source": [
    "ax = sns.barplot(x='soc-3', y='share', color='orange', alpha=.75, label='Title Matches Indeed', data=matched_dat.reset_index())\n",
    "ax = sns.barplot(x='soc-3', y='share', ax=ax, color='blue', alpha=.5, label='Predicted Indeed', data=predicted_dat.reset_index())\n",
    "ax.legend()\n",
    "_ = ax.set_xticklabels(ax.get_xticklabels(), rotation=90)\n",
    "ax.get_figure().savefig('figures/predicted-vs-exact-match-adjusted.png')"
   ]
  },
  {
   "cell_type": "code",
   "execution_count": 6,
   "metadata": {
    "autoscroll": false,
    "collapsed": false,
    "ein.hycell": false,
    "ein.tags": "worksheet-0",
    "slideshow": {
     "slide_type": "-"
    }
   },
   "outputs": [],
   "source": [
    "def plot_hist(dat):\n",
    "    ax = sns.barplot(x = 'soc3', y='share', data = dat.reset_index())\n",
    "    _ = ax.set_xticklabels(ax.get_xticklabels(), rotation=90)\n",
    "    return ax"
   ]
  },
  {
   "cell_type": "code",
   "execution_count": 7,
   "metadata": {
    "autoscroll": false,
    "collapsed": false,
    "ein.hycell": false,
    "ein.tags": "worksheet-0",
    "slideshow": {
     "slide_type": "-"
    }
   },
   "outputs": [],
   "source": [
    "d = pd.concat([bls_dat, matched_dat, predicted_dat], keys = ['BLS', 'Title Matches Indeed', 'Predicted Indeed']).reset_index().rename(columns = {'level_0': 'Source'})"
   ]
  },
  {
   "cell_type": "code",
   "execution_count": 12,
   "metadata": {
    "autoscroll": false,
    "collapsed": false,
    "ein.hycell": false,
    "ein.tags": "worksheet-0",
    "slideshow": {
     "slide_type": "-"
    }
   },
   "outputs": [
    {
     "data": {
      "image/png": "[encoded data removed]",
      "text/plain": [
       "<Figure size 864x648 with 3 Axes>"
      ]
     },
     "metadata": {},
     "output_type": "display_data"
    }
   ],
   "source": [
    "g = sns.FacetGrid(d, row='Source', aspect=4)\n",
    "codes = d['soc-3'].unique()\n",
    "ax = g.map(sns.barplot, 'soc-3', 'share', order = codes, palette=sns.palettes.color_palette('bright6', n_colors=len(codes)))\n",
    "_ = ax.set_xticklabels(codes, rotation=90)\n",
    "ax.savefig('figures/histograms-compared.png')"
   ]
  },
  {
   "cell_type": "code",
   "execution_count": 22,
   "metadata": {
    "autoscroll": false,
    "collapsed": false,
    "ein.hycell": false,
    "ein.tags": "worksheet-0",
    "slideshow": {
     "slide_type": "-"
    }
   },
   "outputs": [
    {
     "data": {
      "text/plain": [
       "1.4813864556856637"
      ]
     },
     "execution_count": 22,
     "metadata": {},
     "output_type": "execute_result"
    }
   ],
   "source": [
    "from scipy.stats import entropy\n",
    "\n",
    "entropy(bls_dat.share, predicted_dat.share)"
   ]
  },
  {
   "cell_type": "code",
   "execution_count": null,
   "metadata": {
    "autoscroll": false,
    "collapsed": false,
    "ein.hycell": false,
    "ein.tags": "worksheet-0",
    "slideshow": {
     "slide_type": "-"
    }
   },
   "outputs": [],
   "source": [
    "# get the multinomial distribution predicted for each datapoint\n",
    "# sample (once) from that multinomial distribution for each datapoint\n",
    "# repeat this sampling many times\n",
    "# Those samples give you your posterior predictive of the labor distribution"
   ]
  }
 ],
 "metadata": {
  "kernelspec": {
   "display_name": "Python 3",
   "name": "python3"
  },
  "name": "histograms.ipynb"
 },
 "nbformat": 4,
 "nbformat_minor": 2
}
