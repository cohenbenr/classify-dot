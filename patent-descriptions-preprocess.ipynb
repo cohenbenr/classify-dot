{
 "cells": [
  {
   "cell_type": "code",
   "execution_count": 8,
   "metadata": {
    "autoscroll": false,
    "collapsed": false,
    "ein.hycell": false,
    "ein.tags": "worksheet-0",
    "slideshow": {
     "slide_type": "-"
    }
   },
   "outputs": [],
   "source": [
    "import os\n",
    "import csv\n",
    "import pandas as pd\n",
    "from toolz import curry\n",
    "from tqdm import tqdm_notebook\n",
    "from embed_software.preprocess import claims_processor, readme_processor, Preprocessor\n",
    "\n",
    "def chunked_reader(f, chunksize=1000, **kwargs):\n",
    "    for df in pd.read_csv(f, chunksize=chunksize, **kwargs):\n",
    "        for i,r in df.iterrows():\n",
    "            yield r.values.tolist()\n",
    "\n",
    "def process_tsv(preprocessor, fi):\n",
    "    lines = chunked_reader(fi, sep='\\t')\n",
    "    lines = ((i, preprocessor(desc)) for i,desc,_ in lines if not pd.isna(desc))\n",
    "    lines = ([i, desc] for i,desc in lines if desc)\n",
    "    return lines\n",
    "\n",
    "def unzip(fi):\n",
    "    zipfile = ZipFile(BytesIO(requests.get(fi).content))\n",
    "    name = zipfile.filelist[0].filename\n",
    "    return name, zipfile.open(name)\n",
    "\n",
    "def write_out(fs, outfile, lines):\n",
    "    with fs.open(outfile, 'w') as f:\n",
    "        writer = csv.writer(f, quoting = csv.QUOTE_ALL)\n",
    "        for line in lines:\n",
    "           writer.writerow(line)\n",
    "\n",
    "# def process(preprocessor, inpath, outpath, fi):\n",
    "#     with open(os.path.join(inpath, fi)) as f:\n",
    "#         lines = process_tsv(preprocessor, f)\n",
    "#         write_out(os.path.join(outpath, fi), lines)    \n",
    "\n",
    "\n",
    "# def main(inpath, outpath, preprocessor):\n",
    "#     files = os.listdir(inpath)\n",
    "#     for f in tqdm_notebook(files):\n",
    "#         process(preprocessor, inpath, outpath, f)\n",
    "\n",
    "\n",
    "def process(fs, preprocessor, outpath, fi):\n",
    "    name, fi = unzip(fi)\n",
    "    lines = process_tsv(preprocessor, fi)\n",
    "    write_out(fs, os.path.join(outpath, name), lines)    \n",
    "\n",
    "\n",
    "from joblib import Parallel, delayed\n",
    "\n",
    "\n",
    "def main(fs, preprocessor, outpath, links):\n",
    "    Parallel(n_jobs=-1)(delayed(process)(fs, preprocessor, outpath, link) for link in links)\n",
    "\n",
    "\n",
    "# main('./patent-descriptions/data', './patent-descriptions/processed', preprocessor)"
   ]
  },
  {
   "cell_type": "code",
   "execution_count": 6,
   "metadata": {
    "autoscroll": false,
    "collapsed": false,
    "ein.hycell": false,
    "ein.tags": "worksheet-0",
    "slideshow": {
     "slide_type": "-"
    }
   },
   "outputs": [],
   "source": [
    "import requests\n",
    "from bs4 import BeautifulSoup\n",
    "from io import BytesIO\n",
    "from zipfile import ZipFile\n",
    "from random import shuffle\n",
    "\n",
    "res = requests.get('http://www.patentsview.org/download/detail_desc_text.html')\n",
    "soup = BeautifulSoup(res.content)\n",
    "links = [x.attrs['href'] for x in soup.select('table a')]\n",
    "shuffle(links)"
   ]
  },
  {
   "cell_type": "code",
   "execution_count": 9,
   "metadata": {
    "autoscroll": false,
    "collapsed": false,
    "ein.hycell": false,
    "ein.tags": "worksheet-0",
    "slideshow": {
     "slide_type": "-"
    }
   },
   "outputs": [],
   "source": [
    "from gcsfs import GCSFileSystem\n",
    "fs = GCSFileSystem(project='labor-market-data')\n",
    "\n",
    "preprocessor = Preprocessor(readme_processor, 4).process\n",
    "\n",
    "main(fs, preprocessor, 'lmd-patent-predictions', links)"
   ]
  }
 ],
 "metadata": {
  "kernelspec": {
   "argv": [
    "/opt/conda/bin/python",
    "-m",
    "ipykernel_launcher",
    "-f",
    "{connection_file}"
   ],
   "display_name": "Python 3",
   "env": null,
   "interrupt_mode": "signal",
   "language": "python",
   "metadata": null,
   "name": "python3"
  },
  "name": "patent-descriptions-preprocess.ipynb"
 },
 "nbformat": 4,
 "nbformat_minor": 2
}
