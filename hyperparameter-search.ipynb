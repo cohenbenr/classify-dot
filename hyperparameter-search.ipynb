{
 "cells": [
  {
   "cell_type": "code",
   "execution_count": null,
   "metadata": {
    "autoscroll": false,
    "collapsed": false,
    "ein.hycell": false,
    "ein.tags": "worksheet-0",
    "slideshow": {
     "slide_type": "-"
    }
   },
   "outputs": [],
   "source": [
    "\n",
    "import pandas as pd\n",
    "import numpy as np\n",
    "from sklearn.model_selection import GridSearchCV\n",
    "\n",
    "from validation.dot_data import LemmaTokenizer, get_dictionary\n",
    "from validation.data import indeed_test_data, dot_train_data, get_soc_n\n",
    "from classification.embedding import PreEmbeddedVectorizer"
   ]
  },
  {
   "cell_type": "code",
   "execution_count": null,
   "metadata": {
    "autoscroll": false,
    "collapsed": false,
    "ein.hycell": false,
    "ein.tags": "worksheet-0",
    "slideshow": {
     "slide_type": "-"
    }
   },
   "outputs": [],
   "source": [
    "SAMPLE_SIZE = 500000\n",
    "SOC_LEVEL = 3"
   ]
  },
  {
   "cell_type": "code",
   "execution_count": null,
   "metadata": {
    "autoscroll": false,
    "collapsed": false,
    "ein.hycell": false,
    "ein.tags": "worksheet-0",
    "slideshow": {
     "slide_type": "-"
    }
   },
   "outputs": [],
   "source": [
    "X_train, y_train = dot_train_data(SOC_LEVEL)\n",
    "X_test, y_test, ids = indeed_test_data('data/us/everything.csv', SAMPLE_SIZE, SOC_LEVEL)"
   ]
  },
  {
   "cell_type": "markdown",
   "metadata": {
    "ein.tags": "worksheet-0",
    "slideshow": {
     "slide_type": "-"
    }
   },
   "source": [
    "# Hyperparameter Search"
   ]
  },
  {
   "cell_type": "code",
   "execution_count": null,
   "metadata": {
    "autoscroll": false,
    "collapsed": false,
    "ein.hycell": false,
    "ein.tags": "worksheet-0",
    "slideshow": {
     "slide_type": "-"
    }
   },
   "outputs": [],
   "source": [
    "class VectorizedData():\n",
    "    def __init__(self, vectorizer, splits, n_jobs):\n",
    "        self.vectorizer = vectorizer\n",
    "        self.X_train, self.X_test, self.y_train, self.y_test = splits\n",
    "        self.n_jobs = n_jobs\n",
    "        \n",
    "    def vectorize(self):\n",
    "        self.V_train = self.vectorizer.fit_transform(self.X_train)\n",
    "        self.V_test = self.vectorizer.transform(self.X_test)\n",
    "        \n",
    "    def top_n_results(self, search, n=5):\n",
    "        res = search.cv_results_\n",
    "        tops = np.flip(np.argsort(res['mean_test_score']), 0)[:5]\n",
    "        scores = np.array(res['mean_test_score'])[tops]\n",
    "        params = pd.DataFrame(np.array(res['params'])[tops].tolist())\n",
    "        return params.assign(score = scores)\n",
    "\n",
    "    def run_search(self, model, param_grid):\n",
    "        y = pd.concat([self.y_train, self.y_test])\n",
    "        try:\n",
    "            X = np.concatenate([self.V_train, self.V_test])\n",
    "        except ValueError:\n",
    "            X = vstack([self.V_train, self.V_test]) \n",
    "        cv = [(np.arange(0, self.X_train.shape[0]), np.arange(self.X_train.shape[0], X.shape[0]))]\n",
    "        search = GridSearchCV(model, param_grid=param_grid, cv = cv, n_jobs=8)\n",
    "        search.fit(X, y)\n",
    "        return self.top_n_results(search)"
   ]
  },
  {
   "cell_type": "code",
   "execution_count": null,
   "metadata": {
    "autoscroll": false,
    "collapsed": false,
    "ein.hycell": false,
    "ein.tags": "worksheet-0",
    "slideshow": {
     "slide_type": "-"
    }
   },
   "outputs": [],
   "source": [
    "splits = [X_train, X_test, y_train, y_test]\n",
    "\n",
    "ss_embedder = PreEmbeddedVectorizer('../ss_embeds/ss_100_us.txt', '../ss_models/sentencespace', SAMPLE_SIZE)\n",
    "embedded = VectorizedData(ss_embedder,splits, 8)\n",
    "embedded.vectorize()\n",
    "\n",
    "tfidf = TfidfVectorizer()\n",
    "bow = VectorizedData(tfidf, splits, 8)\n",
    "bow.vectorize()"
   ]
  },
  {
   "cell_type": "code",
   "execution_count": null,
   "metadata": {
    "autoscroll": false,
    "collapsed": false,
    "ein.hycell": false,
    "ein.tags": "worksheet-0",
    "slideshow": {
     "slide_type": "-"
    }
   },
   "outputs": [],
   "source": [
    "param_grid = {\n",
    "    'num_leaves': [9, 31],\n",
    "    'max_depth': [-1, 2],\n",
    "    'n_estimators': [100, 400]\n",
    "}\n",
    "\n",
    "embedded.run_search(LGBMClassifier(), param_grid)"
   ]
  },
  {
   "cell_type": "code",
   "execution_count": null,
   "metadata": {
    "autoscroll": false,
    "collapsed": false,
    "ein.hycell": false,
    "ein.tags": "worksheet-0",
    "slideshow": {
     "slide_type": "-"
    }
   },
   "outputs": [
    {
     "name": "stdout",
     "output_type": "stream",
     "text": [
      "      C     score\n",
      "0  20.0  0.525174\n",
      "1  10.0  0.519633\n",
      "2   5.0  0.502294\n",
      "3   1.0  0.308884\n"
     ]
    }
   ],
   "source": [
    "param_grid = {\n",
    "    'C': [1.0, 5.0, 10.0, 20.0]\n",
    "}\n",
    "\n",
    "print(embedded.run_search(SVC(), param_grid))"
   ]
  },
  {
   "cell_type": "code",
   "execution_count": null,
   "metadata": {
    "autoscroll": false,
    "collapsed": false,
    "ein.hycell": false,
    "ein.tags": "worksheet-0",
    "slideshow": {
     "slide_type": "-"
    }
   },
   "outputs": [
    {
     "name": "stdout",
     "output_type": "stream",
     "text": [
      "      C  multi_class     score\n",
      "0   5.0  multinomial  0.537747\n",
      "1  10.0  multinomial  0.537270\n",
      "2   1.0  multinomial  0.532444\n",
      "3  10.0          ovr  0.518620\n",
      "4   5.0          ovr  0.517786\n"
     ]
    }
   ],
   "source": [
    "param_grid = {\n",
    "    'C': [1.0, 5.0, 10.0],\n",
    "    'multi_class': ['multinomial', 'ovr']\n",
    "}\n",
    "\n",
    "print(embedded.run_search(LogisticRegression(solver='newton-cg'), param_grid))"
   ]
  },
  {
   "cell_type": "code",
   "execution_count": null,
   "metadata": {
    "autoscroll": false,
    "collapsed": false,
    "ein.hycell": false,
    "ein.tags": "worksheet-0",
    "slideshow": {
     "slide_type": "-"
    }
   },
   "outputs": [
    {
     "name": "stdout",
     "output_type": "stream",
     "text": [
      "      C  multi_class     score\n",
      "0   5.0          ovr  0.489900\n",
      "1  10.0          ovr  0.483287\n",
      "2   5.0  multinomial  0.475958\n",
      "3   1.0          ovr  0.469761\n",
      "4   1.0  multinomial  0.469582\n"
     ]
    }
   ],
   "source": [
    "param_grid = {\n",
    "    'C': [1.0, 5.0, 10.0],\n",
    "    'multi_class': ['multinomial', 'ovr']\n",
    "}\n",
    "\n",
    "print(bow.run_search(LogisticRegression(solver='newton-cg'), param_grid))"
   ]
  }
 ],
 "metadata": {
  "kernelspec": {
   "display_name": "Python 3",
   "name": "python3"
  },
  "name": "Untitled.ipynb"
 },
 "nbformat": 4,
 "nbformat_minor": 2
}
