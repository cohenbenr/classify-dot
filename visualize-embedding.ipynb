{
 "cells": [
  {
   "cell_type": "code",
   "execution_count": 20,
   "metadata": {
    "autoscroll": false,
    "ein.hycell": false,
    "ein.tags": "worksheet-0",
    "slideshow": {
     "slide_type": "-"
    }
   },
   "outputs": [],
   "source": [
    "import numpy as np\n",
    "import pandas as pd\n",
    "from classification.embedding import PreEmbeddedVectorizer\n",
    "from validation.dot_data import get_dictionary\n",
    "from validation.data import indeed_test_data, dot_train_data\n",
    "\n",
    "import matplotlib.pyplot as plt\n",
    "plt.rcParams['figure.figsize'] = [12, 9]"
   ]
  },
  {
   "cell_type": "markdown",
   "metadata": {
    "ein.tags": "worksheet-0",
    "slideshow": {
     "slide_type": "-"
    }
   },
   "source": [
    "# Heatmap of Embedding"
   ]
  },
  {
   "cell_type": "code",
   "execution_count": 2,
   "metadata": {
    "autoscroll": false,
    "ein.hycell": false,
    "ein.tags": "worksheet-0",
    "slideshow": {
     "slide_type": "-"
    }
   },
   "outputs": [],
   "source": [
    "indeed = pd.read_csv('../data/us/everything.csv', nrows = 100000)"
   ]
  },
  {
   "cell_type": "code",
   "execution_count": 3,
   "metadata": {},
   "outputs": [
    {
     "name": "stdout",
     "output_type": "stream",
     "text": [
      "Int64Index([94219, 65721, 53011, 90249, 77360, 67090, 36277, 6545, 962, 11612], dtype='int64')\n"
     ]
    }
   ],
   "source": [
    "import random\n",
    "\n",
    "# np.random.seed(123)\n",
    "\n",
    "jobs = indeed.sample(10).content\n",
    "print(jobs.index)\n",
    "choices = [np.random.choice(j.split('\\t')) for j in jobs]"
   ]
  },
  {
   "cell_type": "code",
   "execution_count": 22,
   "metadata": {},
   "outputs": [],
   "source": [
    "choices = ['strong verbal and written communications skills',\n",
    "           'frequently visit with customers to determine needs and provide proposals that fulfill the customers requirements',\n",
    "           'completes and monitors payroll records to ensure employee hours are used efficiently',\n",
    "           'experience in long term care or health care is preferred',\n",
    "           'provide variety of in home non medical services to seniors adults and children with disabilities']"
   ]
  },
  {
   "cell_type": "code",
   "execution_count": 23,
   "metadata": {},
   "outputs": [
    {
     "data": {
      "image/png": "[encoded data removed]",
      "text/plain": [
       "<Figure size 864x648 with 2 Axes>"
      ]
     },
     "metadata": {
      "needs_background": "light"
     },
     "output_type": "display_data"
    }
   ],
   "source": [
    "import seaborn as sns\n",
    "from scipy.spatial.distance import pdist,squareform\n",
    "from embed_software.utils import embed_docs\n",
    "\n",
    "sents = [c for c in choices]\n",
    "compare = embed_docs('../indeed-embeds/model', '\\n'.join(choices))\n",
    "\n",
    "m = squareform(pdist(np.array(compare), 'cosine'))\n",
    "_ = sns.heatmap(pd.DataFrame(m, index= sents))"
   ]
  },
  {
   "cell_type": "code",
   "execution_count": 37,
   "metadata": {},
   "outputs": [],
   "source": [
    "\n",
    "\n",
    "_.get_figure().savefig('figures/sentence-heatmap.png', bbox_inches='tight')"
   ]
  },
  {
   "cell_type": "code",
   "execution_count": null,
   "metadata": {
    "autoscroll": false,
    "ein.hycell": false,
    "ein.tags": "worksheet-0",
    "slideshow": {
     "slide_type": "-"
    }
   },
   "outputs": [],
   "source": [
    "# get set of random sentences from job ads. \n",
    "\n",
    "# plot heatmap\n"
   ]
  },
  {
   "cell_type": "markdown",
   "metadata": {
    "ein.tags": "worksheet-0",
    "slideshow": {
     "slide_type": "-"
    }
   },
   "source": [
    "# MDS of Embedding in Training Space"
   ]
  },
  {
   "cell_type": "code",
   "execution_count": 4,
   "metadata": {
    "autoscroll": false,
    "ein.hycell": false,
    "ein.tags": "worksheet-0",
    "slideshow": {
     "slide_type": "-"
    }
   },
   "outputs": [],
   "source": [
    "SAMPLE_SIZE = 500000\n",
    "SOC_LEVEL = 3"
   ]
  },
  {
   "cell_type": "code",
   "execution_count": null,
   "metadata": {
    "autoscroll": false,
    "ein.hycell": false,
    "ein.tags": "worksheet-0",
    "slideshow": {
     "slide_type": "-"
    }
   },
   "outputs": [],
   "source": [
    "X_train, y_train = dot_train_data(SOC_LEVEL)\n",
    "X_test, y_test, ids = indeed_test_data('../data/us/everything.csv', SAMPLE_SIZE, SOC_LEVEL)"
   ]
  },
  {
   "cell_type": "code",
   "execution_count": null,
   "metadata": {
    "autoscroll": false,
    "ein.hycell": false,
    "ein.tags": "worksheet-0",
    "slideshow": {
     "slide_type": "-"
    }
   },
   "outputs": [],
   "source": [
    "vecs = PreEmbeddedVectorizer('../ss_embeds/ss_100_us_b.txt', '../ss_models/sentencespace_us', SAMPLE_SIZE, 100).fit_transform(X_train)\n",
    "dot_dict = get_dictionary('', SOC_LEVEL)\n",
    "vecs = vecs[:dot_dict.shape[0]]\n",
    "y_train = y_train[:dot_dict.shape[0]]"
   ]
  },
  {
   "cell_type": "code",
   "execution_count": null,
   "metadata": {
    "autoscroll": false,
    "ein.hycell": false,
    "ein.tags": "worksheet-0",
    "slideshow": {
     "slide_type": "-"
    }
   },
   "outputs": [],
   "source": [
    "desc = 'desc_soc{}'.format(SOC_LEVEL)\n",
    "\n",
    "lookup = dot_dict.groupby('soc').apply(lambda df: df.head(1))[['soc', desc]]\n",
    "y_desc = pd.DataFrame({ 'soc': y_train}).merge(lookup, how='left', on='soc')\n",
    "labels = y_desc[desc]"
   ]
  },
  {
   "cell_type": "code",
   "execution_count": null,
   "metadata": {
    "autoscroll": false,
    "ein.hycell": false,
    "ein.tags": "worksheet-0",
    "slideshow": {
     "slide_type": "-"
    }
   },
   "outputs": [],
   "source": [
    "occupations = np.random.choice(y_desc[desc].unique(), size=6, replace=False)\n",
    "idx = y_desc[y_d<esc[desc].isin(occupations)].groupby(desc).apply(lambda df: df.sample(100)).index.levels[1]"
   ]
  },
  {
   "cell_type": "code",
   "execution_count": null,
   "metadata": {
    "autoscroll": false,
    "ein.hycell": false,
    "ein.tags": "worksheet-0",
    "slideshow": {
     "slide_type": "-"
    }
   },
   "outputs": [],
   "source": [
    "from sklearn.manifold import MDS, Isomap, TSNE\n",
    "two = MDS().fit_transform(vecs[idx])"
   ]
  },
  {
   "cell_type": "code",
   "execution_count": null,
   "metadata": {
    "autoscroll": false,
    "ein.hycell": false,
    "ein.tags": "worksheet-0",
    "slideshow": {
     "slide_type": "-"
    }
   },
   "outputs": [],
   "source": [
    "import seaborn as sns\n",
    "\n",
    "df = pd.DataFrame(two, columns = ['x', 'y']).assign(Category = labels[idx].astype('category').values)\n",
    "ax = sns.scatterplot(x = 'x', y = 'y', hue = 'Category', data=df, s=100)\n",
    "ax.get_figure().savefig('figures/MDS-soc2.png')"
   ]
  }
 ],
 "metadata": {
  "kernelspec": {
   "display_name": "Python 3",
   "language": "python",
   "name": "python3"
  },
  "language_info": {
   "codemirror_mode": {
    "name": "ipython",
    "version": 3
   },
   "file_extension": ".py",
   "mimetype": "text/x-python",
   "name": "python",
   "nbconvert_exporter": "python",
   "pygments_lexer": "ipython3",
   "version": "3.7.3"
  },
  "name": "visualize-embedding.ipynb"
 },
 "nbformat": 4,
 "nbformat_minor": 2
}
