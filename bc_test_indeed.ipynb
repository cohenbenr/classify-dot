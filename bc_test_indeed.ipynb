{
 "cells": [
  {
   "cell_type": "code",
   "execution_count": 1,
   "metadata": {},
   "outputs": [
    {
     "name": "stderr",
     "output_type": "stream",
     "text": [
      "/opt/conda/lib/python3.6/site-packages/fuzzywuzzy/fuzz.py:11: UserWarning: Using slow pure-python SequenceMatcher. Install python-Levenshtein to remove this warning\n",
      "  warnings.warn('Using slow pure-python SequenceMatcher. Install python-Levenshtein to remove this warning')\n"
     ]
    }
   ],
   "source": [
    "import time\n",
    "import pickle\n",
    "\n",
    "import pandas as pd\n",
    "import numpy as np\n",
    "\n",
    "from sklearn.pipeline import Pipeline\n",
    "from sklearn.metrics import accuracy_score\n",
    "from sklearn.linear_model import LogisticRegression\n",
    "\n",
    "#from scipy.sparse import vstack \n",
    "\n",
    "from validation.data import *\n",
    "from validation.scoring import bubbleup_score, BubbleUpMixin\n",
    "\n",
    "from src.model import StarSpace\n",
    "\n",
    "import torch\n",
    "import torch.nn as nn\n",
    "from torch import optim"
   ]
  },
  {
   "cell_type": "code",
   "execution_count": 2,
   "metadata": {},
   "outputs": [
    {
     "name": "stdout",
     "output_type": "stream",
     "text": [
      "Using device cuda\n"
     ]
    }
   ],
   "source": [
    "if torch.cuda.is_available():\n",
    "    device = 'cuda'\n",
    "else:\n",
    "    device = 'cpu'\n",
    "\n",
    "print(\"Using device\", device)"
   ]
  },
  {
   "cell_type": "code",
   "execution_count": 3,
   "metadata": {},
   "outputs": [],
   "source": [
    "SAMPLE_SIZE = 100000 #500000\n",
    "SOC_LEVEL = 6\n",
    "BUBBLE_UP = 3\n",
    "PROD = False"
   ]
  },
  {
   "cell_type": "code",
   "execution_count": 4,
   "metadata": {},
   "outputs": [],
   "source": [
    "MODEL = 'adversarial' #The folder to use"
   ]
  },
  {
   "cell_type": "code",
   "execution_count": 5,
   "metadata": {},
   "outputs": [],
   "source": [
    "X_train, y_train = dot_train_data(SOC_LEVEL)\n",
    "X_test, y_test, ids = indeed_test_data('../data/us/everything.csv', SAMPLE_SIZE, SOC_LEVEL, use_gcs=True)\n",
    "if PROD == False:\n",
    "    noprod_idx = get_soc_n(y_train.astype(str), 2) != 51\n",
    "    X_train, y_train = X_train[noprod_idx], y_train[noprod_idx]"
   ]
  },
  {
   "cell_type": "code",
   "execution_count": 6,
   "metadata": {},
   "outputs": [],
   "source": [
    "X_train = X_train.reset_index(drop=True)"
   ]
  },
  {
   "cell_type": "code",
   "execution_count": 7,
   "metadata": {},
   "outputs": [
    {
     "name": "stdout",
     "output_type": "stream",
     "text": [
      "(12431, 100)\n"
     ]
    }
   ],
   "source": [
    "# path = 'lmd-classify-dot/ss-models/bcohen/weights_e5'\n",
    "# fs = GCSFileSystem(project='labor-market-data')\n",
    "# with fs.open(path) as f:\n",
    "#     embeddings = pickle.load(f)\n",
    "\n",
    "with open('data/%s/weights_best_epoch' % MODEL, 'rb') as f:\n",
    "    embeddings = pickle.load(f)\n",
    "\n",
    "print(embeddings.shape)\n",
    "embeddings = torch.FloatTensor(embeddings)\n",
    "embeddings = nn.Embedding.from_pretrained(embeddings)"
   ]
  },
  {
   "cell_type": "code",
   "execution_count": 8,
   "metadata": {},
   "outputs": [],
   "source": [
    "# path = 'lmd-classify-dot/ss-models/bcohen/train_vocab_e5'\n",
    "# fs = GCSFileSystem(project='labor-market-data')\n",
    "# with fs.open(path) as f:\n",
    "#     vocab = pickle.load(f)"
   ]
  },
  {
   "cell_type": "code",
   "execution_count": 9,
   "metadata": {},
   "outputs": [],
   "source": [
    "with open('data/%s/train_vocab_10000' % MODEL, 'rb') as f:\n",
    "    vocab = pickle.load(f)"
   ]
  },
  {
   "cell_type": "code",
   "execution_count": 10,
   "metadata": {},
   "outputs": [
    {
     "data": {
      "text/plain": [
       "12431"
      ]
     },
     "execution_count": 10,
     "metadata": {},
     "output_type": "execute_result"
    }
   ],
   "source": [
    "len(vocab)"
   ]
  },
  {
   "cell_type": "code",
   "execution_count": 11,
   "metadata": {},
   "outputs": [],
   "source": [
    "model = StarSpace(\n",
    "    d_embed=100,\n",
    "    vocabulary=vocab,\n",
    "    k_neg = 10,\n",
    "    input_embedding = embeddings)"
   ]
  },
  {
   "cell_type": "code",
   "execution_count": 12,
   "metadata": {},
   "outputs": [],
   "source": [
    "X_train = model.get_positions(X_train)\n",
    "X_test = model.get_positions(X_test)\n",
    "\n",
    "for i in range(len(X_train)):\n",
    "    for j in range(len(X_train[i])):\n",
    "        X_train[i][j] = X_train[i][j].to(device)\n",
    "\n",
    "for i in range(len(X_test)):\n",
    "    for j in range(len(X_test[i])):\n",
    "        X_test[i][j] = X_test[i][j].to(device)"
   ]
  },
  {
   "cell_type": "code",
   "execution_count": 13,
   "metadata": {},
   "outputs": [],
   "source": [
    "X_train_emb = np.empty([X_train.shape[0],100])\n",
    "X_test_emb = np.empty([X_test.shape[0],100])"
   ]
  },
  {
   "cell_type": "code",
   "execution_count": 14,
   "metadata": {},
   "outputs": [
    {
     "name": "stdout",
     "output_type": "stream",
     "text": [
      "3.8255770206451416\n",
      "4.125118017196655\n"
     ]
    }
   ],
   "source": [
    "start_time = time.time()\n",
    "for i,doc in enumerate(X_train):\n",
    "    X_train_emb[i] = model.embed_doc(torch.cat(doc)).cpu()\n",
    "print(time.time() - start_time)\n",
    "\n",
    "start_time = time.time()\n",
    "for i,doc in enumerate(X_test):\n",
    "    X_test_emb[i] = model.embed_doc(torch.cat(doc)).cpu()\n",
    "print(time.time() - start_time)"
   ]
  },
  {
   "cell_type": "code",
   "execution_count": 15,
   "metadata": {},
   "outputs": [],
   "source": [
    "class BubbleUpLogisticRegression(BubbleUpMixin, LogisticRegression):\n",
    "    pass"
   ]
  },
  {
   "cell_type": "code",
   "execution_count": null,
   "metadata": {},
   "outputs": [],
   "source": [
    "Bubbles = BubbleUpLogisticRegression(C=2., solver='lbfgs', class_weight='balanced', \n",
    "                                     multi_class=\"multinomial\", n_jobs=-1).set_bubbles(BUBBLE_UP)\n",
    "\n",
    "Bubbles.fit(X_train_emb,y_train)"
   ]
  },
  {
   "cell_type": "code",
   "execution_count": null,
   "metadata": {},
   "outputs": [],
   "source": [
    "y_pred = Bubbles.predict(X_test_emb)"
   ]
  },
  {
   "cell_type": "code",
   "execution_count": null,
   "metadata": {},
   "outputs": [],
   "source": [
    "accuracy_score(get_soc_n(y_test.astype(str), BUBBLE_UP).astype(str), y_pred) "
   ]
  },
  {
   "cell_type": "code",
   "execution_count": null,
   "metadata": {},
   "outputs": [],
   "source": []
  },
  {
   "cell_type": "code",
   "execution_count": null,
   "metadata": {},
   "outputs": [],
   "source": []
  },
  {
   "cell_type": "code",
   "execution_count": null,
   "metadata": {},
   "outputs": [],
   "source": []
  },
  {
   "cell_type": "code",
   "execution_count": null,
   "metadata": {},
   "outputs": [],
   "source": []
  }
 ],
 "metadata": {
  "kernelspec": {
   "display_name": "Python 3",
   "language": "python",
   "name": "python3"
  },
  "language_info": {
   "codemirror_mode": {
    "name": "ipython",
    "version": 3
   },
   "file_extension": ".py",
   "mimetype": "text/x-python",
   "name": "python",
   "nbconvert_exporter": "python",
   "pygments_lexer": "ipython3",
   "version": "3.6.9"
  }
 },
 "nbformat": 4,
 "nbformat_minor": 4
}
