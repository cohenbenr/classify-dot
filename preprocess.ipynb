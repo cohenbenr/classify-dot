{
 "cells": [
  {
   "cell_type": "code",
   "execution_count": 6,
   "metadata": {
    "autoscroll": false,
    "collapsed": false,
    "ein.hycell": false,
    "ein.tags": "worksheet-0",
    "slideshow": {
     "slide_type": "-"
    }
   },
   "outputs": [],
   "source": [
    "from embed_software.preprocess import claims_processor, readme_processor, Preprocessor"
   ]
  },
  {
   "cell_type": "code",
   "execution_count": 11,
   "metadata": {
    "autoscroll": false,
    "collapsed": false,
    "ein.hycell": false,
    "ein.tags": "worksheet-0",
    "slideshow": {
     "slide_type": "-"
    }
   },
   "outputs": [],
   "source": [
    "from os.path import join\n",
    "import json\n",
    "import dataset\n",
    "from time import sleep\n",
    "\n",
    "from urllib.parse import urlparse, urlunparse, parse_qs, urlencode\n",
    "\n",
    "from concurrent.futures import ThreadPoolExecutor as Pool\n",
    "from tqdm import tqdm_notebook  \n",
    "from itertools import takewhile, islice, count\n",
    "from sqlite3 import connect, OperationalError\n",
    "\n",
    "import logging\n",
    "logger = logging.getLogger()\n",
    "logger.setLevel(logging.INFO)\n",
    "\n",
    "def chunk(n, it):\n",
    "    src = iter(it)\n",
    "    return takewhile(bool, (list(islice(src, n)) for _ in count(0)))\n",
    "\n",
    "def remove_qs(url):\n",
    "    \"\"\" Removes query string except for key jk \"\"\"\n",
    "    u = urlparse(url)\n",
    "    qs = parse_qs(u.query)\n",
    "    jk = qs.get('jk')\n",
    "    if jk:\n",
    "        qs = urlencode({'jk': jk}, True)\n",
    "    else:\n",
    "        qs = None        \n",
    "    return urlunparse(u._replace(query = qs))\n",
    "\n",
    "class ParallelProcessor():\n",
    "    def __init__(self, inpath, fs, outpath, string_processor, threads, **kwargs):\n",
    "        self.inpath = inpath\n",
    "        self.outpath = outpath\n",
    "        self.threads = threads\n",
    "        self.fs = fs\n",
    "        self.kwargs = kwargs\n",
    "        self.string_processor = string_processor\n",
    "        self.processed = 0\n",
    "        \n",
    "    def _create_table(self, outpath):\n",
    "        con = connect(self.outpath)\n",
    "        cur = con.cursor()\n",
    "        cur.execute(\"\"\"CREATE TABLE processed(id INTEGER PRIMARY KEY, \n",
    "                                              url VARCHAR UNIQUE, \n",
    "                                              title VARCHAR, \n",
    "                                              content VARCHAR, \n",
    "                                              timestamp DATETIME)\n",
    "                                              \"\"\")\n",
    "        con.commit()\n",
    "        cur.close()\n",
    "        con.close()\n",
    "        \n",
    "    def _insert_rows(self, cur, li, tries=0):\n",
    "        try:\n",
    "            cur.executemany(\"insert or ignore into \\\n",
    "            processed(url,title,content,timestamp) \\\n",
    "            values (?,?,?,?)\", li)\n",
    "        except OperationalError:\n",
    "            sleep(.1)\n",
    "            if tries < 30:\n",
    "                self._insert_rows(cur, li, tries = tries+1)\n",
    "            else:\n",
    "                logging.error('failed to insert!')\n",
    "                pass\n",
    "            \n",
    "    def _process(self, d, keys):\n",
    "        d['content'] = self.string_processor(d['description'])\n",
    "        d['url'] = remove_qs(d['url'])\n",
    "        d = [d[k] for k in keys] if d['content'] else None\n",
    "        return d\n",
    "        \n",
    "    def _get_files(self):\n",
    "        files = self.fs.ls(self.inpath)\n",
    "        files = [f.split('/')[-1] for f in files]\n",
    "        files = [f for f in files if f]\n",
    "        return [join(self.inpath, f) for f in files]\n",
    "    \n",
    "    def process(self, filename):\n",
    "        con = connect(self.outpath)        \n",
    "        cur = con.cursor()             \n",
    "        with self.fs.open(filename) as f:\n",
    "            for c in chunk(1000, f):\n",
    "                rows = [self._process(json.loads(l), **self.kwargs) for l in c]\n",
    "                rows = [d for d in rows if d]\n",
    "                self._insert_rows(cur, rows)\n",
    "                con.commit()\n",
    "                self.processed += 1000\n",
    "                logging.info('Processed: {}'.format(self.processed))\n",
    "        cur.close()\n",
    "        con.close()\n",
    "        \n",
    "    def process_all(self, files=None):\n",
    "        self._create_table(self.outpath)        \n",
    "        if files is None:\n",
    "            files = self._get_files()\n",
    "        with Pool(self.threads) as pool:\n",
    "            pool.imap(self.process, files)"
   ]
  },
  {
   "cell_type": "code",
   "execution_count": 12,
   "metadata": {
    "autoscroll": false,
    "collapsed": false,
    "ein.hycell": false,
    "ein.tags": "worksheet-0",
    "slideshow": {
     "slide_type": "-"
    }
   },
   "outputs": [],
   "source": [
    "import s3fs\n",
    "\n",
    "fs = s3fs.S3FileSystem()\n",
    "inpath = 'oecd-scraping/indeed-uk'\n",
    "keys = ['url', 'title', 'content', 'scrapeTimestamp']\n",
    "string_processor = Preprocessor(readme_processor, 4).process\n",
    "\n",
    "p = ParallelProcessor(inpath, fs, 'uk-jobs.db', string_processor, threads=30, keys=keys)\n",
    "# p.process_all()"
   ]
  },
  {
   "cell_type": "code",
   "execution_count": 3,
   "metadata": {
    "autoscroll": false,
    "collapsed": false,
    "ein.hycell": false,
    "ein.tags": "worksheet-0",
    "slideshow": {
     "slide_type": "-"
    }
   },
   "outputs": [],
   "source": [
    "import pandas as pd\n",
    "\n",
    "def write_content(fi, outfi):\n",
    "    pd.read_csv(fi).content.to_csv(outfi, index=False, header=None)"
   ]
  },
  {
   "cell_type": "code",
   "execution_count": null,
   "metadata": {
    "autoscroll": false,
    "collapsed": false,
    "ein.hycell": false,
    "ein.tags": "worksheet-0",
    "slideshow": {
     "slide_type": "-"
    }
   },
   "outputs": [],
   "source": [
    "# write out from sqlite to csv"
   ]
  },
  {
   "cell_type": "code",
   "execution_count": 5,
   "metadata": {
    "autoscroll": false,
    "collapsed": false,
    "ein.hycell": false,
    "ein.tags": "worksheet-0",
    "slideshow": {
     "slide_type": "-"
    }
   },
   "outputs": [],
   "source": [
    "write_content('uk-everything.csv', 'content-uk.txt')"
   ]
  }
 ],
 "metadata": {
  "kernelspec": {
   "display_name": "Python 3",
   "name": "python3"
  },
  "language_info": {
   "codemirror_mode": {
    "name": "ipython",
    "version": 3
   },
   "file_extension": ".py",
   "mimetype": "text/x-python",
   "name": "python",
   "nbconvert_exporter": "python",
   "pygments_lexer": "ipython3",
   "version": "3.6.3"
  },
  "name": "preprocess.ipynb"
 },
 "nbformat": 4,
 "nbformat_minor": 2
}
