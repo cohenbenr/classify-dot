{
 "cells": [
  {
   "cell_type": "code",
   "execution_count": 81,
   "metadata": {
    "autoscroll": false,
    "collapsed": false,
    "ein.hycell": false,
    "ein.tags": "worksheet-0",
    "slideshow": {
     "slide_type": "-"
    }
   },
   "outputs": [
    {
     "name": "stdout",
     "output_type": "stream",
     "text": [
      "The autoreload extension is already loaded. To reload it, use:\n",
      "  %reload_ext autoreload\n"
     ]
    }
   ],
   "source": [
    "%load_ext autoreload\n",
    "%autoreload 2\n",
    "\n",
    "import pandas as pd\n",
    "import numpy as np\n",
    "import re\n",
    "from statsmodels.iolib.summary2 import _df_to_simpletable, _formatter\n",
    "from statsmodels.iolib.table import SimpleTable\n",
    "from validation.dot_data import get_dictionary\n",
    "from toolz import curry\n",
    "from statsmodels.iolib.tableformatting import fmt_latex, fmt_txt"
   ]
  },
  {
   "cell_type": "code",
   "execution_count": 5,
   "metadata": {
    "autoscroll": false,
    "collapsed": false,
    "ein.hycell": false,
    "ein.tags": "worksheet-0",
    "slideshow": {
     "slide_type": "-"
    }
   },
   "outputs": [],
   "source": [
    "def counts(arr, i):\n",
    "    tp = arr[i,i]\n",
    "    fp = np.sum(arr[:,i]) - tp\n",
    "    fn = np.sum(arr[i,:]) - tp\n",
    "    return tp, fp, fn\n",
    "\n",
    "def prec(tp, fp):\n",
    "    return tp/(tp+fp) if (tp+fp) > 0 else 0.\n",
    "\n",
    "def recall(tp, fn):\n",
    "    return tp/(tp+fn) if (tp+fn) > 0 else 0.\n",
    "\n",
    "def scores_and_weights(df):\n",
    "    idx = df.values.sum(1) != 0\n",
    "    m = df.iloc[idx,:].values\n",
    "    weights = m.sum(1) / m.sum()\n",
    "    c = [counts(m, i) for i in np.arange(m.shape[0])]\n",
    "    return c, weights\n",
    "\n",
    "def micro(df):\n",
    "    c,_ = scores_and_weights(df)\n",
    "    tp, fp, fn = np.array(c).sum(0)\n",
    "    micro_precision, micro_recall = tp / (tp + fp), tp / (tp + fn)\n",
    "    return micro_precision, micro_recall\n",
    "\n",
    "def macro(df, mode='weighted'):\n",
    "    \"\"\" mode is {'weighted', 'raw', 'macro'} \"\"\"\n",
    "    c,weights = scores_and_weights(df)\n",
    "    precisions = np.array([prec(tp,fp) for tp,fp,fn in c])\n",
    "    recalls = np.array([recall(tp,fn) for tp,fp,fn in c])\n",
    "    if mode == 'raw':\n",
    "        return precisions, recalls\n",
    "    elif mode == 'weighted':\n",
    "        return precisions.dot(weights), recalls.dot(weights)\n",
    "    else:\n",
    "        return np.mean(precisions), np.mean(recalls)"
   ]
  },
  {
   "cell_type": "code",
   "execution_count": 197,
   "metadata": {
    "autoscroll": false,
    "collapsed": false,
    "ein.hycell": false,
    "ein.tags": "worksheet-0",
    "slideshow": {
     "slide_type": "-"
    }
   },
   "outputs": [],
   "source": [
    "def get_percentage(score, t, s):\n",
    "    i = get_idx(t)\n",
    "    if score == 'recall':\n",
    "        tot = get_trues(i)\n",
    "    elif score == 'precision':\n",
    "        tot = get_classified(i)\n",
    "    return s/tot\n",
    "\n",
    "def get_score(t, sdf, score):\n",
    "    i = get_idx(t)\n",
    "    return sdf[score][i]\n",
    "\n",
    "def map_series(ser, df):\n",
    "    ser.index = df.columns[ser.index]\n",
    "    return ser\n",
    "\n",
    "def single_tabular(s, title, score):\n",
    "    beg = 'begin{tabular}|end{tabular}'\n",
    "    a = [re.search(beg, i) for i in s.split('\\n')]\n",
    "    tabulars = np.argwhere(np.array(a) != None).reshape(-1)\n",
    "    insides = tabulars[1:-1]\n",
    "    rows = [e for i,e in enumerate(s.split('\\n')) if i not in insides]\n",
    "    rows = rows[2:]\n",
    "    rows = rows[:-2]\n",
    "    pre = ['\\\\begin{subtable}[t]{\\linewidth}',\n",
    "           '\\\\begin{tabular*}{\\\\textwidth}{l @{\\\\extracolsep{\\\\fill}} c c c}']\n",
    "\n",
    "    post = ['\\\\end{tabular*}', \n",
    "            '\\caption{{ {} }}'.format(title),\n",
    "            '\\end{subtable}',\n",
    "            '\\\\vspace{5mm}']\n",
    "    rows = pre + rows + post\n",
    "    return '\\n'.join(rows)\n",
    "\n",
    "def print_tables(x, score):\n",
    "    for title,value,d in x:\n",
    "        table = _df_to_simpletable(d, float_format=\"%.2f\", index=False)\n",
    "        s = table.as_latex_tabular()\n",
    "        s = single_tabular(s, title, score)\n",
    "        print(s)\n",
    "        print('\\n')\n",
    "\n",
    "def make_code_lookup(SOC_LEVEL):\n",
    "    dot_dict = get_dictionary('', SOC_LEVEL)\n",
    "    di = (dot_dict[[f'desc_soc{SOC_LEVEL}', 'soc']]\n",
    "          .groupby('soc')\n",
    "          .head(1)\n",
    "          .set_index('desc_soc3')\n",
    "          .to_dict(orient='index'))\n",
    "    return {k:v['soc'] for k,v in di.items()}\n",
    "\n",
    "@curry\n",
    "def truncate(lim, s):\n",
    "    if len(s) > lim:\n",
    "        return s[0:lim-2] + chr(8230)\n",
    "    return s\n",
    "\n",
    "def format_scores(s, code_lookup, count_lookup, test_count):\n",
    "    dots = [str(count_lookup[code_lookup[c]]) for c in s.index ]\n",
    "    tests = [str(test_count[c]) for c in s.index ]\n",
    "    \n",
    "    return pd.DataFrame({'Occupation': s.index.map(truncate(30)), \n",
    "                         'Percentage': s.values, \n",
    "                         'DOT/Test': [f'{d}/{t}' for d,t in zip(dots, tests)],\n",
    "                         'SOC': [str(code_lookup[c]) for c in s.index ]}).reset_index(drop=True)\n",
    "\n",
    "def format_dfs(score, sdf, df, idx, code_lookup, count_lookup, test_count):\n",
    "    low = sdf[idx].sort_values(score).index\n",
    "    df.index = df.columns\n",
    "    x = [(df.columns[i], df.iloc[i,:].sort_values(ascending=False)) \n",
    "         for i in low[0:5]]\n",
    "\n",
    "    if score == 'precision':\n",
    "        x = [(df.columns[i], df.iloc[:,i].sort_values(ascending=False)) \n",
    "             for i in low[0:5]]\n",
    "        # x = [(t, map_series(ser,df)) for t,ser in x]\n",
    "\n",
    "    x = [(t,s[0:5]) for t,s in x]\n",
    "\n",
    "    # x = [(t,s[s.index != t][0:5]) for t,s in x]\n",
    "\n",
    "    # Get score and percentage\n",
    "    x = [(t,get_score(t,sdf,score),get_percentage(score,t,s)) \n",
    "         for t,s in x]\n",
    "\n",
    "    format_title = lambda t: f'{code_lookup[t]} - ({count_lookup[code_lookup[t]]}/{test_count[t]}) - {truncate(50, t)}'    \n",
    "\n",
    "    x = [(format_title(t),score,format_scores(s, code_lookup, count_lookup, test_count)) for t,score,s in x]\n",
    "\n",
    "    return x\n",
    "\n",
    "def get_scores(country):\n",
    "    df = pd.read_csv(f'confusion-matrices/soc-3/sentencespace_100_{country}.csv')\n",
    "    vals = f1(*micro(df)), f1(*macro(df, 'macro')), f1(*macro(df, 'weighted'))\n",
    "    cols = 'micro', 'macro', 'weighted-macro'\n",
    "    return pd.Series((dict(zip(cols, vals))))\n",
    "\n",
    "f1 = lambda p,r: 2*p*r / (p+r)"
   ]
  },
  {
   "cell_type": "code",
   "execution_count": 202,
   "metadata": {
    "autoscroll": false,
    "collapsed": false,
    "ein.hycell": false,
    "ein.tags": "worksheet-0",
    "slideshow": {
     "slide_type": "-"
    }
   },
   "outputs": [],
   "source": [
    "train_data = pd.DataFrame({'X': X_train, 'y': y_train})"
   ]
  },
  {
   "cell_type": "code",
   "execution_count": null,
   "metadata": {
    "autoscroll": false,
    "collapsed": false,
    "ein.hycell": false,
    "ein.tags": "worksheet-0",
    "slideshow": {
     "slide_type": "-"
    }
   },
   "outputs": [],
   "source": [
    "train_data.X[train_data.y == 473]"
   ]
  },
  {
   "cell_type": "code",
   "execution_count": null,
   "metadata": {
    "autoscroll": false,
    "collapsed": false,
    "ein.hycell": false,
    "ein.tags": "worksheet-0",
    "slideshow": {
     "slide_type": "-"
    }
   },
   "outputs": [],
   "source": [
    "test_data.X[test_data.y == 473]"
   ]
  },
  {
   "cell_type": "code",
   "execution_count": 200,
   "metadata": {
    "autoscroll": false,
    "collapsed": false,
    "ein.hycell": false,
    "ein.tags": "worksheet-0",
    "slideshow": {
     "slide_type": "-"
    }
   },
   "outputs": [
    {
     "name": "stdout",
     "output_type": "stream",
     "text": [
      "\\begin{subtable}[t]{\\linewidth}\n",
      "\\begin{tabular*}{\\textwidth}{l @{\\extracolsep{\\fill}} c c c}\n",
      "\\hline\n",
      "          Occupation          & Percentage & DOT/Test & SOC  \\\\\n",
      "\\hline\n",
      "\\hline\n",
      "         Retail Sales Workers &       0.36 & 190/1371 & 412  \\\\\n",
      "Other Sales and Related Work… &       0.10 & 192/2130 & 419  \\\\\n",
      "       Art and Design Workers &       0.08 & 253/1614 & 271  \\\\\n",
      "Entertainers and Performers,… &       0.07 &  362/282 & 272  \\\\\n",
      "Business Operations Speciali… &       0.07 & 746/4363 & 131  \\\\\n",
      "\\hline\n",
      "\\end{tabular*}\n",
      "\\caption{ 411 - (65/2049) - Supervisors of Sales Workers }\n",
      "\\end{subtable}\n",
      "\\vspace{5mm}\n",
      "\n",
      "\n",
      "\\begin{subtable}[t]{\\linewidth}\n",
      "\\begin{tabular*}{\\textwidth}{l @{\\extracolsep{\\fill}} c c c}\n",
      "\\hline\n",
      "          Occupation          & Percentage &  DOT/Test & SOC  \\\\\n",
      "\\hline\n",
      "\\hline\n",
      "  Construction Trades Workers &       0.59 &  815/2525 & 472  \\\\\n",
      "Other Installation, Maintena… &       0.12 &   883/674 & 499  \\\\\n",
      "Vehicle and Mobile Equipment… &       0.08 &  385/1206 & 493  \\\\\n",
      " Helpers, Construction Trades &       0.08 &   132/493 & 473  \\\\\n",
      " Other Production Occupations &       0.06 & 5620/1217 & 519  \\\\\n",
      "\\hline\n",
      "\\end{tabular*}\n",
      "\\caption{ 473 - (132/493) - Helpers, Construction Trades }\n",
      "\\end{subtable}\n",
      "\\vspace{5mm}\n",
      "\n",
      "\n",
      "\\begin{subtable}[t]{\\linewidth}\n",
      "\\begin{tabular*}{\\textwidth}{l @{\\extracolsep{\\fill}} c c c}\n",
      "\\hline\n",
      "          Occupation          & Percentage &  DOT/Test & SOC  \\\\\n",
      "\\hline\n",
      "\\hline\n",
      "Information and Record Clerks &       0.16 &  463/4881 & 434  \\\\\n",
      "Other Office and Administrat… &       0.09 &  351/1371 & 439  \\\\\n",
      "Media and Communication Work… &       0.07 &  218/1423 & 273  \\\\\n",
      "Metal Workers and Plastic Wo… &       0.07 & 1360/1660 & 514  \\\\\n",
      "Other Sales and Related Work… &       0.06 &  192/2130 & 419  \\\\\n",
      "\\hline\n",
      "\\end{tabular*}\n",
      "\\caption{ 439 - (351/1371) - Other Office and Administrative Support Workers }\n",
      "\\end{subtable}\n",
      "\\vspace{5mm}\n",
      "\n",
      "\n",
      "\\begin{subtable}[t]{\\linewidth}\n",
      "\\begin{tabular*}{\\textwidth}{l @{\\extracolsep{\\fill}} c c c}\n",
      "\\hline\n",
      "          Occupation          & Percentage &  DOT/Test & SOC  \\\\\n",
      "\\hline\n",
      "\\hline\n",
      "Other Sales and Related Work… &       0.33 &  192/2130 & 419  \\\\\n",
      "Advertising, Marketing, Prom… &       0.14 &   121/881 & 112  \\\\\n",
      "Sales Representatives, Whole… &       0.13 &   158/831 & 414  \\\\\n",
      "Health Diagnosing and Treati… &       0.07 & 1124/5942 & 291  \\\\\n",
      "      Motor Vehicle Operators &       0.05 &   156/765 & 533  \\\\\n",
      "\\hline\n",
      "\\end{tabular*}\n",
      "\\caption{ 414 - (158/831) - Sales Representatives, Wholesale and Manufacturing }\n",
      "\\end{subtable}\n",
      "\\vspace{5mm}\n",
      "\n",
      "\n",
      "\\begin{subtable}[t]{\\linewidth}\n",
      "\\begin{tabular*}{\\textwidth}{l @{\\extracolsep{\\fill}} c c c}\n",
      "\\hline\n",
      "          Occupation          & Percentage & DOT/Test & SOC  \\\\\n",
      "\\hline\n",
      "\\hline\n",
      "        Financial Specialists &       0.27 & 389/5006 & 132  \\\\\n",
      "Operations Specialties Manag… &       0.15 & 488/1554 & 113  \\\\\n",
      "                    Engineers &       0.09 & 922/1260 & 172  \\\\\n",
      "Business Operations Speciali… &       0.09 & 746/4363 & 131  \\\\\n",
      " Other Management Occupations &       0.05 & 942/4182 & 119  \\\\\n",
      "\\hline\n",
      "\\end{tabular*}\n",
      "\\caption{ 113 - (488/1554) - Operations Specialties Managers }\n",
      "\\end{subtable}\n",
      "\\vspace{5mm}\n",
      "\n",
      "\n"
     ]
    }
   ],
   "source": [
    "print_tables(format_dfs('recall', sdf, df, idx, code_lookup, count_lookup, test_count), 'recall')        "
   ]
  },
  {
   "cell_type": "code",
   "execution_count": 199,
   "metadata": {
    "autoscroll": false,
    "collapsed": false,
    "ein.hycell": false,
    "ein.tags": "worksheet-0",
    "slideshow": {
     "slide_type": "-"
    }
   },
   "outputs": [
    {
     "name": "stdout",
     "output_type": "stream",
     "text": [
      "\\begin{subtable}[t]{\\linewidth}\n",
      "\\begin{tabular*}{\\textwidth}{l @{\\extracolsep{\\fill}} c c c}\n",
      "\\hline\n",
      "          Occupation          & Percentage & DOT/Test & SOC  \\\\\n",
      "\\hline\n",
      "\\hline\n",
      "  Construction Trades Workers &       0.23 & 815/2525 & 472  \\\\\n",
      "Other Installation, Maintena… &       0.18 &  883/674 & 499  \\\\\n",
      "  Grounds Maintenance Workers &       0.08 &  91/1016 & 373  \\\\\n",
      "Electrical and Electronic Eq… &       0.06 &  339/336 & 492  \\\\\n",
      "Material Recording, Scheduli… &       0.05 & 471/2915 & 435  \\\\\n",
      "\\hline\n",
      "\\end{tabular*}\n",
      "\\caption{ 499 - (883/674) - Other Installation, Maintenance, and Repair Occu… }\n",
      "\\end{subtable}\n",
      "\\vspace{5mm}\n",
      "\n",
      "\n",
      "\\begin{subtable}[t]{\\linewidth}\n",
      "\\begin{tabular*}{\\textwidth}{l @{\\extracolsep{\\fill}} c c c}\n",
      "\\hline\n",
      "          Occupation          & Percentage & DOT/Test & SOC  \\\\\n",
      "\\hline\n",
      "\\hline\n",
      "Other Food Preparation and S… &       0.54 &  70/3031 & 359  \\\\\n",
      "Food and Beverage Serving Wo… &       0.20 &  138/767 & 353  \\\\\n",
      "         Retail Sales Workers &       0.06 & 190/1371 & 412  \\\\\n",
      " Other Management Occupations &       0.03 & 942/4182 & 119  \\\\\n",
      "Supervisors of Food Preparat… &       0.02 &   70/483 & 351  \\\\\n",
      "\\hline\n",
      "\\end{tabular*}\n",
      "\\caption{ 353 - (138/767) - Food and Beverage Serving Workers }\n",
      "\\end{subtable}\n",
      "\\vspace{5mm}\n",
      "\n",
      "\n",
      "\\begin{subtable}[t]{\\linewidth}\n",
      "\\begin{tabular*}{\\textwidth}{l @{\\extracolsep{\\fill}} c c c}\n",
      "\\hline\n",
      "          Occupation          & Percentage & DOT/Test & SOC  \\\\\n",
      "\\hline\n",
      "\\hline\n",
      "Business Operations Speciali… &       0.54 & 746/4363 & 131  \\\\\n",
      "Operations Specialties Manag… &       0.22 & 488/1554 & 113  \\\\\n",
      " Other Management Occupations &       0.06 & 942/4182 & 119  \\\\\n",
      "        Financial Specialists &       0.05 & 389/5006 & 132  \\\\\n",
      "Information and Record Clerks &       0.02 & 463/4881 & 434  \\\\\n",
      "\\hline\n",
      "\\end{tabular*}\n",
      "\\caption{ 113 - (488/1554) - Operations Specialties Managers }\n",
      "\\end{subtable}\n",
      "\\vspace{5mm}\n",
      "\n",
      "\n",
      "\\begin{subtable}[t]{\\linewidth}\n",
      "\\begin{tabular*}{\\textwidth}{l @{\\extracolsep{\\fill}} c c c}\n",
      "\\hline\n",
      "          Occupation          & Percentage & DOT/Test & SOC  \\\\\n",
      "\\hline\n",
      "\\hline\n",
      "Other Sales and Related Work… &       0.27 & 192/2130 & 419  \\\\\n",
      " Other Management Occupations &       0.17 & 942/4182 & 119  \\\\\n",
      "        Financial Specialists &       0.09 & 389/5006 & 132  \\\\\n",
      "         Retail Sales Workers &       0.07 & 190/1371 & 412  \\\\\n",
      "Sales Representatives, Whole… &       0.07 &  158/831 & 414  \\\\\n",
      "\\hline\n",
      "\\end{tabular*}\n",
      "\\caption{ 419 - (192/2130) - Other Sales and Related Workers }\n",
      "\\end{subtable}\n",
      "\\vspace{5mm}\n",
      "\n",
      "\n",
      "\\begin{subtable}[t]{\\linewidth}\n",
      "\\begin{tabular*}{\\textwidth}{l @{\\extracolsep{\\fill}} c c c}\n",
      "\\hline\n",
      "          Occupation          & Percentage & DOT/Test & SOC  \\\\\n",
      "\\hline\n",
      "\\hline\n",
      " Supervisors of Sales Workers &       0.49 &  65/2049 & 411  \\\\\n",
      "         Retail Sales Workers &       0.28 & 190/1371 & 412  \\\\\n",
      "Material Recording, Scheduli… &       0.07 & 471/2915 & 435  \\\\\n",
      "      Material Moving Workers &       0.04 & 848/1726 & 537  \\\\\n",
      "Sales Representatives, Whole… &       0.02 &  158/831 & 414  \\\\\n",
      "\\hline\n",
      "\\end{tabular*}\n",
      "\\caption{ 412 - (190/1371) - Retail Sales Workers }\n",
      "\\end{subtable}\n",
      "\\vspace{5mm}\n",
      "\n",
      "\n"
     ]
    }
   ],
   "source": [
    "print_tables(format_dfs('precision', sdf, df, idx, code_lookup, count_lookup, test_count), 'precision')"
   ]
  },
  {
   "cell_type": "code",
   "execution_count": 131,
   "metadata": {
    "autoscroll": false,
    "collapsed": false,
    "ein.hycell": false,
    "ein.tags": "worksheet-0",
    "slideshow": {
     "slide_type": "-"
    }
   },
   "outputs": [],
   "source": [
    "SOC_LEVEL=3\n",
    "\n",
    "code_lookup = make_code_lookup(SOC_LEVEL)\n",
    "\n",
    "df.index = df.columns\n",
    "test_count = df.sum(1)"
   ]
  },
  {
   "cell_type": "code",
   "execution_count": 191,
   "metadata": {
    "autoscroll": false,
    "collapsed": false,
    "ein.hycell": false,
    "ein.tags": "worksheet-0",
    "slideshow": {
     "slide_type": "-"
    }
   },
   "outputs": [],
   "source": [
    "df = pd.read_csv('confusion-matrices/soc-3/sentencespace_100_us-lr.csv')\n",
    "# df.index = df.columns\n",
    "idx = df.sum(1) > 100\n",
    "\n",
    "scores = [counts(df.values, i) for i,_ in enumerate(df.values)]\n",
    "sdf = pd.DataFrame({'precision': [prec(tp,fp) for tp,fp,fn in scores], 'recall': [recall(tp,fn) for tp,fp,fn in scores]})\n",
    "\n",
    "get_idx = lambda t: np.argwhere(t == df.columns)[0][0]\n",
    "get_trues = lambda i: df.iloc[i,:].sum()\n",
    "get_classified = lambda i: df.iloc[:,i].sum()"
   ]
  },
  {
   "cell_type": "code",
   "execution_count": null,
   "metadata": {
    "autoscroll": false,
    "collapsed": false,
    "ein.hycell": false,
    "ein.tags": "worksheet-0",
    "slideshow": {
     "slide_type": "-"
    }
   },
   "outputs": [],
   "source": [
    "countries = ['us', 'india', 'uk']\n",
    "pd.DataFrame([get_scores(country) for country in countries], index=countries).to_csv('confusion-matrices/soc-3/scores.csv', index_label='country')"
   ]
  },
  {
   "cell_type": "code",
   "execution_count": null,
   "metadata": {
    "autoscroll": false,
    "collapsed": false,
    "ein.hycell": false,
    "ein.tags": "worksheet-0",
    "slideshow": {
     "slide_type": "-"
    }
   },
   "outputs": [],
   "source": [
    "df = pd.read_csv('confusion-matrices/soc-3/sentencespace_100_uk.csv')\n",
    "f1(*micro(df)), f1(*macro(df, 'macro')), f1(*macro(df, 'weighted'))"
   ]
  },
  {
   "cell_type": "code",
   "execution_count": 170,
   "metadata": {
    "autoscroll": false,
    "collapsed": false,
    "ein.hycell": false,
    "ein.tags": "worksheet-0",
    "slideshow": {
     "slide_type": "-"
    }
   },
   "outputs": [
    {
     "data": {
      "text/plain": [
       "(0.4880787295906956, 0.36041481773025075, 0.5159941375489523)"
      ]
     },
     "execution_count": 170,
     "metadata": {},
     "output_type": "execute_result"
    }
   ],
   "source": [
    "df = pd.read_csv('confusion-matrices/soc-3/sentencespace_100_us-lr.csv')\n",
    "f1(*micro(df)), f1(*macro(df, 'macro')), f1(*macro(df, 'weighted'))"
   ]
  },
  {
   "cell_type": "code",
   "execution_count": null,
   "metadata": {
    "autoscroll": false,
    "collapsed": false,
    "ein.hycell": false,
    "ein.tags": "worksheet-0",
    "slideshow": {
     "slide_type": "-"
    }
   },
   "outputs": [],
   "source": [
    "print_tables(format_dfs('recall', sdf, df, idx), 'recall')        "
   ]
  },
  {
   "cell_type": "code",
   "execution_count": null,
   "metadata": {
    "autoscroll": false,
    "collapsed": false,
    "ein.hycell": false,
    "ein.tags": "worksheet-0",
    "slideshow": {
     "slide_type": "-"
    }
   },
   "outputs": [],
   "source": [
    "print_tables(format_dfs('precision', sdf, df, idx), 'precision')"
   ]
  },
  {
   "cell_type": "code",
   "execution_count": 104,
   "metadata": {
    "autoscroll": false,
    "collapsed": false,
    "ein.hycell": false,
    "ein.tags": "worksheet-0",
    "slideshow": {
     "slide_type": "-"
    }
   },
   "outputs": [],
   "source": [
    "from validation.data import indeed_test_data, dot_train_data, get_soc_n\n",
    "\n",
    "X_train, y_train = dot_train_data(SOC_LEVEL, include_tasks=True)"
   ]
  },
  {
   "cell_type": "code",
   "execution_count": 206,
   "metadata": {
    "autoscroll": false,
    "collapsed": false,
    "ein.hycell": false,
    "ein.tags": "worksheet-0",
    "slideshow": {
     "slide_type": "-"
    }
   },
   "outputs": [],
   "source": [
    "X_test, y_test, ids = indeed_test_data('../data/us/everything.csv', 100000, 3)"
   ]
  },
  {
   "cell_type": "code",
   "execution_count": 207,
   "metadata": {
    "autoscroll": false,
    "collapsed": false,
    "ein.hycell": false,
    "ein.tags": "worksheet-0",
    "slideshow": {
     "slide_type": "-"
    }
   },
   "outputs": [],
   "source": [
    "test_data = pd.DataFrame({'X': X_test, 'y': y_test})"
   ]
  },
  {
   "cell_type": "code",
   "execution_count": 109,
   "metadata": {
    "autoscroll": false,
    "collapsed": false,
    "ein.hycell": false,
    "ein.tags": "worksheet-0",
    "slideshow": {
     "slide_type": "-"
    }
   },
   "outputs": [],
   "source": [
    "count_lookup = y_train.value_counts().to_dict()"
   ]
  }
 ],
 "metadata": {
  "kernelspec": {
   "display_name": "Python 3",
   "name": "python3"
  },
  "language_info": {
   "codemirror_mode": {
    "name": "ipython",
    "version": 3
   },
   "file_extension": ".py",
   "mimetype": "text/x-python",
   "name": "python",
   "nbconvert_exporter": "python",
   "pygments_lexer": "ipython3",
   "version": "3.6.3"
  },
  "name": "classification-problems.ipynb"
 },
 "nbformat": 4,
 "nbformat_minor": 2
}
