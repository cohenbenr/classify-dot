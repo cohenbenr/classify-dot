{
 "cells": [
  {
   "cell_type": "code",
   "execution_count": null,
   "metadata": {
    "autoscroll": false,
    "collapsed": false,
    "ein.hycell": false,
    "ein.tags": "worksheet-0",
    "slideshow": {
     "slide_type": "-"
    }
   },
   "outputs": [],
   "source": [
    "! pip install --quiet s3fs\n",
    "! pip install --quiet plyvel\n",
    "! pip install -e 'git://github.com/nandanrao/embed-software.git#egg=embed_software'"
   ]
  },
  {
   "cell_type": "code",
   "execution_count": 2,
   "metadata": {
    "autoscroll": false,
    "collapsed": false,
    "ein.hycell": false,
    "ein.tags": "worksheet-0",
    "slideshow": {
     "slide_type": "-"
    }
   },
   "outputs": [],
   "source": [
    "import plyvel\n",
    "from os.path import join\n",
    "import json, time\n",
    "from time import sleep\n",
    "from urllib.parse import urlparse, urlunparse, parse_qs, urlencode\n",
    "from multiprocessing import Pool, Queue, Process, Manager\n",
    "from itertools import takewhile, islice, count\n",
    "\n",
    "import logging\n",
    "logger = logging.getLogger()\n",
    "logger.setLevel(logging.INFO)\n",
    "\n",
    "def chunk(n, it):\n",
    "    src = iter(it)\n",
    "    return takewhile(bool, (list(islice(src, n)) for _ in count(0)))\n",
    "\n",
    "def remove_qs(url):\n",
    "    \"\"\" Removes query string except for key jk \"\"\"\n",
    "    u = urlparse(url)\n",
    "    qs = parse_qs(u.query)\n",
    "    jk = qs.get('jk')\n",
    "    if jk:\n",
    "        qs = urlencode({'jk': jk}, True)\n",
    "    else:\n",
    "        qs = None        \n",
    "    return urlunparse(u._replace(query = qs))\n",
    "\n",
    "class ParallelProcessor():\n",
    "    def __init__(self, inpath, fs, outpath, string_processor, threads, **kwargs):\n",
    "        self.inpath = inpath\n",
    "        self.outpath = outpath\n",
    "        self.threads = threads\n",
    "        self.fs = fs\n",
    "        self.kwargs = kwargs\n",
    "        self.string_processor = string_processor\n",
    "        self.processed = 0\n",
    "\n",
    "    def _init_db(self, fi):\n",
    "        self.db = plyvel.DB(fi, \n",
    "                            create_if_missing=True,\n",
    "                            block_size=8388608,\n",
    "                            write_buffer_size=1073741824) \n",
    "        \n",
    "    def _insert_rows(self, li):        \n",
    "        with self.db.write_batch() as wb:\n",
    "            for k,v in li:\n",
    "                wb.put(k, v)\n",
    "            \n",
    "    def _process(self, d, keys):\n",
    "        d['category'], d['section'] = d['categories']\n",
    "        d['content'] = self.string_processor(d['description'])\n",
    "        d['url'] = remove_qs(d['url'])\n",
    "        d = [d[k] for k in keys] if d['content'] else None        \n",
    "        return d\n",
    "\n",
    "    def _make_entry(self, d):\n",
    "        return d[0].encode('utf8'), json.dumps(d).encode('utf8')\n",
    "        \n",
    "    def _get_files(self):\n",
    "        files = self.fs.walk(self.inpath)\n",
    "        # filter files\n",
    "        return files\n",
    "    \n",
    "    def process(self, filename):\n",
    "        with self.fs.open(filename) as f:\n",
    "            for c in chunk(1000, f):\n",
    "                rows = [self._process(json.loads(l), **self.kwargs) for l in c]\n",
    "                rows = [self._make_entry(d) for d in rows if d]\n",
    "                self.q.put(rows)\n",
    "\n",
    "    def write(self):\n",
    "        self._init_db(self.outpath)\n",
    "        i = 0\n",
    "        start = time.clock()\n",
    "        printed = 0\n",
    "        while True:\n",
    "            rows = self.q.get()\n",
    "            if rows is None:\n",
    "                break\n",
    "            self._insert_rows(rows)\n",
    "\n",
    "            i += len(rows)\n",
    "            if i - printed > 50000:\n",
    "                new_start = time.clock()\n",
    "                print(f'Processed {i - printed} in {new_start - start} seconds')\n",
    "                printed = i\n",
    "                start = new_start\n",
    "            \n",
    "        self.db.close()\n",
    "        \n",
    "    def process_all(self, files=None):\n",
    "        if files is None:\n",
    "            files = self._get_files()\n",
    "\n",
    "        m = Manager()\n",
    "        self.q = m.Queue()\n",
    "        p = Process(target = self.write)\n",
    "        p.start()\n",
    "\n",
    "        with Pool(self.threads) as pool:\n",
    "            pool.map(self.process, files)\n",
    "        \n",
    "        print('done processing')\n",
    "        self.q.put(None)\n",
    "        p.join()"
   ]
  },
  {
   "cell_type": "code",
   "execution_count": 3,
   "metadata": {
    "autoscroll": false,
    "collapsed": false,
    "ein.hycell": false,
    "ein.tags": "worksheet-0",
    "slideshow": {
     "slide_type": "-"
    }
   },
   "outputs": [],
   "source": [
    "from embed_software.preprocess import claims_processor, readme_processor, Preprocessor\n",
    "import s3fs\n",
    "\n",
    "def preprocess_country(inpath, dbfile, keys, threads):\n",
    "    fs = s3fs.S3FileSystem()\n",
    "    string_processor = Preprocessor(readme_processor, 4).process\n",
    "    p = ParallelProcessor(inpath, fs, dbfile, string_processor, threads=threads, keys=keys)\n",
    "    p.process_all()"
   ]
  },
  {
   "cell_type": "code",
   "execution_count": 4,
   "metadata": {
    "autoscroll": false,
    "collapsed": false,
    "ein.hycell": false,
    "ein.tags": "worksheet-0",
    "slideshow": {
     "slide_type": "-"
    }
   },
   "outputs": [],
   "source": [
    "import plyvel\n",
    "import re\n",
    "from re import sub\n",
    "import json\n",
    "\n",
    "prep_labels = lambda s: sub('[^\\w]', '_', s).lower()          \n",
    "\n",
    "def extract_content(db, outfile, keys, labels=False):\n",
    "    db = plyvel.DB(db)\n",
    "\n",
    "    with open(outfile, 'w') as f:\n",
    "        for url,v in db:\n",
    "            row = dict(zip(keys, json.loads(v)))\n",
    "            if labels:\n",
    "                content = row['content']\n",
    "                content = sub('\\t', ' ', content)\n",
    "                cat, sect = row['category'], row['section'] \n",
    "                cat, sect = map(prep_labels, [cat, sect])\n",
    "                line = f'{content} __label__{cat} __label__{sect}'\n",
    "            else:\n",
    "                line = row[\"content\"]\n",
    "            f.write(f'{line}\\n')\n",
    "\n",
    "    print(f'Finished writing to {outfile}')\n",
    "    db.close()"
   ]
  },
  {
   "cell_type": "code",
   "execution_count": 6,
   "metadata": {
    "autoscroll": false,
    "collapsed": false,
    "ein.hycell": false,
    "ein.tags": "worksheet-0",
    "slideshow": {
     "slide_type": "-"
    }
   },
   "outputs": [],
   "source": [
    "keys = ['url', 'title', 'content', 'category', 'section', 'scrapeTimestamp']"
   ]
  },
  {
   "cell_type": "code",
   "execution_count": null,
   "metadata": {
    "autoscroll": false,
    "collapsed": false,
    "ein.hycell": false,
    "ein.tags": "worksheet-0",
    "slideshow": {
     "slide_type": "-"
    }
   },
   "outputs": [],
   "source": [
    "preprocess_country(f'oecd-scraping/indeed-uk', f'db/uk', keys, 14)"
   ]
  },
  {
   "cell_type": "code",
   "execution_count": null,
   "metadata": {
    "autoscroll": false,
    "collapsed": false,
    "ein.hycell": false,
    "ein.tags": "worksheet-0",
    "slideshow": {
     "slide_type": "-"
    }
   },
   "outputs": [],
   "source": [
    "COUNTRY='uk'\n",
    "extract_content(f'db/{COUNTRY}', f'data/{COUNTRY}/content.txt', keys)\n",
    "extract_content(f'db/{COUNTRY}', f'data/{COUNTRY}/content-labelled.txt', keys, labels=True)"
   ]
  },
  {
   "cell_type": "code",
   "execution_count": null,
   "metadata": {
    "autoscroll": false,
    "collapsed": false,
    "ein.hycell": false,
    "ein.tags": "worksheet-0",
    "slideshow": {
     "slide_type": "-"
    }
   },
   "outputs": [],
   "source": [
    "for COUNTRY in ['uk', 'us', 'india']:\n",
    "    preprocess_country(f'oecd-scraping/indeed-{COUNTRY}', f'db/{COUNTRY}', keys, 14)\n",
    "    extract_content(f'db/{COUNTRY}', f'data/{COUNTRY}/content.txt', keys)\n",
    "    extract_content(f'db/{COUNTRY}', f'data/{COUNTRY}/content-labelled.txt', keys, labels=True)"
   ]
  }
 ],
 "metadata": {
  "kernelspec": {
   "display_name": "Python 3",
   "name": "python3"
  },
  "language_info": {
   "codemirror_mode": {
    "name": "ipython",
    "version": 3
   },
   "file_extension": ".py",
   "mimetype": "text/x-python",
   "name": "python",
   "nbconvert_exporter": "python",
   "pygments_lexer": "ipython3",
   "version": "3.6.3"
  },
  "name": "preprocess.ipynb"
 },
 "nbformat": 4,
 "nbformat_minor": 2
}
