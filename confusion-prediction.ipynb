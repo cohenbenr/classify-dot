{
 "cells": [
  {
   "cell_type": "markdown",
   "metadata": {
    "ein.tags": "worksheet-0",
    "slideshow": {
     "slide_type": "-"
    }
   },
   "source": [
    "# Confusion Matrices"
   ]
  },
  {
   "cell_type": "code",
   "execution_count": 29,
   "metadata": {
    "autoscroll": false,
    "collapsed": false,
    "ein.hycell": false,
    "ein.tags": "worksheet-0",
    "slideshow": {
     "slide_type": "-"
    }
   },
   "outputs": [],
   "source": [
    "import numpy as np\n",
    "import pandas as pd\n",
    "\n",
    "from sklearn.metrics import classification_report, confusion_matrix\n",
    "from validation.dot_data import get_dictionary\n",
    "from validation.data import indeed_test_data, dot_train_data\n",
    "\n",
    "def print_confusion_matrices(model_names, preds, y_test, SOC_LEVEL):\n",
    "    dot_dict = get_dictionary('', SOC_LEVEL)\n",
    "    un = dot_dict.groupby('soc').apply(lambda df: df.head(1))\n",
    "    category_names = un['desc_soc{}'.format(SOC_LEVEL)]\n",
    "    for name,p in zip(model_names, preds):\n",
    "        df = pd.DataFrame(confusion_matrix(y_test, p, un.soc), \n",
    "                          index=category_names, \n",
    "                          columns=category_names)\n",
    "        filename = 'confusion-matrices/soc-{}/{}.csv'.format(SOC_LEVEL, name)\n",
    "        df.to_csv(filename, index=False)"
   ]
  },
  {
   "cell_type": "code",
   "execution_count": 26,
   "metadata": {
    "autoscroll": false,
    "collapsed": false,
    "ein.hycell": false,
    "ein.tags": "worksheet-0",
    "slideshow": {
     "slide_type": "-"
    }
   },
   "outputs": [],
   "source": [
    "for country in ['uk', 'us', 'india']:\n",
    "    SOC_LEVEL=3\n",
    "    preds = np.load(f'ss_models/sentencespace_100_{country}/predictions-63.npy').astype(int)\n",
    "    model = f'sentencespace_100_{country}'\n",
    "    _,y_test,_ = indeed_test_data(f'data/{country}/everything.csv', 500000, SOC_LEVEL)\n",
    "    print_confusion_matrices([model], [preds], y_test, SOC_LEVEL)"
   ]
  },
  {
   "cell_type": "markdown",
   "metadata": {
    "ein.tags": "worksheet-0",
    "slideshow": {
     "slide_type": "-"
    }
   },
   "source": [
    "# Make Predictions"
   ]
  },
  {
   "cell_type": "code",
   "execution_count": null,
   "metadata": {
    "autoscroll": false,
    "collapsed": false,
    "ein.hycell": false,
    "ein.tags": "worksheet-0",
    "slideshow": {
     "slide_type": "-"
    }
   },
   "outputs": [],
   "source": [
    "def make_predictions_df(df, preds):\n",
    "    key = 'predicted_soc{}'.format(SOC_LEVEL)\n",
    "    desc = 'desc_soc{}'.format(SOC_LEVEL)\n",
    "    dot_dict = get_dictionary('', SOC_LEVEL)\n",
    "    dd = dot_dict.groupby('soc').first()[desc].reset_index()\n",
    "    found = (pd.DataFrame({key: preds})\n",
    "             .merge(dd, how='left', left_on=key, right_on='soc')\n",
    "             .drop('soc', 1))\n",
    "    return (pd.concat([df, found], 1)\n",
    "            .rename(columns = {'content': 'description'}))\n",
    "\n",
    "def print_predictions(model, df, outpath, SOC_LEVEL, model_name):\n",
    "    X_train, y_train = dot_train_data(SOC_LEVEL)    \n",
    "    all_preds = model.fit(X_train, y_train).predict(df.content)\n",
    "    filename = f'{outpath}/{model_name}-soc{SOC_LEVEL}-predictions.csv'\n",
    "    make_predictions_df(df, all_preds).to_csv(filename, index=False)    \n",
    "\n",
    "def make_and_print_preds(country, model_name):\n",
    "    df = pd.read_csv(f'data/{country}/everything.csv')\n",
    "    model = Pipeline([(model_name, PreEmbeddedVectorizer(f'./ss_models/{model_name}/embeds.txt', \n",
    "                                                         f'./ss_models/{model_name}/model', \n",
    "                                                         df.shape[0], \n",
    "                                                         100)),\n",
    "                    ('lr', LogisticRegression(C=5., solver='newton-cg', multi_class=\"multinomial\", n_jobs=-1))])\n",
    "\n",
    "    print_predictions(model, df, 'predictions', 3, model_name)"
   ]
  },
  {
   "cell_type": "code",
   "execution_count": null,
   "metadata": {
    "autoscroll": false,
    "collapsed": false,
    "ein.hycell": false,
    "ein.tags": "worksheet-0",
    "slideshow": {
     "slide_type": "-"
    }
   },
   "outputs": [],
   "source": [
    "SOC_LEVEL = 6\n",
    "\n",
    "for country in ['us', 'uk', 'india']:\n",
    "    make_and_print_preds(country, f'sentencespace_100_{country}')"
   ]
  }
 ],
 "metadata": {
  "kernelspec": {
   "display_name": "Python 3",
   "name": "python3"
  },
  "name": "Untitled.ipynb"
 },
 "nbformat": 4,
 "nbformat_minor": 2
}
