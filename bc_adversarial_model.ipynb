{
 "cells": [
  {
   "cell_type": "code",
   "execution_count": 1,
   "metadata": {},
   "outputs": [],
   "source": [
    "# ! pip install -e 'git://github.com/nandanrao/embed-software.git#egg=embed_software'"
   ]
  },
  {
   "cell_type": "code",
   "execution_count": 2,
   "metadata": {},
   "outputs": [],
   "source": [
    "# ! pip install --quiet fuzzywuzzy gcsfs"
   ]
  },
  {
   "cell_type": "code",
   "execution_count": 3,
   "metadata": {},
   "outputs": [
    {
     "name": "stderr",
     "output_type": "stream",
     "text": [
      "/opt/conda/lib/python3.6/site-packages/fuzzywuzzy/fuzz.py:11: UserWarning: Using slow pure-python SequenceMatcher. Install python-Levenshtein to remove this warning\n",
      "  warnings.warn('Using slow pure-python SequenceMatcher. Install python-Levenshtein to remove this warning')\n"
     ]
    }
   ],
   "source": [
    "import time\n",
    "import sys\n",
    "import logging\n",
    "import math\n",
    "import random\n",
    "import json\n",
    "import pickle\n",
    "from collections import Counter\n",
    "\n",
    "import numpy as np\n",
    "import pandas as pd\n",
    "\n",
    "from gcsfs import GCSFileSystem\n",
    "\n",
    "import torch\n",
    "import torch.nn as nn\n",
    "import torch.nn.functional as F\n",
    "from torch import optim\n",
    "#import torchtext\n",
    "\n",
    "from validation.data import *"
   ]
  },
  {
   "cell_type": "code",
   "execution_count": 4,
   "metadata": {},
   "outputs": [],
   "source": [
    "# from src.model import StarSpace"
   ]
  },
  {
   "cell_type": "code",
   "execution_count": 5,
   "metadata": {},
   "outputs": [],
   "source": [
    "# torch.autograd.set_detect_anomaly(True)"
   ]
  },
  {
   "cell_type": "code",
   "execution_count": 6,
   "metadata": {},
   "outputs": [],
   "source": [
    "from src.adv_model import *"
   ]
  },
  {
   "cell_type": "code",
   "execution_count": 7,
   "metadata": {},
   "outputs": [],
   "source": [
    "def nan_test(l_batch, r_batch, neg_batch):\n",
    "    global nan_break\n",
    "    \n",
    "    l_test = np.isnan(np.mean(l_batch.detach().cpu().numpy()))\n",
    "    r_test = np.isnan(np.mean(r_batch.detach().cpu().numpy()))\n",
    "    neg_test = np.isnan(np.mean(neg_batch.detach().cpu().numpy()))\n",
    "    if l_test or r_test or neg_test:\n",
    "        nan_break = True\n",
    "        return True"
   ]
  },
  {
   "cell_type": "code",
   "execution_count": 8,
   "metadata": {},
   "outputs": [],
   "source": [
    "SAMPLE_SIZE = 100000\n",
    "SOC_LEVEL = 3\n",
    "OUTPUT_WEIGHTS = 'data/adversarial/'"
   ]
  },
  {
   "cell_type": "code",
   "execution_count": 9,
   "metadata": {},
   "outputs": [
    {
     "name": "stdout",
     "output_type": "stream",
     "text": [
      "Using device cuda\n"
     ]
    }
   ],
   "source": [
    "if torch.cuda.is_available():\n",
    "    device = 'cuda'\n",
    "else:\n",
    "    device = 'cpu'\n",
    "\n",
    "print(\"Using device\", device)"
   ]
  },
  {
   "cell_type": "code",
   "execution_count": 10,
   "metadata": {},
   "outputs": [],
   "source": [
    "log = logging.getLogger(__name__)\n",
    "log.setLevel(logging.DEBUG)\n",
    "formatter = logging.Formatter(fmt=\"%(asctime)s %(levelname)s: %(message)s\", \n",
    "                          datefmt=\"%Y-%m-%d - %H:%M:%S\")\n",
    "fh = logging.FileHandler(\"adversarial_model.log\", \"w\")\n",
    "fh.setLevel(logging.DEBUG)\n",
    "fh.setFormatter(formatter)\n",
    "log.addHandler(fh)"
   ]
  },
  {
   "cell_type": "code",
   "execution_count": 11,
   "metadata": {},
   "outputs": [],
   "source": [
    "log.info('Pulling Indeed data for sample size %s' % SAMPLE_SIZE)"
   ]
  },
  {
   "cell_type": "code",
   "execution_count": 12,
   "metadata": {},
   "outputs": [],
   "source": [
    "# Get job ads data\n",
    "indeed = get_indeed_texts('../data/us/everything.csv',use_gcs=True,nrows=SAMPLE_SIZE)\n",
    "indeed = indeed['content']"
   ]
  },
  {
   "cell_type": "code",
   "execution_count": 13,
   "metadata": {},
   "outputs": [],
   "source": [
    "train = indeed.copy()\n",
    "del indeed"
   ]
  },
  {
   "cell_type": "code",
   "execution_count": 14,
   "metadata": {},
   "outputs": [],
   "source": [
    "# Get DOT classifications data\n",
    "dot, dot_labs = dot_train_data(SOC_LEVEL)\n",
    "\n",
    "dot = dot.reset_index(drop=True)\n",
    "dot_labs = dot_labs.reset_index(drop=True)"
   ]
  },
  {
   "cell_type": "code",
   "execution_count": 15,
   "metadata": {},
   "outputs": [],
   "source": [
    "log.info('About to train vocab')"
   ]
  },
  {
   "cell_type": "code",
   "execution_count": 16,
   "metadata": {},
   "outputs": [
    {
     "name": "stdout",
     "output_type": "stream",
     "text": [
      "35200\n"
     ]
    }
   ],
   "source": [
    "embedder = Embedder(d_embed=100)\n",
    "embedder.train_vocab(train)\n",
    "\n",
    "print(len(embedder.vocab))\n",
    "log.info('Trained Vocab of size %s' % str(len(embedder.vocab)))"
   ]
  },
  {
   "cell_type": "code",
   "execution_count": 17,
   "metadata": {},
   "outputs": [],
   "source": [
    "# #Save the file\n",
    "with open(OUTPUT_WEIGHTS + 'train_vocab_%s' % SAMPLE_SIZE, 'wb') as f:\n",
    "    pickle.dump(embedder.vocab, f)"
   ]
  },
  {
   "cell_type": "code",
   "execution_count": 18,
   "metadata": {},
   "outputs": [],
   "source": [
    "train_pos = embedder.get_positions(train)\n",
    "dot_positions = embedder.get_positions(dot)\n",
    "\n",
    "for i in range(len(train_pos)):\n",
    "    for j in range(len(train_pos[i])):\n",
    "        train_pos[i][j] = train_pos[i][j].to(device)\n",
    "\n",
    "for i in range(len(dot_positions)):\n",
    "    for j in range(len(dot_positions[i])):\n",
    "        dot_positions[i][j] = dot_positions[i][j].to(device)"
   ]
  },
  {
   "cell_type": "code",
   "execution_count": 19,
   "metadata": {},
   "outputs": [
    {
     "data": {
      "text/plain": [
       "StarSpaceAdv()"
      ]
     },
     "execution_count": 19,
     "metadata": {},
     "output_type": "execute_result"
    }
   ],
   "source": [
    "starspace = StarSpaceAdv(\n",
    "    input_embedder = embedder,\n",
    "    k_neg = 10)\n",
    "\n",
    "starspace.to(device)"
   ]
  },
  {
   "cell_type": "code",
   "execution_count": 20,
   "metadata": {},
   "outputs": [],
   "source": [
    "discriminator = Discriminator(\n",
    "    classifier = LogisticRegression(100,2),\n",
    "    embedder = embedder,\n",
    "    lr = .1)\n",
    "\n",
    "criterion = nn.CrossEntropyLoss()"
   ]
  },
  {
   "cell_type": "code",
   "execution_count": 21,
   "metadata": {},
   "outputs": [],
   "source": [
    "#Run parameters\n",
    "epochs = 3\n",
    "print_every = 100\n",
    "log_every = 10\n",
    "batch_size = 100\n",
    "\n",
    "#Losses\n",
    "star_losses = []\n",
    "disc_losses1 = []\n",
    "disc_losses2 = []\n",
    "epoch_losses = [1e12]\n",
    "log.info('Beginning run')"
   ]
  },
  {
   "cell_type": "code",
   "execution_count": 22,
   "metadata": {},
   "outputs": [],
   "source": [
    "# idx = np.random.choice(dot_positions.shape[0], 100, False)\n",
    "# disc_dot = dot_positions[idx]\n",
    "\n",
    "# for i, doc in enumerate(disc_dot[:5]):\n",
    "#     print(i)\n",
    "#     print(doc)\n",
    "\n",
    "# torch.cat(disc_dot[4])\n",
    "\n",
    "# dot_emb = [self.embedder.embed_doc(torch.cat(doc.tolist()[0])) for doc in disc_dot]"
   ]
  },
  {
   "cell_type": "code",
   "execution_count": null,
   "metadata": {},
   "outputs": [],
   "source": []
  },
  {
   "cell_type": "code",
   "execution_count": 23,
   "metadata": {
    "scrolled": true
   },
   "outputs": [
    {
     "name": "stdout",
     "output_type": "stream",
     "text": [
      "star avg loss: 9097871.0\n",
      "discriminator CEL: 6.445733\n",
      "discriminator accuracy: 79.05\n",
      "star avg loss: 7657280.0\n",
      "discriminator CEL: 5.848979\n",
      "discriminator accuracy: 74.5\n",
      "star avg loss: 7123151.0\n",
      "discriminator CEL: 5.386095\n",
      "discriminator accuracy: 71.15\n",
      "star avg loss: 6056751.5\n",
      "discriminator CEL: 6.2401342\n",
      "discriminator accuracy: 72.0\n",
      "star avg loss: 6616411.5\n",
      "discriminator CEL: 4.6232495\n",
      "discriminator accuracy: 75.4\n",
      "star avg loss: 5936330.5\n",
      "discriminator CEL: 5.2292633\n",
      "discriminator accuracy: 72.8\n",
      "star avg loss: 5773562.0\n",
      "discriminator CEL: 6.177247\n",
      "discriminator accuracy: 70.6\n",
      "star avg loss: 5552271.5\n",
      "discriminator CEL: 5.1883025\n",
      "discriminator accuracy: 75.1\n",
      "star avg loss: 4257164.0\n",
      "discriminator CEL: 5.5057883\n",
      "discriminator accuracy: 70.9\n",
      "Finished epoch 0 at Thu Jun 25 00:42:30 2020.\n",
      "best epoch so far!\n",
      "[1000000000000.0, 6981396.0]\n",
      "star avg loss: 4051894.8\n",
      "discriminator CEL: 6.285591\n",
      "discriminator accuracy: 68.6\n",
      "star avg loss: 4235994.5\n",
      "discriminator CEL: 5.499596\n",
      "discriminator accuracy: 73.05\n",
      "star avg loss: 4131154.5\n",
      "discriminator CEL: 3.8964462\n",
      "discriminator accuracy: 75.75\n",
      "star avg loss: 3799210.5\n",
      "discriminator CEL: 5.865706\n",
      "discriminator accuracy: 72.15\n",
      "star avg loss: 3681966.5\n",
      "discriminator CEL: 4.846547\n",
      "discriminator accuracy: 71.95\n",
      "star avg loss: 3771507.5\n",
      "discriminator CEL: 5.3781343\n",
      "discriminator accuracy: 71.0\n",
      "star avg loss: 3317219.5\n",
      "discriminator CEL: 5.160241\n",
      "discriminator accuracy: 71.0\n",
      "star avg loss: 3359472.8\n",
      "discriminator CEL: 5.7635794\n",
      "discriminator accuracy: 68.5\n",
      "star avg loss: 3071492.0\n",
      "discriminator CEL: 7.141707\n",
      "discriminator accuracy: 69.2\n",
      "Finished epoch 1 at Thu Jun 25 00:51:11 2020.\n",
      "best epoch so far!\n",
      "[1000000000000.0, 6981396.0, 3684205.0]\n",
      "star avg loss: 2683826.5\n",
      "discriminator CEL: 4.130929\n",
      "discriminator accuracy: 71.5\n",
      "star avg loss: 2657487.8\n",
      "discriminator CEL: 4.5186415\n",
      "discriminator accuracy: 69.85\n",
      "star avg loss: 2736099.2\n",
      "discriminator CEL: 5.6361074\n",
      "discriminator accuracy: 68.05\n",
      "star avg loss: 2841719.2\n",
      "discriminator CEL: 5.776458\n",
      "discriminator accuracy: 71.1\n",
      "star avg loss: 2962339.5\n",
      "discriminator CEL: 5.228719\n",
      "discriminator accuracy: 68.05\n",
      "star avg loss: 2703970.0\n",
      "discriminator CEL: 5.089029\n",
      "discriminator accuracy: 68.6\n",
      "star avg loss: 2470055.5\n",
      "discriminator CEL: 5.2141466\n",
      "discriminator accuracy: 70.15\n",
      "star avg loss: 2371577.2\n",
      "discriminator CEL: 5.4053416\n",
      "discriminator accuracy: 69.15\n",
      "star avg loss: 2551323.5\n",
      "discriminator CEL: 7.487132\n",
      "discriminator accuracy: 68.55\n",
      "Finished epoch 2 at Thu Jun 25 00:59:54 2020.\n",
      "best epoch so far!\n",
      "[1000000000000.0, 6981396.0, 3684205.0, 2606475.2]\n"
     ]
    }
   ],
   "source": [
    "#Real loop\n",
    "for epoch in range(epochs):\n",
    "    permutation = torch.randperm(len(train_pos)).numpy()\n",
    "    nan_break = False\n",
    "    \n",
    "    for i in range(0,len(train), batch_size):\n",
    "        indices = permutation[i:i+batch_size]\n",
    "        batch = train_pos[indices]\n",
    "\n",
    "        ###### Forward Pass- StarSpace #############################################################\n",
    "        starspace.train(); starspace.opt.zero_grad()\n",
    "        \n",
    "        l_batch, r_batch, neg_batch = starspace(batch)\n",
    "        \n",
    "        #Test for nans\n",
    "        if nan_test(l_batch, r_batch, neg_batch):\n",
    "            break\n",
    "        \n",
    "        positive_similarity = torch.bmm(l_batch,r_batch.transpose(2,1))\n",
    "        negative_similarity = torch.bmm(l_batch, neg_batch.transpose(2,1)).squeeze(1)\n",
    "\n",
    "        star_loss = torch.sum(torch.clamp(.1 - positive_similarity + negative_similarity, min=0))\n",
    "        \n",
    "        ###### Forward Pass- Discriminator ############################################################\n",
    "        outputs, disc_y = discriminator(batch, dot_positions)\n",
    "        disc_loss1 = criterion(outputs,disc_y)\n",
    "        \n",
    "        ###### Backward Pass- Embeddings ##############################################################\n",
    "        emb_loss = star_loss + disc_loss1\n",
    "        emb_loss.backward(); starspace.opt.step()\n",
    "        \n",
    "        ###### Forward Pass 2- Discriminator ###########################################################\n",
    "        discriminator.train(); discriminator.opt.zero_grad()\n",
    "        \n",
    "        outputs, disc_y = discriminator(batch, dot_positions)\n",
    "        #ridge = .1 * torch.norm(torch.cat([x.view(-1) for x in discriminator.parameters()]), 2)\n",
    "        disc_loss2 = criterion(outputs,disc_y)\n",
    "        \n",
    "        ###### Backward Pass 2- Discriminator ############################################################\n",
    "        disc_loss2.backward(); discriminator.opt.step()\n",
    "        \n",
    "        acc = 100 * (outputs.max(1).indices == disc_y).sum().item() / 200\n",
    "        \n",
    "        discriminator.opt.zero_grad()\n",
    "        \n",
    "        ###### Batch Print/Log #########################################################################\n",
    "        star_losses.append(star_loss.detach().cpu().numpy())\n",
    "        disc_losses1.append(disc_loss1.detach().cpu().numpy())\n",
    "        disc_losses2.append(acc)\n",
    "        \n",
    "        if (i % (print_every*batch_size) == 0) & (i > 0):\n",
    "            print('star avg loss: %s' % str(np.mean(star_losses[-10:])))\n",
    "            print('discriminator CEL: %s' % str(np.mean(disc_losses1[-10:])))\n",
    "            print('discriminator accuracy: %s' % str(np.mean(disc_losses2[-10:])))\n",
    "        if (i % (log_every*batch_size) == 0) & (i > 0):\n",
    "            log.info('star avg loss: %s' % str(np.mean(star_losses[-10:])))\n",
    "            log.info('discriminator accuracy: %s' % str(np.mean(disc_losses1[-10:])))\n",
    "    \n",
    "    # End of inner loop\n",
    "    if nan_break:\n",
    "        print(\"you've got nans\")\n",
    "        log.warning(\"you've got nans\")\n",
    "        break\n",
    "    \n",
    "    ###### Epoch Print/Log #############################################################################\n",
    "    print('Finished epoch %s at %s.' % (epoch,time.ctime()))\n",
    "    log.info(\"Finished epoch %s\" % str(epoch))\n",
    "    \n",
    "    epoch_loss = np.mean(star_losses[-int(SAMPLE_SIZE/batch_size):])\n",
    "\n",
    "    if (epoch_loss < min(epoch_losses)) | (len(epoch_losses) == 0):\n",
    "        print('best epoch so far!')\n",
    "        log.info('best epoch so far!')\n",
    "        \n",
    "        weights = embedder.weights.weight\n",
    "        with open(OUTPUT_WEIGHTS + 'weights_best_epoch', 'wb') as f:\n",
    "            pickle.dump(weights.data.detach().cpu().numpy(), f)\n",
    "    \n",
    "    epoch_losses.append(epoch_loss)\n",
    "    print(epoch_losses)"
   ]
  },
  {
   "cell_type": "code",
   "execution_count": 24,
   "metadata": {},
   "outputs": [],
   "source": [
    "weights = embedder.weights.weight\n",
    "with open(OUTPUT_WEIGHTS + 'weights_%s' % SAMPLE_SIZE, 'wb') as f:\n",
    "    pickle.dump(weights.data.detach().cpu().numpy(), f)"
   ]
  },
  {
   "cell_type": "code",
   "execution_count": 25,
   "metadata": {},
   "outputs": [
    {
     "name": "stdout",
     "output_type": "stream",
     "text": [
      "You made it!\n"
     ]
    }
   ],
   "source": [
    "print('You made it!')\n",
    "log.info('You made it!')"
   ]
  },
  {
   "cell_type": "code",
   "execution_count": 26,
   "metadata": {},
   "outputs": [],
   "source": [
    "# #Save the weights to CSV\n",
    "# weights = model.input_embedding.weight\n",
    "# weights = weights.data.detach().numpy()\n",
    "# np.savetxt(\"weights_%s.csv\" % SAMPLE_SIZE, weights, delimiter=\",\")"
   ]
  },
  {
   "cell_type": "code",
   "execution_count": 27,
   "metadata": {},
   "outputs": [
    {
     "data": {
      "text/plain": [
       "[1000000000000.0, 6981396.0, 3684205.0, 2606475.2]"
      ]
     },
     "execution_count": 27,
     "metadata": {},
     "output_type": "execute_result"
    }
   ],
   "source": [
    "epoch_losses"
   ]
  },
  {
   "cell_type": "markdown",
   "metadata": {},
   "source": [
    "### Some graphing?"
   ]
  },
  {
   "cell_type": "code",
   "execution_count": 28,
   "metadata": {},
   "outputs": [
    {
     "data": {
      "text/plain": [
       "tensor([0, 0, 0, 0, 0, 0, 0, 0, 0, 0, 0, 0, 0, 0, 0, 0, 0, 0, 0, 0, 0, 0, 0, 0,\n",
       "        0, 0, 0, 0, 0, 0, 0, 0, 0, 0, 0, 0, 0, 0, 0, 0, 0, 0, 0, 0, 0, 0, 0, 0,\n",
       "        0, 0, 0, 0, 0, 0, 0, 0, 0, 0, 0, 0, 0, 0, 0, 0, 0, 0, 0, 0, 0, 0, 0, 0,\n",
       "        0, 0, 0, 0, 0, 0, 0, 0, 0, 0, 0, 0, 0, 0, 0, 0, 0, 0, 0, 0, 0, 0, 0, 0,\n",
       "        0, 0, 0, 0, 1, 1, 1, 1, 1, 1, 1, 1, 1, 1, 1, 1, 1, 1, 1, 1, 1, 1, 1, 1,\n",
       "        1, 1, 1, 1, 1, 1, 1, 1, 1, 1, 1, 1, 1, 1, 1, 1, 1, 1, 1, 1, 1, 1, 1, 1,\n",
       "        1, 1, 1, 1, 1, 1, 1, 1, 1, 1, 1, 1, 1, 1, 1, 1, 1, 1, 1, 1, 1, 1, 1, 1,\n",
       "        1, 1, 1, 1, 1, 1, 1, 1, 1, 1, 1, 1, 1, 1, 1, 1, 1, 1, 1, 1, 1, 1, 1, 1,\n",
       "        1, 1, 1, 1, 1, 1, 1, 1], device='cuda:0')"
      ]
     },
     "execution_count": 28,
     "metadata": {},
     "output_type": "execute_result"
    }
   ],
   "source": [
    "disc_y"
   ]
  },
  {
   "cell_type": "code",
   "execution_count": 29,
   "metadata": {},
   "outputs": [
    {
     "data": {
      "text/plain": [
       "tensor(8.1793, device='cuda:0', grad_fn=<NllLossBackward>)"
      ]
     },
     "execution_count": 29,
     "metadata": {},
     "output_type": "execute_result"
    }
   ],
   "source": [
    "criterion(outputs,disc_y)"
   ]
  },
  {
   "cell_type": "code",
   "execution_count": 30,
   "metadata": {},
   "outputs": [],
   "source": [
    "from matplotlib import pyplot as plt"
   ]
  },
  {
   "cell_type": "code",
   "execution_count": 31,
   "metadata": {},
   "outputs": [
    {
     "data": {
      "image/png": "[encoded data removed]",
      "text/plain": [
       "<Figure size 432x288 with 1 Axes>"
      ]
     },
     "metadata": {
      "needs_background": "light"
     },
     "output_type": "display_data"
    },
    {
     "data": {
      "text/plain": [
       "[<matplotlib.lines.Line2D at 0x7fd011a68ba8>]"
      ]
     },
     "execution_count": 31,
     "metadata": {},
     "output_type": "execute_result"
    },
    {
     "data": {
      "image/png": "[encoded data removed]",
      "text/plain": [
       "<Figure size 432x288 with 1 Axes>"
      ]
     },
     "metadata": {
      "needs_background": "light"
     },
     "output_type": "display_data"
    }
   ],
   "source": [
    "plt.plot(range(len(disc_losses1)),disc_losses1)\n",
    "plt.show()\n",
    "plt.plot(range(len(disc_losses1)),disc_losses2)"
   ]
  },
  {
   "cell_type": "code",
   "execution_count": null,
   "metadata": {},
   "outputs": [],
   "source": []
  },
  {
   "cell_type": "code",
   "execution_count": null,
   "metadata": {},
   "outputs": [],
   "source": []
  },
  {
   "cell_type": "code",
   "execution_count": null,
   "metadata": {},
   "outputs": [],
   "source": []
  },
  {
   "cell_type": "markdown",
   "metadata": {},
   "source": [
    "### the CrossEntropyLoss bit"
   ]
  },
  {
   "cell_type": "code",
   "execution_count": 32,
   "metadata": {},
   "outputs": [],
   "source": [
    "# crit = nn.CrossEntropyLoss()\n",
    "\n",
    "# t1_X = torch.stack([torch.tensor([1.,0.]) for _ in range(10)] + [torch.tensor([0.,1.]) for _ in range(10)])\n",
    "\n",
    "# y0 = torch.tensor([1]*10 + [0] * 10)\n",
    "# y1 = torch.tensor([0]*10 + [1] * 10)\n",
    "# y2 = torch.tensor([1]*20)\n",
    "\n",
    "# crit(t1_X,y0) #all wrong\n",
    "\n",
    "# crit(t1_X,y1) #all right\n",
    "\n",
    "# crit(t1_X,y2) #half right\n",
    "\n",
    "# t2_X = torch.stack([torch.tensor([.5,.5]) for _ in range(20)])\n",
    "\n",
    "# crit(t2_X,y0)\n",
    "\n",
    "# crit(t2_X,y1)\n",
    "\n",
    "# crit(t2_X,y2)"
   ]
  },
  {
   "cell_type": "markdown",
   "metadata": {},
   "source": [
    "### Testing the weights changing"
   ]
  },
  {
   "cell_type": "code",
   "execution_count": 33,
   "metadata": {},
   "outputs": [],
   "source": [
    "# epoch = 0\n",
    "# permutation = torch.randperm(len(train_pos)).numpy()\n",
    "# nan_break = False\n",
    "# i = 0\n",
    "\n",
    "# indices = permutation[i:i+batch_size]\n",
    "# batch = train_pos[indices]\n",
    "\n",
    "# def flatten_params(params):\n",
    "#     disc_p = []\n",
    "#     for p in params:\n",
    "#         disc_p.append(p.clone().detach().cpu().numpy())\n",
    "\n",
    "#     return np.array([item for sublist in disc_p for item in sublist.flatten()])\n",
    "\n",
    "# ew_1 = embedder.weights.weight.clone().detach().cpu().numpy().flatten()\n",
    "# disc_1 = flatten_params(discriminator.classifier.parameters())\n",
    "\n",
    "# ###### Forward Pass- StarSpace #############################################################\n",
    "# starspace.train(); starspace.opt.zero_grad()\n",
    "\n",
    "# l_batch, r_batch, neg_batch = starspace(batch)\n",
    "\n",
    "#Test for nans\n",
    "# if nan_test(l_batch, r_batch, neg_batch):\n",
    "#     break\n",
    "\n",
    "# positive_similarity = torch.bmm(l_batch,r_batch.transpose(2,1))\n",
    "# negative_similarity = torch.bmm(l_batch, neg_batch.transpose(2,1)).squeeze(1)\n",
    "\n",
    "# star_loss = torch.sum(torch.clamp(.1 - positive_similarity + negative_similarity, min=0))\n",
    "\n",
    "# star_loss.backward(); starspace.opt.step()\n",
    "\n",
    "# ew_2 = embedder.weights.weight.clone().detach().cpu().numpy().flatten()\n",
    "# disc_2 = flatten_params(discriminator.classifier.parameters())\n",
    "\n",
    "# print('Embeddings changed: %s' % any(ew_1 != ew_2))\n",
    "# print('Discriminator params updated: %s' % any(disc_1 != disc_2))\n",
    "\n",
    "# ###### Forward Pass- Discriminator ###########################################################\n",
    "# discriminator.train(); discriminator.opt.zero_grad()\n",
    "# disc_loss, outputs, disc_y = discriminator(batch, dot_positions)\n",
    "\n",
    "# acc = 100 * (outputs.max(1).indices == disc_y).sum().item() / 200\n",
    "\n",
    "# disc_loss.backward(); discriminator.opt.step()\n",
    "\n",
    "# ew_3 = embedder.weights.weight.clone().detach().cpu().numpy().flatten()\n",
    "# disc_3 = flatten_params(discriminator.classifier.parameters())\n",
    "\n",
    "# print('Embeddings changed: %s' % any(ew_2 != ew_3))\n",
    "# print('Discriminator params updated: %s' % any(disc_2 != disc_3))"
   ]
  }
 ],
 "metadata": {
  "kernelspec": {
   "display_name": "Python 3",
   "language": "python",
   "name": "python3"
  },
  "language_info": {
   "codemirror_mode": {
    "name": "ipython",
    "version": 3
   },
   "file_extension": ".py",
   "mimetype": "text/x-python",
   "name": "python",
   "nbconvert_exporter": "python",
   "pygments_lexer": "ipython3",
   "version": "3.6.9"
  }
 },
 "nbformat": 4,
 "nbformat_minor": 4
}
