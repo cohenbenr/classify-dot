{
 "cells": [
  {
   "cell_type": "code",
   "execution_count": 142,
   "metadata": {
    "autoscroll": false,
    "collapsed": false,
    "ein.tags": "worksheet-0",
    "slideshow": {
     "slide_type": "-"
    }
   },
   "outputs": [],
   "source": [
    "! pip install --quiet fuzzywuzzy[speedup]\n",
    "! pip install --quiet toolz"
   ]
  },
  {
   "cell_type": "code",
   "execution_count": 194,
   "metadata": {
    "autoscroll": false,
    "collapsed": false,
    "ein.tags": "worksheet-0",
    "slideshow": {
     "slide_type": "-"
    }
   },
   "outputs": [],
   "source": [
    "import pandas as pd\n",
    "import numpy as np\n",
    "import json\n",
    "from validation.title_matching import *"
   ]
  },
  {
   "cell_type": "code",
   "execution_count": 54,
   "metadata": {
    "autoscroll": false,
    "collapsed": false,
    "ein.tags": "worksheet-0",
    "slideshow": {
     "slide_type": "-"
    }
   },
   "outputs": [],
   "source": [
    "direct_match = (pd\n",
    "                .read_excel('./data/SOC/soc_2010_direct_match_title_file.xls', skiprows=6)\n",
    "                .rename(columns = {'2010 SOC Direct Match Title': 'title', \n",
    "                                     '2010 SOC Code': 'code'})[['title', 'code']])\n",
    "\n",
    "samples = (pd\n",
    "           .read_excel('./data/SOC/Sample of Reported Titles.xlsx')\n",
    "           .rename(columns = {'Reported Job Title': 'title', \n",
    "                              'O*NET-SOC Code': 'code'})[['title', 'code']])\n",
    "\n",
    "alternates = (pd\n",
    "              .read_excel('./data/SOC/Alternate Titles.xlsx')\n",
    "              .rename(columns = {'Alternate Title': 'title', \n",
    "                                 'O*NET-SOC Code': 'code'})[['title', 'code']])\n",
    "\n",
    "alternates['code'] = alternates.code.str.slice(0,7)\n",
    "samples['code'] = samples.code.str.slice(0,7)"
   ]
  },
  {
   "cell_type": "code",
   "execution_count": 198,
   "metadata": {
    "autoscroll": false,
    "collapsed": false,
    "ein.tags": "worksheet-0",
    "slideshow": {
     "slide_type": "-"
    }
   },
   "outputs": [],
   "source": [
    "BAD_TITLES = ['assistant']\n",
    "\n",
    "lookup = pd.concat([direct_match, samples, alternates]).drop_duplicates(['code', 'title'])\n",
    "lookup['title'] = lookup.title.str.lower()\n",
    "\n",
    "# filter all titles that have more than one match with different codes!\n",
    "idx = lookup.groupby('title').transform('count').code\n",
    "lookup = lookup[idx == 1] \n",
    "\n",
    "lookup = lookup[~lookup.title.isin(BAD_TITLES)]"
   ]
  },
  {
   "cell_type": "code",
   "execution_count": 199,
   "metadata": {
    "autoscroll": false,
    "collapsed": false,
    "ein.tags": "worksheet-0",
    "slideshow": {
     "slide_type": "-"
    }
   },
   "outputs": [],
   "source": [
    "lookup.to_csv('crosswalks/soc-title-lookup.csv', index=False)"
   ]
  },
  {
   "cell_type": "code",
   "execution_count": null,
   "metadata": {
    "autoscroll": false,
    "collapsed": false,
    "ein.tags": "worksheet-0",
    "slideshow": {
     "slide_type": "-"
    }
   },
   "outputs": [],
   "source": [
    "with open('./data/sample.jl', 'r') as f:\n",
    "    jobs = pd.DataFrame([json.loads(d) for d in f])\n",
    "jobs['title'] = jobs.title.str.lower()"
   ]
  },
  {
   "cell_type": "code",
   "execution_count": 195,
   "metadata": {
    "autoscroll": false,
    "collapsed": false,
    "ein.tags": "worksheet-0",
    "slideshow": {
     "slide_type": "-"
    }
   },
   "outputs": [],
   "source": [
    "matcher = layered_matcher([exact_matcher(lookup), \n",
    "                           title_matcher(lookup, punct_lookup(lookup))])"
   ]
  },
  {
   "cell_type": "code",
   "execution_count": 196,
   "metadata": {
    "autoscroll": false,
    "collapsed": false,
    "ein.tags": "worksheet-0",
    "slideshow": {
     "slide_type": "-"
    }
   },
   "outputs": [],
   "source": [
    "matched = matcher(jobs)"
   ]
  },
  {
   "cell_type": "code",
   "execution_count": 197,
   "metadata": {
    "autoscroll": false,
    "collapsed": false,
    "ein.tags": "worksheet-0",
    "slideshow": {
     "slide_type": "-"
    }
   },
   "outputs": [
    {
     "data": {
      "text/plain": [
       "0.194"
      ]
     },
     "execution_count": 197,
     "metadata": {},
     "output_type": "execute_result"
    }
   ],
   "source": [
    "matched.shape[0] / jobs.shape[0]"
   ]
  }
 ],
 "metadata": {
  "kernelspec": {
   "display_name": "Python 3",
   "language": "python",
   "name": "python3"
  },
  "language_info": {
   "codemirror_mode": {
    "name": "ipython",
    "version": 3
   },
   "file_extension": ".py",
   "mimetype": "text/x-python",
   "name": "python",
   "nbconvert_exporter": "python",
   "pygments_lexer": "ipython3",
   "version": "3.6.3"
  },
  "name": "match-titles.ipynb"
 },
 "nbformat": 4,
 "nbformat_minor": 2
}
