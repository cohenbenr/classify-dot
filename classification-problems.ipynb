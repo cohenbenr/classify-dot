{
 "cells": [
  {
   "cell_type": "code",
   "execution_count": 1,
   "metadata": {
    "autoscroll": false,
    "collapsed": false,
    "ein.hycell": false,
    "ein.tags": "worksheet-0",
    "slideshow": {
     "slide_type": "-"
    }
   },
   "outputs": [],
   "source": [
    "%load_ext autoreload\n",
    "%autoreload 2\n",
    "\n",
    "import pandas as pd\n",
    "import numpy as np\n",
    "\n",
    "\n",
    "\n",
    "from validation.dot_data import get_dictionary\n",
    "from toolz import curry\n",
    "from statsmodels.iolib.tableformatting import fmt_latex, fmt_txt"
   ]
  },
  {
   "cell_type": "code",
   "execution_count": 2,
   "metadata": {
    "autoscroll": false,
    "collapsed": false,
    "ein.hycell": false,
    "ein.tags": "worksheet-0",
    "slideshow": {
     "slide_type": "-"
    }
   },
   "outputs": [],
   "source": [
    "from validation.scoring import *"
   ]
  },
  {
   "cell_type": "code",
   "execution_count": null,
   "metadata": {
    "autoscroll": false,
    "collapsed": false,
    "ein.hycell": false,
    "ein.tags": "worksheet-0",
    "slideshow": {
     "slide_type": "-"
    }
   },
   "outputs": [],
   "source": [
    "from validation.data import indeed_test_data, dot_train_data, get_soc_n\n",
    "\n",
    "SOC_LEVEL=3\n",
    "\n",
    "X_train, y_train = dot_train_data(SOC_LEVEL, include_tasks=False)\n",
    "count_lookup = y_train.value_counts().to_dict()\n",
    "code_lookup = make_code_lookup(SOC_LEVEL)\n",
    "\n",
    "df = pd.read_csv('confusion-matrices/insample-3/sentencespace_100_indeed-lr.csv')\n",
    "idx = df.sum(1) > 5\n",
    "\n",
    "df.index = df.columns\n",
    "test_count = df.sum(1)\n",
    "\n",
    "scores = [counts(df.values, i) for i,_ in enumerate(df.values)]\n",
    "sdf = pd.DataFrame({'precision': [prec(tp,fp) for tp,fp,fn in scores], 'recall': [recall(tp,fn) for tp,fp,fn in scores]})\n"
   ]
  },
  {
   "cell_type": "code",
   "execution_count": 11,
   "metadata": {
    "autoscroll": false,
    "collapsed": false,
    "ein.hycell": false,
    "ein.tags": "worksheet-0",
    "slideshow": {
     "slide_type": "-"
    }
   },
   "outputs": [
    {
     "name": "stdout",
     "output_type": "stream",
     "text": [
      "\\begin{subtable}[t]{\\linewidth}\n",
      "\\begin{tabular*}{\\textwidth}{l @{\\extracolsep{\\fill}} c c c}\n",
      "\\hline\n",
      "          Occupation          & Percentage &  DOT/Test & SOC  \\\\\n",
      "\\hline\n",
      "\\hline\n",
      " Other Production Occupations &       0.13 & 4854/4854 & 519  \\\\\n",
      "      Material Moving Workers &       0.10 &   598/598 & 537  \\\\\n",
      "Textile, Apparel, and Furnis… &       0.10 &   470/470 & 516  \\\\\n",
      "      Food Processing Workers &       0.08 &   130/130 & 513  \\\\\n",
      "Metal Workers and Plastic Wo… &       0.08 &   808/808 & 514  \\\\\n",
      "\\hline\n",
      "\\end{tabular*}\n",
      "\\caption{ 519 - (4854/4854) - Other Production Occupations }\n",
      "\\end{subtable}\n",
      "\\vspace{5mm}\n",
      "\n",
      "\n",
      "\\begin{subtable}[t]{\\linewidth}\n",
      "\\begin{tabular*}{\\textwidth}{l @{\\extracolsep{\\fill}} c c c}\n",
      "\\hline\n",
      "          Occupation          & Percentage & DOT/Test & SOC  \\\\\n",
      "\\hline\n",
      "\\hline\n",
      "Business Operations Speciali… &       0.22 &  115/115 & 131  \\\\\n",
      "               Top Executives &       0.07 &    73/73 & 111  \\\\\n",
      "Operations Specialties Manag… &       0.07 &  117/117 & 113  \\\\\n",
      "Lawyers, Judges, and Related… &       0.04 &    20/20 & 231  \\\\\n",
      "                    Engineers &       0.03 &  142/142 & 172  \\\\\n",
      "\\hline\n",
      "\\end{tabular*}\n",
      "\\caption{ 131 - (115/115) - Business Operations Specialists }\n",
      "\\end{subtable}\n",
      "\\vspace{5mm}\n",
      "\n",
      "\n",
      "\\begin{subtable}[t]{\\linewidth}\n",
      "\\begin{tabular*}{\\textwidth}{l @{\\extracolsep{\\fill}} c c c}\n",
      "\\hline\n",
      "          Occupation          & Percentage & DOT/Test & SOC  \\\\\n",
      "\\hline\n",
      "\\hline\n",
      " Other Management Occupations &       0.22 &  213/213 & 119  \\\\\n",
      "                    Engineers &       0.06 &  142/142 & 172  \\\\\n",
      "         Agricultural Workers &       0.06 &    83/83 & 452  \\\\\n",
      "               Top Executives &       0.05 &    73/73 & 111  \\\\\n",
      "Operations Specialties Manag… &       0.05 &  117/117 & 113  \\\\\n",
      "\\hline\n",
      "\\end{tabular*}\n",
      "\\caption{ 119 - (213/213) - Other Management Occupations }\n",
      "\\end{subtable}\n",
      "\\vspace{5mm}\n",
      "\n",
      "\n",
      "\\begin{subtable}[t]{\\linewidth}\n",
      "\\begin{tabular*}{\\textwidth}{l @{\\extracolsep{\\fill}} c c c}\n",
      "\\hline\n",
      "          Occupation          & Percentage & DOT/Test & SOC  \\\\\n",
      "\\hline\n",
      "\\hline\n",
      "Other Office and Administrat… &       0.33 &  154/154 & 439  \\\\\n",
      "Information and Record Clerks &       0.12 &  110/110 & 434  \\\\\n",
      "Material Recording, Scheduli… &       0.07 &  197/197 & 435  \\\\\n",
      "             Printing Workers &       0.06 &  165/165 & 515  \\\\\n",
      "             Financial Clerks &       0.05 &    80/80 & 433  \\\\\n",
      "\\hline\n",
      "\\end{tabular*}\n",
      "\\caption{ 439 - (154/154) - Other Office and Administrative Support Workers }\n",
      "\\end{subtable}\n",
      "\\vspace{5mm}\n",
      "\n",
      "\n",
      "\\begin{subtable}[t]{\\linewidth}\n",
      "\\begin{tabular*}{\\textwidth}{l @{\\extracolsep{\\fill}} c c c}\n",
      "\\hline\n",
      "          Occupation          & Percentage & DOT/Test & SOC  \\\\\n",
      "\\hline\n",
      "\\hline\n",
      "Other Installation, Maintena… &       0.34 &  344/344 & 499  \\\\\n",
      "Vehicle and Mobile Equipment… &       0.09 &    84/84 & 493  \\\\\n",
      "Electrical and Electronic Eq… &       0.07 &  100/100 & 492  \\\\\n",
      "Textile, Apparel, and Furnis… &       0.04 &  470/470 & 516  \\\\\n",
      " Helpers, Construction Trades &       0.04 &    31/31 & 473  \\\\\n",
      "\\hline\n",
      "\\end{tabular*}\n",
      "\\caption{ 499 - (344/344) - Other Installation, Maintenance, and Repair Occu… }\n",
      "\\end{subtable}\n",
      "\\vspace{5mm}\n",
      "\n",
      "\n"
     ]
    }
   ],
   "source": [
    "print_tables(format_dfs('recall', sdf, df, idx, code_lookup, count_lookup, test_count), 'recall')        "
   ]
  },
  {
   "cell_type": "code",
   "execution_count": 12,
   "metadata": {
    "autoscroll": false,
    "collapsed": false,
    "ein.hycell": false,
    "ein.tags": "worksheet-0",
    "slideshow": {
     "slide_type": "-"
    }
   },
   "outputs": [
    {
     "name": "stdout",
     "output_type": "stream",
     "text": [
      "\\begin{subtable}[t]{\\linewidth}\n",
      "\\begin{tabular*}{\\textwidth}{l @{\\extracolsep{\\fill}} c c c}\n",
      "\\hline\n",
      "          Occupation          & Percentage &  DOT/Test & SOC  \\\\\n",
      "\\hline\n",
      "\\hline\n",
      " Other Production Occupations &       0.71 & 4854/4854 & 519  \\\\\n",
      "      Food Processing Workers &       0.18 &   130/130 & 513  \\\\\n",
      "      Material Moving Workers &       0.04 &   598/598 & 537  \\\\\n",
      "Supervisors of Production Wo… &       0.02 &   706/706 & 511  \\\\\n",
      "Metal Workers and Plastic Wo… &       0.02 &   808/808 & 514  \\\\\n",
      "\\hline\n",
      "\\end{tabular*}\n",
      "\\caption{ 513 - (130/130) - Food Processing Workers }\n",
      "\\end{subtable}\n",
      "\\vspace{5mm}\n",
      "\n",
      "\n",
      "\\begin{subtable}[t]{\\linewidth}\n",
      "\\begin{tabular*}{\\textwidth}{l @{\\extracolsep{\\fill}} c c c}\n",
      "\\hline\n",
      "          Occupation          & Percentage &  DOT/Test & SOC  \\\\\n",
      "\\hline\n",
      "\\hline\n",
      " Other Production Occupations &       0.42 & 4854/4854 & 519  \\\\\n",
      " Helpers, Construction Trades &       0.19 &     31/31 & 473  \\\\\n",
      "  Construction Trades Workers &       0.15 &   201/201 & 472  \\\\\n",
      "Other Installation, Maintena… &       0.10 &   344/344 & 499  \\\\\n",
      "      Material Moving Workers &       0.05 &   598/598 & 537  \\\\\n",
      "\\hline\n",
      "\\end{tabular*}\n",
      "\\caption{ 473 - (31/31) - Helpers, Construction Trades }\n",
      "\\end{subtable}\n",
      "\\vspace{5mm}\n",
      "\n",
      "\n",
      "\\begin{subtable}[t]{\\linewidth}\n",
      "\\begin{tabular*}{\\textwidth}{l @{\\extracolsep{\\fill}} c c c}\n",
      "\\hline\n",
      "          Occupation          & Percentage &  DOT/Test & SOC  \\\\\n",
      "\\hline\n",
      "\\hline\n",
      " Other Production Occupations &       0.59 & 4854/4854 & 519  \\\\\n",
      "   Plant and System Operators &       0.19 &     59/59 & 518  \\\\\n",
      "Supervisors of Production Wo… &       0.05 &   706/706 & 511  \\\\\n",
      "      Material Moving Workers &       0.05 &   598/598 & 537  \\\\\n",
      "Metal Workers and Plastic Wo… &       0.02 &   808/808 & 514  \\\\\n",
      "\\hline\n",
      "\\end{tabular*}\n",
      "\\caption{ 518 - (59/59) - Plant and System Operators }\n",
      "\\end{subtable}\n",
      "\\vspace{5mm}\n",
      "\n",
      "\n",
      "\\begin{subtable}[t]{\\linewidth}\n",
      "\\begin{tabular*}{\\textwidth}{l @{\\extracolsep{\\fill}} c c c}\n",
      "\\hline\n",
      "          Occupation          & Percentage &  DOT/Test & SOC  \\\\\n",
      "\\hline\n",
      "\\hline\n",
      " Other Production Occupations &       0.61 & 4854/4854 & 519  \\\\\n",
      "Life, Physical, and Social S… &       0.21 &     75/75 & 194  \\\\\n",
      "Supervisors of Production Wo… &       0.06 &   706/706 & 511  \\\\\n",
      "Material Recording, Scheduli… &       0.02 &   197/197 & 435  \\\\\n",
      "      Material Moving Workers &       0.01 &   598/598 & 537  \\\\\n",
      "\\hline\n",
      "\\end{tabular*}\n",
      "\\caption{ 194 - (75/75) - Life, Physical, and Social Science Technicians }\n",
      "\\end{subtable}\n",
      "\\vspace{5mm}\n",
      "\n",
      "\n",
      "\\begin{subtable}[t]{\\linewidth}\n",
      "\\begin{tabular*}{\\textwidth}{l @{\\extracolsep{\\fill}} c c c}\n",
      "\\hline\n",
      "          Occupation          & Percentage &  DOT/Test & SOC  \\\\\n",
      "\\hline\n",
      "\\hline\n",
      " Other Production Occupations &       0.58 & 4854/4854 & 519  \\\\\n",
      "   Assemblers and Fabricators &       0.22 &   160/160 & 512  \\\\\n",
      "Metal Workers and Plastic Wo… &       0.11 &   808/808 & 514  \\\\\n",
      "      Material Moving Workers &       0.01 &   598/598 & 537  \\\\\n",
      "Supervisors of Production Wo… &       0.01 &   706/706 & 511  \\\\\n",
      "\\hline\n",
      "\\end{tabular*}\n",
      "\\caption{ 512 - (160/160) - Assemblers and Fabricators }\n",
      "\\end{subtable}\n",
      "\\vspace{5mm}\n",
      "\n",
      "\n"
     ]
    }
   ],
   "source": [
    "print_tables(format_dfs('precision', sdf, df, idx, code_lookup, count_lookup, test_count), 'precision')"
   ]
  },
  {
   "cell_type": "code",
   "execution_count": 29,
   "metadata": {
    "autoscroll": false,
    "collapsed": false,
    "ein.hycell": false,
    "ein.tags": "worksheet-0",
    "slideshow": {
     "slide_type": "-"
    }
   },
   "outputs": [
    {
     "data": {
      "text/plain": [
       "(0.4480758680147347, 0.6518370133174584, 0.5242069823358642)"
      ]
     },
     "execution_count": 29,
     "metadata": {},
     "output_type": "execute_result"
    }
   ],
   "source": [
    "f1(*micro(df)), f1(*macro(df, 'macro')), f1(*macro(df, 'weighted'))"
   ]
  },
  {
   "cell_type": "code",
   "execution_count": 31,
   "metadata": {
    "autoscroll": false,
    "collapsed": false,
    "ein.hycell": false,
    "ein.tags": "worksheet-0",
    "slideshow": {
     "slide_type": "-"
    }
   },
   "outputs": [
    {
     "data": {
      "text/plain": [
       "(0.4880787295906956, 0.36041481773025075, 0.5159941375489523)"
      ]
     },
     "execution_count": 31,
     "metadata": {},
     "output_type": "execute_result"
    }
   ],
   "source": [
    "# US SS\n",
    "f1(*micro(df)), f1(*macro(df, 'macro')), f1(*macro(df, 'weighted'))"
   ]
  },
  {
   "cell_type": "code",
   "execution_count": null,
   "metadata": {
    "autoscroll": false,
    "collapsed": false,
    "ein.hycell": false,
    "ein.tags": "worksheet-0",
    "slideshow": {
     "slide_type": "-"
    }
   },
   "outputs": [],
   "source": [
    "print_tables(format_dfs('recall', sdf, df, idx), 'recall')        "
   ]
  },
  {
   "cell_type": "code",
   "execution_count": null,
   "metadata": {
    "autoscroll": false,
    "collapsed": false,
    "ein.hycell": false,
    "ein.tags": "worksheet-0",
    "slideshow": {
     "slide_type": "-"
    }
   },
   "outputs": [],
   "source": [
    "print_tables(format_dfs('precision', sdf, df, idx), 'precision')"
   ]
  },
  {
   "cell_type": "code",
   "execution_count": 104,
   "metadata": {
    "autoscroll": false,
    "collapsed": false,
    "ein.hycell": false,
    "ein.tags": "worksheet-0",
    "slideshow": {
     "slide_type": "-"
    }
   },
   "outputs": [],
   "source": []
  },
  {
   "cell_type": "code",
   "execution_count": 206,
   "metadata": {
    "autoscroll": false,
    "collapsed": false,
    "ein.hycell": false,
    "ein.tags": "worksheet-0",
    "slideshow": {
     "slide_type": "-"
    }
   },
   "outputs": [],
   "source": [
    "X_test, y_test, ids = indeed_test_data('../data/us/everything.csv', 100000, 3)"
   ]
  },
  {
   "cell_type": "code",
   "execution_count": 207,
   "metadata": {
    "autoscroll": false,
    "collapsed": false,
    "ein.hycell": false,
    "ein.tags": "worksheet-0",
    "slideshow": {
     "slide_type": "-"
    }
   },
   "outputs": [],
   "source": [
    "test_data = pd.DataFrame({'X': X_test, 'y': y_test})"
   ]
  },
  {
   "cell_type": "code",
   "execution_count": 109,
   "metadata": {
    "autoscroll": false,
    "collapsed": false,
    "ein.hycell": false,
    "ein.tags": "worksheet-0",
    "slideshow": {
     "slide_type": "-"
    }
   },
   "outputs": [],
   "source": []
  }
 ],
 "metadata": {
  "kernelspec": {
   "display_name": "Python 3",
   "name": "python3"
  },
  "language_info": {
   "codemirror_mode": {
    "name": "ipython",
    "version": 3
   },
   "file_extension": ".py",
   "mimetype": "text/x-python",
   "name": "python",
   "nbconvert_exporter": "python",
   "pygments_lexer": "ipython3",
   "version": "3.6.3"
  },
  "name": "classification-problems.ipynb"
 },
 "nbformat": 4,
 "nbformat_minor": 2
}
