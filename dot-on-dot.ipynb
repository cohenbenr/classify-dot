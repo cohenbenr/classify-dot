{
 "cells": [
  {
   "cell_type": "code",
   "execution_count": 1,
   "metadata": {
    "autoscroll": false,
    "collapsed": false,
    "ein.hycell": false,
    "ein.tags": "worksheet-0",
    "slideshow": {
     "slide_type": "-"
    }
   },
   "outputs": [],
   "source": [
    "%load_ext autoreload\n",
    "%autoreload 2\n",
    "\n",
    "import pandas as pd\n",
    "import numpy as np\n",
    "import re\n",
    "import attr\n",
    "from sklearn.pipeline import Pipeline\n",
    "from sklearn.metrics import accuracy_score\n",
    "from sklearn.linear_model import LogisticRegression\n",
    "from sklearn.metrics import confusion_matrix\n",
    "from sklearn.neighbors import KNeighborsClassifier\n",
    "\n",
    "from validation.data import indeed_test_data, dot_train_data, get_soc_n\n",
    "from embed_software.preprocess import *\n",
    "from embed_software.utils import get_embeddings, embed_docs\n",
    "from validation.dot_data import LemmaTokenizer, get_dictionary\n",
    "from classification.embedding import PreEmbeddedVectorizer, Embedding, WordEmbeddingVectorizer\n",
    "\n",
    "import matplotlib.pyplot as plt\n",
    "plt.rcParams['figure.figsize'] = [15, 10]"
   ]
  },
  {
   "cell_type": "code",
   "execution_count": 2,
   "metadata": {
    "autoscroll": false,
    "collapsed": false,
    "ein.hycell": false,
    "ein.tags": "worksheet-0",
    "slideshow": {
     "slide_type": "-"
    }
   },
   "outputs": [],
   "source": [
    "SOC_LEVEL = 3"
   ]
  },
  {
   "cell_type": "code",
   "execution_count": 3,
   "metadata": {
    "autoscroll": false,
    "collapsed": false,
    "ein.hycell": false,
    "ein.tags": "worksheet-0",
    "slideshow": {
     "slide_type": "-"
    }
   },
   "outputs": [],
   "source": [
    "X_train, y_train = dot_train_data(SOC_LEVEL, include_tasks=False)"
   ]
  },
  {
   "cell_type": "code",
   "execution_count": 20,
   "metadata": {
    "autoscroll": false,
    "collapsed": false,
    "ein.hycell": false,
    "ein.tags": "worksheet-0",
    "slideshow": {
     "slide_type": "-"
    }
   },
   "outputs": [],
   "source": [
    "models = [\n",
    "    Pipeline([('glove_100_va', WordEmbeddingVectorizer('../glove-models/glove-va-100.txt', cache_dir='va_glove_embed_cache')),\n",
    "              ('lr', LogisticRegression(C=5., solver='newton-cg', class_weight='balanced', multi_class=\"multinomial\", n_jobs=-1))]),\n",
    "    Pipeline([('sentencespace_100_va', PreEmbeddedVectorizer('../ss-models/va-ss-100', cache_dir='va_embed_cache')),\n",
    "              ('lr', LogisticRegression(C=5., solver='newton-cg', class_weight='balanced', multi_class=\"multinomial\", n_jobs=-1))]),\n",
    "    Pipeline([('sentencespace_100_indeed', PreEmbeddedVectorizer('../indeed-embeds/model', cache_dir='indeed_embed_cache')),\n",
    "              ('lr', LogisticRegression(C=5., solver='newton-cg', class_weight='balanced', multi_class=\"multinomial\", n_jobs=-1))])\n",
    "]"
   ]
  },
  {
   "cell_type": "code",
   "execution_count": 25,
   "metadata": {
    "autoscroll": false,
    "collapsed": false,
    "ein.hycell": false,
    "ein.tags": "worksheet-0",
    "slideshow": {
     "slide_type": "-"
    }
   },
   "outputs": [],
   "source": [
    "models = [\n",
    "    Pipeline([('glove_100_va', WordEmbeddingVectorizer('../glove-models/glove-va-100.txt', cache_dir='va_glove_embed_cache')),\n",
    "              ('knn', KNeighborsClassifier(3, weights='distance', n_jobs=-1))]),\n",
    "    Pipeline([('sentencespace_100_va', PreEmbeddedVectorizer('../ss-models/va-ss-100', cache_dir='va_embed_cache')),\n",
    "              ('knn', KNeighborsClassifier(3, weights='distance', n_jobs=-1))]),\n",
    "    Pipeline([('sentencespace_100_indeed', PreEmbeddedVectorizer('../indeed-embeds/model', cache_dir='indeed_embed_cache')),\n",
    "              ('knn', KNeighborsClassifier(3, weights='distance', n_jobs=-1))])\n",
    "]"
   ]
  },
  {
   "cell_type": "code",
   "execution_count": null,
   "metadata": {
    "autoscroll": false,
    "collapsed": false,
    "ein.hycell": false,
    "ein.tags": "worksheet-0",
    "slideshow": {
     "slide_type": "-"
    }
   },
   "outputs": [],
   "source": [
    "# WITHIN DOT ACCURACY \n",
    "from sklearn.model_selection import cross_val_predict, LeaveOneOut\n",
    "\n",
    "preds = [cross_val_predict(model, X_train, y_train, cv=LeaveOneOut()) for model in models]"
   ]
  },
  {
   "cell_type": "code",
   "execution_count": null,
   "metadata": {
    "autoscroll": false,
    "collapsed": false,
    "ein.hycell": false,
    "ein.tags": "worksheet-0",
    "slideshow": {
     "slide_type": "-"
    }
   },
   "outputs": [],
   "source": [
    "preds"
   ]
  },
  {
   "cell_type": "code",
   "execution_count": null,
   "metadata": {
    "autoscroll": false,
    "collapsed": false,
    "ein.hycell": false,
    "ein.tags": "worksheet-0",
    "slideshow": {
     "slide_type": "-"
    }
   },
   "outputs": [],
   "source": [
    "def print_confusion_matrices(models, preds, y, path, SOC_LEVEL):\n",
    "    dot_dict = get_dictionary('', SOC_LEVEL)\n",
    "    model_names = ['-'.join(m.named_steps.keys()) for m in models]\n",
    "    un = dot_dict.groupby('soc').apply(lambda df: df.head(1))\n",
    "    category_names = un['desc_soc{}'.format(SOC_LEVEL)]\n",
    "    for name,p in zip(model_names, preds):\n",
    "        df = pd.DataFrame(confusion_matrix(y, p, un.soc), \n",
    "                          index=category_names, \n",
    "                          columns=category_names)\n",
    "        filename = path.format(SOC_LEVEL, name)\n",
    "        df.to_csv(filename, index=False)"
   ]
  },
  {
   "cell_type": "code",
   "execution_count": null,
   "metadata": {
    "autoscroll": false,
    "collapsed": false,
    "ein.hycell": false,
    "ein.tags": "worksheet-0",
    "slideshow": {
     "slide_type": "-"
    }
   },
   "outputs": [],
   "source": [
    "print_confusion_matrices(models, preds, y_train, 'confusion-matrices/dot-{}/{}.csv', 3)"
   ]
  }
 ],
 "metadata": {
  "name": "dot-on-dot.ipynb"
 },
 "nbformat": 4,
 "nbformat_minor": 2
}
