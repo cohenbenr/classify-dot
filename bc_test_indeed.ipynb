{
 "cells": [
  {
   "cell_type": "code",
   "execution_count": 1,
   "metadata": {},
   "outputs": [],
   "source": [
    "import time\n",
    "import pickle\n",
    "\n",
    "import pandas as pd\n",
    "import numpy as np\n",
    "\n",
    "from sklearn.pipeline import Pipeline\n",
    "from sklearn.metrics import accuracy_score\n",
    "from sklearn.linear_model import LogisticRegression\n",
    "\n",
    "#from scipy.sparse import vstack \n",
    "\n",
    "from validation.data import *\n",
    "from validation.scoring import bubbleup_score, BubbleUpMixin\n",
    "\n",
    "from src.model import StarSpace\n",
    "\n",
    "import torch\n",
    "import torch.nn as nn\n",
    "from torch import optim"
   ]
  },
  {
   "cell_type": "code",
   "execution_count": null,
   "metadata": {},
   "outputs": [],
   "source": [
    "SAMPLE_SIZE = 10000 #500000\n",
    "SOC_LEVEL = 2\n",
    "BUBBLE_UP = 2\n",
    "PROD = False"
   ]
  },
  {
   "cell_type": "code",
   "execution_count": null,
   "metadata": {},
   "outputs": [],
   "source": [
    "X_train, y_train = dot_train_data(SOC_LEVEL)\n",
    "X_test, y_test, ids = indeed_test_data('../data/us/everything.csv', SAMPLE_SIZE, SOC_LEVEL, use_gcs=True)\n",
    "if PROD == False:\n",
    "    noprod_idx = get_soc_n(y_train.astype(str), 2) != 51\n",
    "    X_train, y_train = X_train[noprod_idx], y_train[noprod_idx]"
   ]
  },
  {
   "cell_type": "code",
   "execution_count": null,
   "metadata": {},
   "outputs": [],
   "source": [
    "X_train = X_train.reset_index(drop=True)\n",
    "\n",
    "X_train.head()"
   ]
  },
  {
   "cell_type": "code",
   "execution_count": null,
   "metadata": {},
   "outputs": [],
   "source": [
    "path = 'lmd-classify-dot/ss-models/weights_2'\n",
    "fs = GCSFileSystem(project='labor-market-data')\n",
    "with fs.open(path) as f:\n",
    "    embeddings = pickle.load(f)\n",
    "\n",
    "# with open('weights_%s' % str(100000), 'rb') as f:\n",
    "#     embeddings = pickle.load(f)\n",
    "\n",
    "embeddings = torch.FloatTensor(embeddings)\n",
    "embeddings = nn.Embedding.from_pretrained(embeddings)"
   ]
  },
  {
   "cell_type": "code",
   "execution_count": null,
   "metadata": {},
   "outputs": [],
   "source": [
    "path = 'lmd-classify-dot/ss-models/train_vocab_2'\n",
    "fs = GCSFileSystem(project='labor-market-data')\n",
    "with fs.open(path) as f:\n",
    "    vocab = pickle.load(f)"
   ]
  },
  {
   "cell_type": "code",
   "execution_count": null,
   "metadata": {},
   "outputs": [],
   "source": [
    "# with open('train_vocab_%s' % str(100000), 'rb') as f:\n",
    "#     vocab = pickle.load(f)"
   ]
  },
  {
   "cell_type": "code",
   "execution_count": null,
   "metadata": {},
   "outputs": [],
   "source": [
    "model = StarSpace(\n",
    "    d_embed=100,\n",
    "    vocabulary=vocab,\n",
    "    k_neg = 10,\n",
    "    input_embedding = embeddings)"
   ]
  },
  {
   "cell_type": "code",
   "execution_count": null,
   "metadata": {},
   "outputs": [],
   "source": [
    "X_train_emb = np.empty([X_train.shape[0],100])\n",
    "X_test_emb = np.empty([X_test.shape[0],100])\n",
    "\n",
    "start_time = time.time()\n",
    "for i,doc in enumerate(X_train):\n",
    "    s = doc.replace('\\t',' ').split(' ')\n",
    "    X_train_emb[i] = model.embed_doc(s)\n",
    "print(time.time() - start_time)\n",
    "\n",
    "start_time = time.time()\n",
    "for i,doc in enumerate(X_test):\n",
    "    s = doc.replace('\\t',' ').split(' ')\n",
    "    X_test_emb[i] = model.embed_doc(s)\n",
    "print(time.time() - start_time)"
   ]
  },
  {
   "cell_type": "code",
   "execution_count": null,
   "metadata": {},
   "outputs": [],
   "source": [
    "class BubbleUpLogisticRegression(BubbleUpMixin, LogisticRegression):\n",
    "    pass"
   ]
  },
  {
   "cell_type": "code",
   "execution_count": null,
   "metadata": {},
   "outputs": [],
   "source": [
    "Bubbles = BubbleUpLogisticRegression(C=2., solver='lbfgs', class_weight='balanced', \n",
    "                                     multi_class=\"multinomial\", n_jobs=-1).set_bubbles(BUBBLE_UP)\n",
    "\n",
    "Bubbles.fit(X_train_emb,y_train)"
   ]
  },
  {
   "cell_type": "code",
   "execution_count": null,
   "metadata": {},
   "outputs": [],
   "source": [
    "y_pred = Bubbles.predict(X_test_emb)"
   ]
  },
  {
   "cell_type": "code",
   "execution_count": null,
   "metadata": {},
   "outputs": [],
   "source": [
    "accuracy_score(get_soc_n(y_test.astype(str), 2).astype(str), y_pred) "
   ]
  }
 ],
 "metadata": {
  "kernelspec": {
   "display_name": "Python 3",
   "language": "python",
   "name": "python3"
  },
  "language_info": {
   "codemirror_mode": {
    "name": "ipython",
    "version": 3
   },
   "file_extension": ".py",
   "mimetype": "text/x-python",
   "name": "python",
   "nbconvert_exporter": "python",
   "pygments_lexer": "ipython3",
   "version": "3.7.6"
  }
 },
 "nbformat": 4,
 "nbformat_minor": 4
}
